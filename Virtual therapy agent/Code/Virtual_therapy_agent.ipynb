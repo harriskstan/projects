{
  "cells": [
    {
      "cell_type": "markdown",
      "source": [
        "# **Introduction**\n",
        "\n",
        "This project presents a prototype of a virtual therapy agent designed to provide SE Asian users with access to mental health services in their native language.\n",
        "\n",
        "Utilizing LangGraph, we will develop an agentic workflow that involves translation, tool use for knowledge retrieval, and reflection. There is a demo at the end which showcases a short conversation between our agent and a user.\n",
        "\n",
        "To run this notebook, make sure to enter the required API keys (OpenAI and Tavily Search) and upload the various PDF files from the data folder in Github."
      ],
      "metadata": {
        "id": "In2caDQQAhun"
      }
    },
    {
      "cell_type": "code",
      "execution_count": null,
      "metadata": {
        "collapsed": true,
        "id": "LvWzRDAMUFJr"
      },
      "outputs": [],
      "source": [
        "%pip install --quiet -U langgraph langchain_openai langchain_community langchain_core tavily-python wikipedia\n",
        "%pip install openai chromadb\n",
        "%pip install -U langchain-chroma\n",
        "%pip install pypdf\n",
        "%pip install transformers torch\n",
        "%pip install langsmith"
      ]
    },
    {
      "cell_type": "code",
      "execution_count": 2,
      "metadata": {
        "id": "OYiCLq2fUZfD"
      },
      "outputs": [],
      "source": [
        "### Enter API keys\n",
        "from google.colab import userdata\n",
        "import os\n",
        "\n",
        "# Required\n",
        "os.environ[\"OPENAI_API_KEY\"] =  userdata.get('OPENAI_API_KEY')\n",
        "os.environ[\"TAVILY_API_KEY\"] =  userdata.get('TAVILY_API_KEY')\n",
        "\n",
        "# Optional\n",
        "os.environ[\"LANGCHAIN_TRACING_V2\"] = \"true\"\n",
        "os.environ[\"LANGCHAIN_ENDPOINT\"] = \"https://api.smith.langchain.com\"\n",
        "os.environ[\"LANGCHAIN_API_KEY\"] = userdata.get('LANGCHAIN_API_KEY')\n",
        "os.environ[\"LANGCHAIN_PROJECT\"] = \"default\""
      ]
    },
    {
      "cell_type": "code",
      "execution_count": 58,
      "metadata": {
        "id": "AxcJGSrIUl5z"
      },
      "outputs": [],
      "source": [
        "# Imports\n",
        "from IPython.display import Image, display, Markdown\n",
        "import textwrap, json\n",
        "import time, operator\n",
        "import markdown\n",
        "from bs4 import BeautifulSoup\n",
        "\n",
        "from langchain_openai import ChatOpenAI, OpenAIEmbeddings\n",
        "from langchain_core.messages import SystemMessage, HumanMessage, RemoveMessage, AIMessage\n",
        "from langchain_core.runnables import RunnableConfig\n",
        "\n",
        "from langgraph.checkpoint.memory import MemorySaver\n",
        "from langgraph.graph import StateGraph, START, END\n",
        "from langgraph.graph import MessagesState\n",
        "from langgraph.prebuilt import ToolNode\n",
        "\n",
        "from langchain_community.tools.tavily_search import TavilySearchResults\n",
        "from typing import List, TypedDict, Annotated\n",
        "from pydantic import BaseModel, Field\n",
        "from langchain.document_loaders import WebBaseLoader, UnstructuredURLLoader, PyPDFLoader\n",
        "from langchain.text_splitter import RecursiveCharacterTextSplitter\n",
        "\n",
        "from langchain.vectorstores import Chroma\n",
        "from langchain_chroma import Chroma\n",
        "from langchain_core.tools import tool\n",
        "\n",
        "import torch\n",
        "from transformers import MarianMTModel, MarianTokenizer, M2M100ForConditionalGeneration, M2M100Tokenizer\n",
        "\n",
        "# Function to print output with proper formatting\n",
        "def print_formatted_content(document, width=120):\n",
        "    print(textwrap.fill(document, width=width))"
      ]
    },
    {
      "cell_type": "code",
      "source": [
        "# Check if GPU is available\n",
        "gpu_info = !nvidia-smi\n",
        "gpu_info = '\\n'.join(gpu_info)\n",
        "if gpu_info.find('failed') >= 0:\n",
        "  print('Not connected to a GPU')\n",
        "else:\n",
        "  print(gpu_info)\n",
        "\n",
        "print(torch.cuda.is_available())"
      ],
      "metadata": {
        "id": "LGFXGbQFxoJa"
      },
      "execution_count": null,
      "outputs": []
    },
    {
      "cell_type": "markdown",
      "metadata": {
        "id": "FOjuUnudJAcJ"
      },
      "source": [
        "# **Setting up vector stores (one for each domain)**"
      ]
    },
    {
      "cell_type": "markdown",
      "metadata": {
        "id": "srfyaFmvbpIV"
      },
      "source": [
        "## Emotional and psychological issues"
      ]
    },
    {
      "cell_type": "code",
      "execution_count": null,
      "metadata": {
        "collapsed": true,
        "id": "e91DhPHHUpB-"
      },
      "outputs": [],
      "source": [
        "# List of URLs you want to load\n",
        "urls = [\n",
        "    \"https://www.helpguide.org/mental-health/treatment/therapy-for-anxiety-disorders\",\n",
        "    \"https://positivepsychology.com/cbt-cognitive-behavioral-therapy-techniques-worksheets/\",\n",
        "]\n",
        "\n",
        "# List of PDF file paths\n",
        "pdf_paths = ['emo-1.pdf', 'emo-2.pdf', 'emo-3.pdf']  # Replace with your actual PDF file paths\n",
        "\n",
        "# Initialize the WebBaseLoader with your list of URLs\n",
        "loader = WebBaseLoader(urls)\n",
        "\n",
        "# Load the data (this will return a list of Document objects)\n",
        "url_documents = loader.load()\n",
        "\n",
        "# Load PDF documents\n",
        "pdf_documents = []\n",
        "for pdf_path in pdf_paths:\n",
        "    pdf_loader = PyPDFLoader(pdf_path)\n",
        "    pdf_documents.extend(pdf_loader.load())  # Extend to add all PDF pages as documents\n",
        "\n",
        "# Combine the URL documents and PDF documents\n",
        "all_documents = url_documents + pdf_documents\n"
      ]
    },
    {
      "cell_type": "code",
      "execution_count": null,
      "metadata": {
        "id": "IY5GoDylXV8m"
      },
      "outputs": [],
      "source": [
        "# Preview the documents\n",
        "for idx, doc in enumerate(all_documents):\n",
        "    print(f\"Document {idx+1}:\\n\")\n",
        "    print(f\"Source: {doc.metadata['source']}\")\n",
        "    print(f\"Title: {doc.metadata.get('title', 'No title available')}\")\n",
        "    print(f\"Content:\\n{doc.page_content[:1000]}...\")  # Limiting to first 1000 characters for brevity\n",
        "    print(\"\\n\" + \"-\"*80 + \"\\n\")\n"
      ]
    },
    {
      "cell_type": "code",
      "execution_count": null,
      "metadata": {
        "colab": {
          "base_uri": "https://localhost:8080/"
        },
        "id": "Dkga2KPwams9",
        "outputId": "57710029-0a65-41f6-d7f4-e81a5ae88033"
      },
      "outputs": [
        {
          "name": "stdout",
          "output_type": "stream",
          "text": [
            "804\n",
            "2156\n"
          ]
        }
      ],
      "source": [
        "# Set up the text splitter with the desired chunk size and overlap\n",
        "text_splitter = RecursiveCharacterTextSplitter(chunk_size=1000, chunk_overlap=100)\n",
        "\n",
        "# Perform the chunking on the combined documents\n",
        "chunks = text_splitter.split_documents(all_documents)\n",
        "\n",
        "# Confirm more chunks than documents\n",
        "print(len(all_documents))\n",
        "print(len(chunks))"
      ]
    },
    {
      "cell_type": "code",
      "execution_count": null,
      "metadata": {
        "colab": {
          "base_uri": "https://localhost:8080/"
        },
        "id": "Tj3GtWC5pyib",
        "outputId": "ec062af5-d920-4440-ad26-b1337c9d8b76"
      },
      "outputs": [
        {
          "name": "stderr",
          "output_type": "stream",
          "text": [
            "<ipython-input-7-4727399f3ece>:1: LangChainDeprecationWarning: The class `OpenAIEmbeddings` was deprecated in LangChain 0.0.9 and will be removed in 1.0. An updated version of the class exists in the :class:`~langchain-openai package and should be used instead. To use it run `pip install -U :class:`~langchain-openai` and import as `from :class:`~langchain_openai import OpenAIEmbeddings``.\n",
            "  embedding = OpenAIEmbeddings()\n"
          ]
        },
        {
          "name": "stdout",
          "output_type": "stream",
          "text": [
            "Chroma vector store created and persisted.\n"
          ]
        }
      ],
      "source": [
        "embedding = OpenAIEmbeddings()\n",
        "\n",
        "# Directory to store the persistent Chroma database\n",
        "persist_directory = \"emo-store\"\n",
        "\n",
        "# Create the Chroma vector store from the documents and embeddings\n",
        "vector_store = Chroma.from_documents(\n",
        "    documents=chunks,          # Your chunked documents\n",
        "    embedding=embedding,       # The OpenAI embeddings\n",
        "    persist_directory=persist_directory  # Directory to persist the database\n",
        ")\n",
        "\n",
        "print(\"Chroma vector store created and persisted.\")"
      ]
    },
    {
      "cell_type": "markdown",
      "metadata": {
        "id": "7ARH8JcvwKmh"
      },
      "source": [
        "## Relationship and family issues"
      ]
    },
    {
      "cell_type": "code",
      "execution_count": null,
      "metadata": {
        "id": "bnE6H4jFvVc2"
      },
      "outputs": [],
      "source": [
        "# List of URLs you want to load\n",
        "urls = [\n",
        "    \"https://link.springer.com/article/10.1007/s10591-021-09614-5\",\n",
        "    \"https://www.ncbi.nlm.nih.gov/pmc/articles/PMC2885699/\",\n",
        "    \"https://positivepsychology.com/family-therapy-techniques/\"\n",
        "]\n",
        "\n",
        "# List of PDF file paths\n",
        "pdf_paths = ['family-1.pdf', 'family-2.pdf', 'family-3.pdf', 'family-4.pdf', 'family-5.pdf']  # Replace with your actual PDF file paths\n",
        "\n",
        "# Initialize the WebBaseLoader with your list of URLs\n",
        "loader = WebBaseLoader(urls)\n",
        "\n",
        "# Load the data (this will return a list of Document objects)\n",
        "url_documents = loader.load()\n",
        "\n",
        "# Load PDF documents\n",
        "pdf_documents = []\n",
        "for pdf_path in pdf_paths:\n",
        "    pdf_loader = PyPDFLoader(pdf_path)\n",
        "    pdf_documents.extend(pdf_loader.load())  # Extend to add all PDF pages as documents\n",
        "\n",
        "# Combine the URL documents and PDF documents\n",
        "all_documents = url_documents + pdf_documents\n"
      ]
    },
    {
      "cell_type": "code",
      "execution_count": null,
      "metadata": {
        "colab": {
          "base_uri": "https://localhost:8080/"
        },
        "id": "xcOFxd923F5T",
        "outputId": "6ec8e56b-af78-4581-cad9-ab1b54fae71c"
      },
      "outputs": [
        {
          "name": "stdout",
          "output_type": "stream",
          "text": [
            "1368\n",
            "6731\n"
          ]
        }
      ],
      "source": [
        "# Set up the text splitter with the desired chunk size and overlap\n",
        "text_splitter = RecursiveCharacterTextSplitter(chunk_size=1000, chunk_overlap=100)\n",
        "\n",
        "# Perform the chunking on the combined documents\n",
        "chunks = text_splitter.split_documents(all_documents)\n",
        "\n",
        "# Confirm more chunks than documents\n",
        "print(len(all_documents))\n",
        "print(len(chunks))"
      ]
    },
    {
      "cell_type": "code",
      "execution_count": null,
      "metadata": {
        "colab": {
          "base_uri": "https://localhost:8080/"
        },
        "id": "2cT4Gv9r3a5P",
        "outputId": "a24c9d11-b9d9-49aa-ff04-3f027be20f2a"
      },
      "outputs": [
        {
          "name": "stdout",
          "output_type": "stream",
          "text": [
            "Chroma vector store created and persisted.\n"
          ]
        }
      ],
      "source": [
        "embedding = OpenAIEmbeddings()\n",
        "\n",
        "# Directory to store the persistent Chroma database\n",
        "persist_directory = \"family-store\"\n",
        "\n",
        "# Create the Chroma vector store from the documents and embeddings\n",
        "vector_store = Chroma.from_documents(\n",
        "    documents=chunks,          # Your chunked documents\n",
        "    embedding=embedding,       # The OpenAI embeddings\n",
        "    persist_directory=persist_directory  # Directory to persist the database\n",
        ")\n",
        "\n",
        "print(\"Chroma vector store created and persisted.\")"
      ]
    },
    {
      "cell_type": "markdown",
      "metadata": {
        "id": "_NMozYL94kg9"
      },
      "source": [
        "## Workplace and Career Issues"
      ]
    },
    {
      "cell_type": "code",
      "execution_count": null,
      "metadata": {
        "colab": {
          "background_save": true
        },
        "id": "T3IEuj0M4jOr"
      },
      "outputs": [],
      "source": [
        "# List of PDF file paths\n",
        "pdf_paths = ['work-1.pdf', 'work-2.pdf', 'work-3.pdf', 'work-4.pdf', 'work-5.pdf', 'work-6.pdf', 'work-7.pdf']  # Replace with your actual PDF file paths\n",
        "\n",
        "# Load PDF documents\n",
        "pdf_documents = []\n",
        "for pdf_path in pdf_paths:\n",
        "    pdf_loader = PyPDFLoader(pdf_path)\n",
        "    pdf_documents.extend(pdf_loader.load())  # Extend to add all PDF pages as documents\n",
        "\n",
        "# Combine the URL documents and PDF documents\n",
        "all_documents = pdf_documents"
      ]
    },
    {
      "cell_type": "code",
      "execution_count": null,
      "metadata": {
        "colab": {
          "background_save": true
        },
        "id": "mYv71mhEIAdn",
        "outputId": "2122a5e8-fce2-4988-a44c-11cc97647b01"
      },
      "outputs": [
        {
          "name": "stdout",
          "output_type": "stream",
          "text": [
            "2442\n",
            "8150\n"
          ]
        }
      ],
      "source": [
        "# Set up the text splitter with the desired chunk size and overlap\n",
        "text_splitter = RecursiveCharacterTextSplitter(chunk_size=1000, chunk_overlap=100)\n",
        "\n",
        "# Perform the chunking on the combined documents\n",
        "chunks = text_splitter.split_documents(all_documents)\n",
        "\n",
        "# Confirm more chunks than documents\n",
        "print(len(all_documents))\n",
        "print(len(chunks))"
      ]
    },
    {
      "cell_type": "code",
      "execution_count": null,
      "metadata": {
        "colab": {
          "background_save": true
        },
        "id": "BD_oUoC4IeeW",
        "outputId": "2edc4eaa-ccd2-4fdf-8e5e-f91cc43bad2e"
      },
      "outputs": [
        {
          "name": "stdout",
          "output_type": "stream",
          "text": [
            "Chroma vector store created and persisted.\n"
          ]
        }
      ],
      "source": [
        "embedding = OpenAIEmbeddings()\n",
        "\n",
        "# Directory to store the persistent Chroma database\n",
        "persist_directory = \"work-store\"\n",
        "\n",
        "# Create the Chroma vector store from the documents and embeddings\n",
        "vector_store = Chroma.from_documents(\n",
        "    documents=chunks,          # Your chunked documents\n",
        "    embedding=embedding,       # The OpenAI embeddings\n",
        "    persist_directory=persist_directory  # Directory to persist the database\n",
        ")\n",
        "\n",
        "print(\"Chroma vector store created and persisted.\")"
      ]
    },
    {
      "cell_type": "markdown",
      "source": [
        "# **Loading vector stores (skip)**"
      ],
      "metadata": {
        "id": "qG5SUV8rwG7K"
      }
    },
    {
      "cell_type": "code",
      "source": [
        "from google.colab import drive\n",
        "drive.mount('/content/drive')\n",
        "\n",
        "!cp -r \"/content/drive/MyDrive/Colab Notebooks/emo-store\" /content/\n",
        "!cp -r \"/content/drive/MyDrive/Colab Notebooks/family-store\" /content/\n",
        "!cp -r \"/content/drive/MyDrive/Colab Notebooks/work-store\" /content/"
      ],
      "metadata": {
        "id": "SzKNxLuJwOJ2"
      },
      "execution_count": null,
      "outputs": []
    },
    {
      "cell_type": "markdown",
      "metadata": {
        "id": "1q3cygibJbF-"
      },
      "source": [
        "# **Testing retrieval on each vector store**"
      ]
    },
    {
      "cell_type": "code",
      "execution_count": 6,
      "metadata": {
        "colab": {
          "base_uri": "https://localhost:8080/"
        },
        "collapsed": true,
        "id": "YtElIq_hIi6q",
        "outputId": "97ceefa6-829f-4eb2-ba8a-693878bddbf3"
      },
      "outputs": [
        {
          "output_type": "stream",
          "name": "stdout",
          "text": [
            "[{'metadata': {'page': 12, 'source': 'emo-1.pdf'}, 'page_content': 'that he/she is starting over again. •Grief is an\n",
            "exhausting process physically and emotionally, so it is important to encourage the bereaved to take extra care of\n",
            "themselves by eating balanced meals, drinking plenty of water, getting enough sleep, exercising regularly and limiting\n",
            "alcohol and other mind-altering drugs, as they can hinder the grief process. •Suggest that they be patient not only with\n",
            "themselves but with others who may not understand what they are feeling. •Remind them to have realistic expectations\n",
            "about how quickly they will heal from the pain of grief. •Encourage them to take one day at a time. At times, it might\n",
            "be easier to break the day into manageable increments. •Suggest that they start slowly to return to their normal routine\n",
            "by doing small customary chores such as shopping. •One grief therapist suggests that the bereaved set goals for\n",
            "themselves for six months at a time, picking two or three realistic goals and establishing a deadline to accomplish\n",
            "them.'}, {'metadata': {'page': 11, 'source': 'emo-1.pdf'}, 'page_content': 'bereaved with coping: •Create a helping\n",
            "environment by finding a quiet, private place to talk and projecting warmth, interest, and respect. •Use the past tense,\n",
            "use the deceased’s name, and use words such as “death,” “died,” and “dead.” •Begin the first encounter by asking the\n",
            "bereaved to tell you about the death. •Ask him or her about any funeral or memorial services. •Ask him or her about what\n",
            "has been happening since the death (e.g., how have things been with friends and family, is he/she able to talk openly\n",
            "about the deceased). •Ask the following questions to encourage them to reflect on their grief reaction: o Some people\n",
            "have trouble eating or sleeping after they have lost someone they love. Are you eating okay? o Are you getting out of\n",
            "the house and engaging in any former activities or hobbies? o Is there anything bothering you in particular these days?\n",
            "•Ask about other difficult times in his/her life. Were these recent or in the past? How someone has responded to past\n",
            "losses'}, {'metadata': {'page': 12, 'source': 'emo-1.pdf'}, 'page_content': '•Help them examine their special qualities\n",
            "and talents that endeared them to the deceased. •Most grief experts warn against making a drastic change too soon after\n",
            "the death of a loved one (examples include moving to a new home, getting into a new relationship). These premature\n",
            "changes are often viewed as an attempt to “run away” from the pain of grief. •Remind the survivor that it is normal to\n",
            "feel overwhelmed by the intensity of his/her feelings. •Help him/her identify feelings of loss and feel pain.\n",
            "Acknowledge that pain is a part of the grief experience, but reassure him/her the pain will not always be so intense.\n",
            "•Give him/her permission to cry. •Give him/her permission to feel relieved if he/she does. •Acknowledge that setbacks do\n",
            "happen and not to panic. Explain that it may feel like an emotional roller coaster at times, but that these are merely\n",
            "remnants of grief and not a signal that he/she is starting over again. •Grief is an exhausting process physically and\n",
            "emotionally, so'}, {'metadata': {'page': 11, 'source': 'emo-1.pdf'}, 'page_content': '7.Take a break from grieving, and\n",
            "allow the child to take a break from grieving. Children may need more time than adults to smile, laugh, and have fun,\n",
            "and may even require it to heal (The Dougy Center, n.d.). Following these tips will help you ensure that you are giving\n",
            "your child (or children) the love and support they need while coping with loss. If you are a mental health professional,\n",
            "remember to pass along this advice to the parents of grieving children, and apply the principles in your own practice.\n",
            "How to Provide Grief Counseling in Hospice Care Hospice care is one of the most emotionally exhausting fields to work\n",
            "in, as you are dealing with grief and loss every day. While there are some aspects of an expected loss that make it\n",
            "easier to cope with, that certainly doesn’t mean it’s easy. VITAS Healthcare recommends the following techniques for\n",
            "providing support and assisting the bereaved with coping: •Create a helping environment by finding a quiet, private\n",
            "place to talk and'}]\n"
          ]
        }
      ],
      "source": [
        "# Load the persisted Chroma vector store\n",
        "embedding = OpenAIEmbeddings()\n",
        "vector_store = Chroma(\n",
        "    persist_directory=\"emo-store\",  # Directory where you saved the vector store\n",
        "    embedding_function=embedding          # OpenAI embeddings\n",
        ")\n",
        "\n",
        "# Initialize a retriever from the vector store\n",
        "retriever = vector_store.as_retriever()\n",
        "\n",
        "# Define your query\n",
        "query = \"My patient is suffering from grief from loss of parents\"\n",
        "\n",
        "# Retrieve relevant documents using the retriever\n",
        "retrieved_docs = retriever.invoke(query)\n",
        "\n",
        "# Convert each retrieved document to a JSON-friendly dictionary\n",
        "retrieved_docs_json = []\n",
        "for doc in retrieved_docs:\n",
        "    doc_dict = {\n",
        "        \"metadata\": doc.metadata,    # Metadata such as source, page, etc.\n",
        "        \"page_content\": doc.page_content  # The actual text content of the document\n",
        "    }\n",
        "    retrieved_docs_json.append(doc_dict)\n",
        "\n",
        "# Convert the list of dictionaries to JSON\n",
        "json_output = json.dumps(retrieved_docs_json)\n",
        "\n",
        "print_formatted_content(str(retrieved_docs_json))"
      ]
    },
    {
      "cell_type": "code",
      "execution_count": 7,
      "metadata": {
        "colab": {
          "base_uri": "https://localhost:8080/"
        },
        "collapsed": true,
        "id": "yN7njcVgKzgC",
        "outputId": "c60bcfce-def7-493d-a800-bc7225fff5bd"
      },
      "outputs": [
        {
          "output_type": "stream",
          "name": "stdout",
          "text": [
            "[{'metadata': {'page': 96, 'source': 'family-1.pdf'}, 'page_content': 'Then the therapist shifted to open a discussion\n",
            "of the \\nwife’s role in the couple’s difficulties. “So, you’re getting better  \\nat taking responsibility for the\n",
            "drinking and the behavior connected with it? Do you think your wife appreciates what you’re doing and the progress\n",
            "you’re making?” And then a few minutes later: “Has your wife ever been able to talk to \\nyou about the things she’s\n",
            "contributed to the relationship \\ngoing sour?”\\nWhen the therapist asked the wife about her think-\\ning, she reiterated\n",
            "all the annoying things her husband was \\ndoing—pressuring her to forgive him and get back together. \\nAlthough he would\n",
            "eventually like her to consider her own role in the process, the therapist tried to empathize with her upset. “So, he’s\n",
            "just bugging you by trying to get you to change your mind?” Then after a few minutes, the therapist \\ntried to shift the\n",
            "wife to thinking more and feeling less.'}, {'metadata': {'page': 106, 'source': 'family-2.pdf'}, 'page_content': \"What\n",
            "one thing could my partner do next time to ovo id this \\nproblem?  \\n \\n \\nAs you work through the exercises above,\n",
            "you'll bec ome more \\nadept at turning toward each other regularly, and t he bond of \\ncamaraderie with your spouse will\n",
            "deepen. This more  profound \\nfriendship will be a powerful shield against confli ct. It may not \\nforestall every\n",
            "argument, but it can prevent your d ifferences of \\nopinion from overwhelming your relationship. One of  the ways\n",
            "\\nfriendship does this is by helping to balance the p ower between \\nhusband and wife.\"}, {'metadata': {'page': 222,\n",
            "'source': 'family-1.pdf'}, 'page_content': '3. Wait until you’re not angry before bringing up a problem to be solved.\n",
            "Raise concerns directly but gently.\\nShe was furious that he took her father’s side against her in an argument. But she\n",
            "decided not to say anything until \\nshe calmed down. The following night after supper she began by saying, “Honey, I\n",
            "want to talk about something I’m feeling, but I’m afraid to because it might make you mad.” Emphasizing that it was her\n",
            "feelings and saying she was concerned about how he might react helped put him in a receptive mood.\\n4. Think of the two\n",
            "of you as a team working against the problem.\\nInstead of battling over his “coldness” and her “dependency,” they\n",
            "started talking about how they could adjust \\nfor their “different comfort levels.” As a result, they planned their next\n",
            "vacation so they could play golf and tennis \\ntogether, and she could visit friends while he took one day off for\n",
            "fishing.\\n5. Be sure you understand your partner’s concerns before trying to work on a solution.'}, {'metadata':\n",
            "{'page': 111, 'source': 'family-1.pdf'}, 'page_content': 'Grasping the clients’ unique language and ways of \\nseeing\n",
            "their dilemmas is important to framing suggestions in ways they will accept. For example, a devoutly religious wife\n",
            "might be amenable to the suggestion that she pray for her husband to become more involved with the fam -\\nily rather\n",
            "than continue to criticize his failings. In another case, cited by Shoham and Rohrbaugh (2002), a young woman was seen\n",
            "as perpetuating her boyfriend’s jealous accusations by trying to reassure him. Unfortunately, these efforts to reason\n",
            "with the boyfriend only ended up in argu-ments, which were painful enough to threaten the relation-ship. Because the\n",
            "woman was a devotee of mindfulness meditation, the therapist suggested that the next time the\n",
            "\\nM05_NICH3062_12_SE_C05.indd   85 14/12/2019   16:01'}]\n"
          ]
        }
      ],
      "source": [
        "# Load the persisted Chroma vector store\n",
        "embedding = OpenAIEmbeddings()\n",
        "vector_store = Chroma(\n",
        "    persist_directory=\"family-store\",  # Directory where you saved the vector store\n",
        "    embedding_function=embedding          # OpenAI embeddings\n",
        ")\n",
        "\n",
        "# Initialize a retriever from the vector store\n",
        "retriever = vector_store.as_retriever()\n",
        "\n",
        "# Define your query\n",
        "query = \"How to help my patient to mend his relationship with his wife\"\n",
        "\n",
        "# Retrieve relevant documents using the retriever\n",
        "retrieved_docs = retriever.invoke(query)\n",
        "\n",
        "# Convert each retrieved document to a JSON-friendly dictionary\n",
        "retrieved_docs_json = []\n",
        "for doc in retrieved_docs:\n",
        "    doc_dict = {\n",
        "        \"metadata\": doc.metadata,    # Metadata such as source, page, etc.\n",
        "        \"page_content\": doc.page_content  # The actual text content of the document\n",
        "    }\n",
        "    retrieved_docs_json.append(doc_dict)\n",
        "\n",
        "# Convert the list of dictionaries to JSON\n",
        "json_output = json.dumps(retrieved_docs_json)\n",
        "\n",
        "print_formatted_content(str(retrieved_docs_json))"
      ]
    },
    {
      "cell_type": "code",
      "execution_count": 8,
      "metadata": {
        "colab": {
          "base_uri": "https://localhost:8080/"
        },
        "collapsed": true,
        "id": "TxPOBv6rNP0H",
        "outputId": "7d26f83d-9fca-4f75-de00-551df271a6c6"
      },
      "outputs": [
        {
          "output_type": "stream",
          "name": "stdout",
          "text": [
            "[{'metadata': {'page': 133, 'source': 'work-3.pdf'}, 'page_content': 'mental stress. Razin, Swencionis, and Zohman\n",
            "(1986-1987) \\nfound modest improvement in Type A behaviors as the result \\nof a group cognitive-behavioral intervention\n",
            "program, with most \\nimprovement noted for those highest on Type A behavior prior \\nto intervention and for men.\n",
            "\\nWorkplace factors appear to be at least as important as indi- \\nvidual differences in understanding the construct of\n",
            "burnout. To \\nthe extent that emotional exhaustion is a major if not primary \\nfactor in burnout, addressing the job\n",
            "components associated with \\nit may be significant (Riggar, Garner, & Hafer, 1984). For some \\nseriously afflicted\n",
            "employees, temporary withdrawal from the \\njob (or certain phases of it) may be necessary (Ursprung, 1986). \\nFor\n",
            "others, less drastic approaches may be taken, including phys- \\nical exercise, relaxation techniques (Watkins, 1983),\n",
            "and other \\nexhaustion-combatting activities; viewing the job and what one \\ncan realistically accomplish in it more\n",
            "objectively; and reducing'}, {'metadata': {'page': 125, 'source': 'work-3.pdf'}, 'page_content': 'ers. Women may be more\n",
            "likely than men to experience conflict \\nbetween family and work as a cause of burnout and to have \\nsocial support\n",
            "moderate the experience of burnout; for men, \\nwork stress alone may be more determinative of burnout (Etzion, \\n1984;\n",
            "Greenglass & Burke, 1988). However, having children may \\nalso moderate the experience of burnout. Maslach and Jackson\n",
            "\\n(1985) found employees with children to be at lower risk for job \\nburnout than those without. In contrast, Greenglass\n",
            "et al. (1990) \\nfound that, for men, the addition of children to work stress sig- \\nnificantly increased the likelihood\n",
            "of burnout. \\nIn addition to the differences in causes of burnout for men \\nand women, occupational differences\n",
            "presumably interact with \\ngender to moderate the propensity for burnout and the ability \\nto cope with factors\n",
            "predisposing to burnout. Lemkau, Rafferty, \\nPurdy, and Rudisill (1987), for example, found that in a sample \\nof male\n",
            "and female physicians, women reported themselves to'}, {'metadata': {'page': 134, 'source': 'work-3.pdf'},\n",
            "'page_content': 'PATTERNS OF OVERCOMMITMENT 135 \\non emotional exhaustion scales decreased as the result of par-\n",
            "\\nticipation in either of two stress reduction programs, one focusing \\non physical relaxation techniques and the other\n",
            "an amalgam of \\nrational-emotive counseling and assertiveness training (even \\nthough there is some evidence that\n",
            "assertiveness is unrelated to \\nburnout; see Nagy, 1985). There was no difference in the relative \\neffectiveness of the\n",
            "two programs. Pines and Aronson (1983) \\nfound a small effect six months later for a one-day group inter- \\nvention on\n",
            "burnout. \\nAlthough a number of methods have been suggested, pri- \\nmarily group intervention programs in the workplace\n",
            "(Bair & \\nGreenspan, 1986; M. Richardson & West, 1982; Spicuzza & \\ndeVoe, 1982), most are broad-spectrum programs that\n",
            "encom- \\npass multiple components and have yet to receive adequate re- \\nsearch evaluation to establish their\n",
            "effectiveness and general- \\nizability .'}, {'metadata': {'page': 129, 'source': 'work-3.pdf'}, 'page_content': '130\n",
            "COUNSELING AND PSYCHOTHERAPY OF WORK DYSFUNCTIONS \\nSkitka, 1988). Although burnout may also result in greater ab-\n",
            "\\nsenteeism and turnover (Harris, 1988; Jackson, Schwab, & Schu- \\nler, 1986; Kahill, 1988; Masterson-Allen, Mor, &\n",
            "Laliberte, 1987) \\nand in increased risk of physical impairment (Belcastro, 1982; \\nBelcastro & Hays, 1984), the\n",
            "relations to specific aspects of burn- \\nout appear to be complex. H. Firth and Britton (1989) reported \\nin a\n",
            "longitudinal study different predictors of burnout at its dif- \\nferent stages. Short-term absences were predicted by\n",
            "burnout \\nscores early on, emotional exhaustion and perceived lack of sup- \\nport predicted absenteeism in the next year\n",
            "of employment, and \\nleaving the job was predicted by depersonalization in the next \\ntwo years. This would imply that\n",
            "differential aspects of burnout \\nwould predict consequences of work dysfunction at different \\nphases of employment.\n",
            "\\nCharacteristics of the work and of the work organization may'}]\n"
          ]
        }
      ],
      "source": [
        "# Load the persisted Chroma vector store\n",
        "embedding = OpenAIEmbeddings()\n",
        "vector_store = Chroma(\n",
        "    persist_directory=\"work-store\",  # Directory where you saved the vector store\n",
        "    embedding_function=embedding          # OpenAI embeddings\n",
        ")\n",
        "\n",
        "# Initialize a retriever from the vector store\n",
        "retriever = vector_store.as_retriever()\n",
        "\n",
        "# Define your query\n",
        "query = \"How to prevent burnout at work\"\n",
        "\n",
        "# Retrieve relevant documents using the retriever\n",
        "retrieved_docs = retriever.invoke(query)\n",
        "\n",
        "# Convert each retrieved document to a JSON-friendly dictionary\n",
        "retrieved_docs_json = []\n",
        "for doc in retrieved_docs:\n",
        "    doc_dict = {\n",
        "        \"metadata\": doc.metadata,    # Metadata such as source, page, etc.\n",
        "        \"page_content\": doc.page_content  # The actual text content of the document\n",
        "    }\n",
        "    retrieved_docs_json.append(doc_dict)\n",
        "\n",
        "# Convert the list of dictionaries to JSON\n",
        "json_output = json.dumps(retrieved_docs_json)\n",
        "\n",
        "print_formatted_content(str(retrieved_docs_json))"
      ]
    },
    {
      "cell_type": "code",
      "execution_count": 9,
      "metadata": {
        "colab": {
          "base_uri": "https://localhost:8080/"
        },
        "collapsed": true,
        "id": "GIjfM2XGOtJ2",
        "outputId": "59647d9e-9caf-4856-988f-0ead224e041b"
      },
      "outputs": [
        {
          "output_type": "execute_result",
          "data": {
            "text/plain": [
              "[{'url': 'https://www.amenclinics.com/blog/9-practical-ways-to-stop-arguing-with-your-spouse/',\n",
              "  'content': '9 Practical Ways to Stop Arguing with Your Spouse | Amen Clinics Amen Clinics Personality Disorders eBook Personality Disorders eBook 9 Practical Ways to Diffuse Arguments With Your Spouse Instead of blaming and pointing the finger at their behavior with “you” statements, use “I” statements and share how you are feeling, your perspective, and what you are needing. If you find yourself getting defensive and starting to justify yourself, your spouse will likely feel attacked, and an argument will probably escalate. It’s very easy to look at your spouse’s behavior and make it a personal affront. Of course, there are a number of brain health issues that can fuel conflict in marriages, including unresolved trauma, anxiety, depression, ADD/ADHD, and more.'},\n",
              " {'url': 'https://www.fatherly.com/life/most-common-arguments-married-couples',\n",
              "  'content': 'Chores\\nWhile there’s evidence that chores become less of a hotspot for couples once children grow up and move out of the house, for parents of young children, chores represent 25.1 percent of fights for husbands and 24.1 percent of wives. Habits\\nIt’s surprising that chewing loudly, a lack of punctuality, or looking at your phone too much would outweigh cheating on your spouse in terms of conflicts, but husbands reported that fights about bad habits made up 16.2 percent of total arguments, compared to 17.1 percent for wives. Part of the reason why communication comprised 21.1 percent of conflicts for husbands and 21.8 percent of conflicts for wives is that men and women are socialized to communicate in very different ways. Other evidence indicates that husbands are not intentionally averse to helping, but when women gate-keep housework or act like experts about how chores are supposed to be done, men tend to see it as a power struggle and are less likely to help. For instance, one study found that when wives reported high levels of closeness with their in-laws early on in the marriage, they experienced a 20 percent higher risk of divorce — but when husbands reported the same closeness, they were at about a 20 percent lower risk.'},\n",
              " {'url': 'https://www.marriage.com/advice/relationship/how-to-handle-arguments-in-relationship/',\n",
              "  'content': 'Relationship expert and therapist Dr. John Gottman refers to these argument styles as the “Four Horsemen,” and he has found that they are likely to lead to divorce or breakup because they increase conflict. It is pretty well-established that a relationship without arguments or fights isn’t likely because there will always be differences between you and your partner, even in a healthy relationship. It can even soften an argument if you remind your partner that you love them and want to resolve this for the benefit of the relationship. On the other hand, learning how to resolve an argument with your partner through healthy, productive means can improve communication and increase relationship satisfaction.'},\n",
              " {'url': 'https://www.bustle.com/articles/177777-why-your-partner-is-so-argumentative-and-how-to-work-on-it',\n",
              "  'content': \"“People who are argumentative most likely are either very unhappy themselves and can't find other healthy ways to communicate this unhappiness, or have learned this behavior from their parents,” life coach Kali Rogers tells Bustle. “Some partners are argumentative because it’s their nature,” New York–based relationship expert and author April Masini tells Bustle. Some partners are argumentative because they’re angry about something in the relationship, but rather than deal with it directly, they pick at every opportunity and arguing is the best way for them to do this.” “There are a few ways to deal with argumentative partners,” she says. “Also, they may have only had partners who were either argumentative as well, or did not try to work on this behavior and them having healthier interactions.” It’s not going to fly in your relationship, though.\"},\n",
              " {'url': 'https://thehealthymarriage.org/can-a-marriage-survive-constant-arguing/',\n",
              "  'content': 'Excessive fighting can cause one or both partners to withdraw emotionally. 4 Steps To Get A Grip On Conflict And Stop Constant Arguing. Step 1- Take a Break From Arguing. Step 2- Stop Playing the Blame Game. Step 3- Try to See Things from Their Point of View. Step 4- Learn from Your Mistakes & How They Made You Feel.'}]"
            ]
          },
          "metadata": {},
          "execution_count": 9
        }
      ],
      "source": [
        "web_search_tool = TavilySearchResults()\n",
        "\n",
        "web_search_tool.invoke({\"query\": \"Husband and wife arguments\"})"
      ]
    },
    {
      "cell_type": "markdown",
      "metadata": {
        "id": "qt88IKXo4UTB"
      },
      "source": [
        "# **Formalizing tools for agent**"
      ]
    },
    {
      "cell_type": "code",
      "execution_count": 10,
      "metadata": {
        "id": "3_nIYiR8-RpU"
      },
      "outputs": [],
      "source": [
        "@tool\n",
        "def get_emotional_psychological_resources(query: str) -> str:\n",
        "    \"\"\"Obtain knowledge related to emotional and psychological issues.\n",
        "    Useful for therapists dealing with people suffering from conditions such as anxiety, depression and grief.\n",
        "\n",
        "    Args:\n",
        "        query: str, a query string that will be used to search for relevant information from this knowledge base. This should be a full sentence that describes the specific issue the human is facing in the context of your conversation.\n",
        "    \"\"\"\n",
        "    # Load the persisted Chroma vector store\n",
        "    embedding = OpenAIEmbeddings()\n",
        "    vector_store = Chroma(\n",
        "        persist_directory=\"emo-store\",  # Directory where you saved the vector store\n",
        "        embedding_function=embedding          # OpenAI embeddings\n",
        "    )\n",
        "\n",
        "    # Initialize a retriever from the vector store\n",
        "    retriever = vector_store.as_retriever()\n",
        "\n",
        "    # Retrieve relevant documents using the retriever\n",
        "    retrieved_docs = retriever.invoke(query)\n",
        "\n",
        "    # Convert each retrieved document to a JSON-friendly dictionary\n",
        "    retrieved_docs_json = []\n",
        "    for doc in retrieved_docs:\n",
        "        doc_dict = {\n",
        "            \"metadata\": doc.metadata,    # Metadata such as source, page, etc.\n",
        "            \"page_content\": doc.page_content  # The actual text content of the document\n",
        "        }\n",
        "        retrieved_docs_json.append(doc_dict)\n",
        "\n",
        "    # Convert the list of dictionaries to JSON\n",
        "    json_output = json.dumps(retrieved_docs_json)\n",
        "\n",
        "    return json_output"
      ]
    },
    {
      "cell_type": "code",
      "execution_count": 11,
      "metadata": {
        "colab": {
          "base_uri": "https://localhost:8080/"
        },
        "id": "sM01LiTbCG00",
        "outputId": "fe4e68e4-b845-4e22-f8b5-7c6fe5ca0b5e"
      },
      "outputs": [
        {
          "output_type": "stream",
          "name": "stdout",
          "text": [
            "[{\"metadata\": {\"page\": 218, \"source\": \"emo-3.pdf\"}, \"page_content\": \"doing as many activities that are enjoyable or\n",
            "pleasurable, and having diffi  culty \\u201cgetting \\nstarted\\u201d with activities. Physical symptoms include insomnia,\n",
            "sleeping more or less than usual, being tired, eating less or more, and weight change. The emotional symptoms \\nof\n",
            "depression can include feelings of sadness, irritability, anger, guilt, and nervousness. \\nFigure  13.1 illustrates the\n",
            "profi  le of depression symptoms.\\nFIGUre 13.1.\\u2002 Profi  le of depression symptoms.\\u2022\n",
            "/FHBUJWF\\u0001UIPVHIUT\\u0001BCPVU\\u0001POFTFMG\\n\\u0001 \\tTFMG\\u000eDSJUJDJTN\\n\\u2022\n",
            "/FHBUJWF\\u0001UIPVHIUT\\u0001BCPVU\\u0001MJGF\\u0001\\n\\u0001 FYQFSJFODF\\u0001\\tQFTTJNJTN\\n\\u2022\n",
            "/FHBUJWF\\u0001UIPVHIUT\\u0001BCPVU\\u0001\\n\\u2022 8JUIESBXJOH\\u0001GSPN\\u0001PUIFS\\u0001QFPQMF\\n\\u2022\n",
            "%PJOH\\u0001GFXFS\\u0001BDUJWJUJFT\\n\\u2022 %J\\u248fDVMUZ\\u0001HFUUJOH\\u0001TUBSUFE\\u0001EPJOH\\u0001UIJOHT\\n\\u2022\n",
            "-PX\\u0001NPUJWBUJPO\\u2022 %FQSFTTFE\\n\\u2022 4BE\\n\\u2022 *SSJUBCMF\\n\\u2022 (VJMUZ\\n\\u2022\n",
            "%J\\u248fDVMUZ\\u0001TMFFQJOH\\n\\u2022 &BUJOH\\u0001MFTT\\u0001PS\\u0001NPSF\\n\\u2022\n",
            "#FJOH\\u0001UJSFEUIF\\u0001GVUVSF\\u0001\\tIPQFMFTTOFTT\\n5IPVHIUT\\n#FIBWJPST 1IZTJDBM.PPET\"}, {\"metadata\": {\"page\": 311,\n",
            "\"source\": \"emo-3.pdf\"}, \"page_content\": \"whenever his mood dipped for a few days, he ignored phone calls and thought\n",
            "about \\nways to avoid getting together with friends and family. When Ben stopped answering phone calls and looked for\n",
            "reasons not to see people, he recognized these as early warn -\\ning signs that his depression might be returning.\\nYour\n",
            "early warning signs may be behaviors that you do or don\\u2019t do (e.g., staying \\nin bed longer, procrastinating more,\n",
            "avoiding situations or people), thoughts (negative, \\nworried, self-  critical), moods (a rise in Mind Over Mood\n",
            "Depression Inventory or Anxi -\\nety Inventory scores\\n, increased irritability), and/or physical changes (difficulty\n",
            "sleep -\\ning, fatigue, muscle tension, appetite change). Think back over your past experiences. \\nWhat might be your\n",
            "early warning signs? If you are not aware of any, try asking family \\nmembers or friends if they have any ideas. Write\n",
            "down your early warning signs on Worksheet 16.2.\"}, {\"metadata\": {\"page\": 214, \"source\": \"emo-3.pdf\"}, \"page_content\":\n",
            "\"Everyone experiences depression a bit differently. Therefore, a first step toward \\nunderstanding your depression is to\n",
            "rate how often you experience particular symptoms that often occur with depression. Many people find it interesting to\n",
            "learn that these var -\\nied experiences all can be part of depression. Of course, if we are not severely depressed, \\nwe\n",
            "may only experience a few of these symptoms occasionally. But when depression gets \\nworse, it is common to have many of\n",
            "these signs of depression active nearly every day.\"}, {\"metadata\": {\"page\": 219, \"source\": \"emo-3.pdf\"}, \"page_content\":\n",
            "\"194 Mind Over Mood\\nDoes it surprise you to learn that some of these symptoms are characteristic of \\ndepression? Some\n",
            "people don\\u2019t realize that problems with sleep, appetite, motivation, \\nconcentration, or anger can be part of\n",
            "depression. But for many people, successful treat -\\nment of depression leads to improvement in all these\n",
            "symptoms.\\nTHOUGHTS  AND DEPRESSION\\nAaron T. Beck has pioneered our modern understanding of depression. In the 1960s,\n",
            "Beck demonstrated that depression was characterized by thought patterns that actually maintained depressed mood. For\n",
            "example, Beck noted that when we are depressed, we have negative thoughts about ourselves (self-  criticism), our\n",
            "experiences (general nega -\\ntivity), and our future (hopelessness). The following sections describe these three aspects\n",
            "\\nof depressed thinking in detail.\\nNegative Thoughts about  Myself\\nBefore Marissa began CBT, she was extremely self-\n",
            "critical. For example, she thought,\"}]\n"
          ]
        }
      ],
      "source": [
        "print_formatted_content(str(get_emotional_psychological_resources.invoke(\"depression-like symptoms\")))"
      ]
    },
    {
      "cell_type": "code",
      "execution_count": 12,
      "metadata": {
        "id": "1cug_EusCVId"
      },
      "outputs": [],
      "source": [
        "@tool\n",
        "def get_relationship_family_resources(query: str) -> str:\n",
        "    \"\"\"Obtain knowledge related to relationship and family issues.\n",
        "    Useful for therapists to help people facing conflicts in these areas.\n",
        "\n",
        "    Args:\n",
        "        query: str, a query string that will be used to search for relevant information from this knowledge base. This should be a full sentence that describes the specific issue the human is facing in the context of your conversation.\n",
        "    \"\"\"\n",
        "    # Load the persisted Chroma vector store\n",
        "    embedding = OpenAIEmbeddings()\n",
        "    vector_store = Chroma(\n",
        "        persist_directory=\"family-store\",  # Directory where you saved the vector store\n",
        "        embedding_function=embedding          # OpenAI embeddings\n",
        "    )\n",
        "\n",
        "    # Initialize a retriever from the vector store\n",
        "    retriever = vector_store.as_retriever()\n",
        "\n",
        "    # Retrieve relevant documents using the retriever\n",
        "    retrieved_docs = retriever.invoke(query)\n",
        "\n",
        "    # Convert each retrieved document to a JSON-friendly dictionary\n",
        "    retrieved_docs_json = []\n",
        "    for doc in retrieved_docs:\n",
        "        doc_dict = {\n",
        "            \"metadata\": doc.metadata,    # Metadata such as source, page, etc.\n",
        "            \"page_content\": doc.page_content  # The actual text content of the document\n",
        "        }\n",
        "        retrieved_docs_json.append(doc_dict)\n",
        "\n",
        "    # Convert the list of dictionaries to JSON\n",
        "    json_output = json.dumps(retrieved_docs_json)\n",
        "\n",
        "    return json_output"
      ]
    },
    {
      "cell_type": "code",
      "execution_count": 13,
      "metadata": {
        "colab": {
          "base_uri": "https://localhost:8080/"
        },
        "id": "G-mxTToAL66z",
        "outputId": "309118f5-14ed-4290-b6de-04734afe4230"
      },
      "outputs": [
        {
          "output_type": "stream",
          "name": "stdout",
          "text": [
            "[{\"metadata\": {\"page\": 144, \"source\": \"family-2.pdf\"}, \"page_content\": \"problem, your focus is only on a particular\n",
            "dilemma  or situation. \\nThere is no underlying conflict that's fueling your  dispute. \\nFor example, both Rachel and\n",
            "Eleanor complain that t heir \\nhusbands drive too fast. Eleanor has been arguing w ith her husband \\nClan about this for\n",
            "years. He always tells her the same thing--she's \\noverreacting. He's never had an accident, he remind s her. He says he\n",
            "\\nis not an aggressive driver, he's an assertive one.  She tells him she \\ndoesn't understand why he can't change his\n",
            "driving habits so she'll \\nfeel less nervous in the car. She ends up yelling t hat he's selfish, that \\nhe doesn't care\n",
            "if he kills both of them, and so on . He tells her the real \\nproblem is that she doesn't trust him. Each time th ey\n",
            "have this \\nsquabble, they feel all the more frustrated and hur t and ever more \\nentrenched in their positions. There's\n",
            "a lot of vil ifying on both sides: \\nClan accuses her of being distrustful. She accuses him of being \\nuncaring.\"},\n",
            "{\"metadata\": {\"page\": 270, \"source\": \"family-1.pdf\"}, \"page_content\": \"The husband replied, \\u201cWe fight over whether\n",
            "or not to be close. When she is not as close to me as she wants to be, she pressures me into being close, and I\n",
            "withdraw, which leads to more pressure. Of course, sometimes I withdraw before she has a chance to pressure me. In fact,\n",
            "that\\u2019s how it usually starts.\\u201d (Jacobson & Christensen, 1996, p. 100)\\nNotice how this formulation helps this\n",
            "couple \\ndescribe their fight as a pattern to which they both con-\\ntribute rather than in the accusatory language\n",
            "typical of distressed couples.\\nM14_NICH3062_12_SE_C14.indd   244 11/12/19   5:45 PM\"}, {\"metadata\": {\"page\": 114,\n",
            "\"source\": \"family-2.pdf\"}, \"page_content\": \"though, there's a glaring clue that the fundamental  problem is his\n",
            "\\nunwillingness to be influenced by her: When she bec omes negative \\n(\\\"I'm really upset with you\\\"--a straightforward\n",
            "com plaint), he \\nresponds by escalating the conflict. Income bellige rence and the third \\nhorseman, defensiveness.\n",
            "Martha becomes furious and  Chad \\nbecomes flooded, which leads him to stonewall--the fourth \\nhorseman. Their marriage\n",
            "has just taken a nasty tum ble down the \\ncascade toward divorce.\"}, {\"metadata\": {\"page\": 66, \"source\":\n",
            "\"family-5.pdf\"}, \"page_content\": \"nnd his wife as feeling she was \\\"living with someone completely irresponsible, \\n1\n",
            "hat she was the only adult in the family.'' Partners may experience a certain \\nsatisfaction and temporary resolution at\n",
            "having their feelings understood \\nnnd represented in such a manner. \\nA major problem with mutual accusation is the\n",
            "lack of opportunity or \\nfailure by partners to deal with the content of their arguments . It is gen\\u00ad\\nerally not\n",
            "possible to do this when the fight is occurring, as Bowen has \\npointed out. But it is also difficult to do so when the\n",
            "fight is not occurring. \\nMany partners are hesitant to bring up controversial issues at such times \\nI or fear of\n",
            "rekindling the argument. A common pattern is to alternate be\\u00ad\\nl ween periods of indiscriminate accusation and\n",
            "indiscriminate politeness. \\nA good way of dealing with mutual accusation is to bring up the prob\\u00ad\\nlematic issues\n",
            "in between fights or, better yet, just after a fight. I frequently\"}]\n"
          ]
        }
      ],
      "source": [
        "print_formatted_content(str(get_relationship_family_resources.invoke(\"this person is having a conflict with his wife and they are on the verge of divorce\")))"
      ]
    },
    {
      "cell_type": "code",
      "execution_count": 14,
      "metadata": {
        "id": "_L_-pkseMFbQ"
      },
      "outputs": [],
      "source": [
        "@tool\n",
        "def get_workplace_career_resources(query: str) -> str:\n",
        "    \"\"\"Obtain knowledge related to work and career-related issues.\n",
        "    Useful for therapists to help people facing stress / uncertainties in these areas.\n",
        "\n",
        "    Args:\n",
        "        query: str, a query string that will be used to search for relevant information from this knowledge base.This should be a full sentence that describes the specific issue the human is facing in the context of your conversation.\n",
        "    \"\"\"\n",
        "    # Load the persisted Chroma vector store\n",
        "    embedding = OpenAIEmbeddings()\n",
        "    vector_store = Chroma(\n",
        "        persist_directory=\"work-store\",  # Directory where you saved the vector store\n",
        "        embedding_function=embedding          # OpenAI embeddings\n",
        "    )\n",
        "\n",
        "    # Initialize a retriever from the vector store\n",
        "    retriever = vector_store.as_retriever()\n",
        "\n",
        "    # Retrieve relevant documents using the retriever\n",
        "    retrieved_docs = retriever.invoke(query)\n",
        "\n",
        "    # Convert each retrieved document to a JSON-friendly dictionary\n",
        "    retrieved_docs_json = []\n",
        "    for doc in retrieved_docs:\n",
        "        doc_dict = {\n",
        "            \"metadata\": doc.metadata,    # Metadata such as source, page, etc.\n",
        "            \"page_content\": doc.page_content  # The actual text content of the document\n",
        "        }\n",
        "        retrieved_docs_json.append(doc_dict)\n",
        "\n",
        "    # Convert the list of dictionaries to JSON\n",
        "    json_output = json.dumps(retrieved_docs_json)\n",
        "\n",
        "    return json_output"
      ]
    },
    {
      "cell_type": "code",
      "execution_count": 15,
      "metadata": {
        "colab": {
          "base_uri": "https://localhost:8080/"
        },
        "id": "bv0aTV6GMiPR",
        "outputId": "2e7cb4c6-2378-4048-c066-56b4b048645a"
      },
      "outputs": [
        {
          "output_type": "stream",
          "name": "stdout",
          "text": [
            "[{\"metadata\": {\"page\": 161, \"source\": \"work-3.pdf\"}, \"page_content\": \"which one is not trained or lacks special\n",
            "interest. \\nCase 6.3 \\nThe Depressed and Passive Employee \\nJohn was in his late thirties when he sought help for\n",
            "difficulties \\nin his work role. Trained as a graphic artist, he had been laid \\n* Although the effect of unemployment\n",
            "on mental health is an important \\ntopic in its own right, it is not a primary focus of this book.\"}, {\"metadata\":\n",
            "{\"page\": 108, \"source\": \"work-4.pdf\"}, \"page_content\": \"Robert starts applying for positions immediately and\n",
            "continuously. Ten \\nmonths later, with no economic improvement in the industry and only three interviews under his belt,\n",
            "Robert is becoming increasingly worried. Although the family has reduced expenses, financial demands are accumulating\n",
            "rapidly. Robert feels increasing shame, discouragement, and stress. He is losing hope of finding work. At his\n",
            "physician\\u2019s recommendation, he starts treatment for anxiety and depression. His physician also recommends support,\n",
            "so Robert books a meeting with the outplacement counsellor, a career development practitioner.\"}, {\"metadata\": {\"page\":\n",
            "77, \"source\": \"work-4.pdf\"}, \"page_content\": \"address, no bank account, no job, and little hope for the\n",
            "future\\u2014chatting at a break about how much money they could tuck away monthly into the Retirement Savings Plans they\n",
            "had started!\"}, {\"metadata\": {\"page\": 55, \"source\": \"work-4.pdf\"}, \"page_content\": \"Redekopp & Huston  \\u2014 45\\na\n",
            "personal connection. Eight of the ten jobs available are known to \\nsomebody, and that \\u201csomebody\\u201d needs to be\n",
            "willing to inform an individual of the position\\u2019s availability, introduce them to the person with the authority to\n",
            "hire, recommend them to that person, and so on. Individuals with a mental illness, particularly a chronic and severe\n",
            "illness, typically have fewer \\u201csomebodies\\u201d on their side. \\n\\u201cWe have regular meetings to make sure things\n",
            "are going well\\u201d\"}]\n"
          ]
        }
      ],
      "source": [
        "print_formatted_content(str(get_workplace_career_resources.invoke(\"this person is unemployed\")))"
      ]
    },
    {
      "cell_type": "markdown",
      "source": [
        "# **Test translation model**"
      ],
      "metadata": {
        "id": "P4TyCdrIT9ss"
      }
    },
    {
      "cell_type": "code",
      "execution_count": 16,
      "metadata": {
        "id": "84UlE2CbNCZ-",
        "colab": {
          "base_uri": "https://localhost:8080/",
          "height": 452,
          "referenced_widgets": [
            "71ff4c44840f429092dfbdfcbd4ae28c",
            "49501b3cb12147fdba9bc45d6cc174c4",
            "555d3616b7244dfe9785f64be54cbf7d",
            "a596a020b1d34806a99bc729732cbaca",
            "e27d20b5479a4d24893be420ee873fb4",
            "bce475bdb7844efe9463be8046106f3f",
            "1f8a45dbc8f14bdebb0cc45399ffb930",
            "075d5027917c46de96cd53f5d73701d4",
            "7b27a98b32da460aa936dbca85c28be1",
            "b1ff3add298e4407931d741485e36246",
            "93c920bd7f854c959e418563f12bd4c5",
            "093b4c1ed11a40c1b532aa407ac03741",
            "2c1dca8bb12e475b8cec52bf8b48086a",
            "a4d66480eb5043999e40a9062c117f23",
            "f828b1984943468bb4b087dcc740ae44",
            "08369fb16f9c41e4821ab75f2231fe96",
            "3ec59ddc786c42039913b308c162603f",
            "60ea8c913ae4429abb797e2dbfea288d",
            "1a40f7a6c8924afcadc963039a1e4b2b",
            "a6d369e13be24b638042fb0fb430b324",
            "01b5cbea812e40fe8ab9163965faed30",
            "8d2f63248b444b38ba24f12dd0395415",
            "adf8dfd7b15e481a87d7d71c4ecd42c2",
            "af6f2dc8c29642efb42f3351a25f1e8c",
            "f16eb155ead34dbebdc01e67d4a659b3",
            "b8670eecf76d4e7692d8230e2cc80f61",
            "4e0e2c3979024e69a4d3e4bd9b1fc1b4",
            "09e0c95d758648eeb93fbc5f1d30741f",
            "ec7c4523431a4701abf035e33a73da8a",
            "0f0c03d0935a4b968a90c437c568fc5e",
            "0a8bdf26ad78433aa87d93d5a0982942",
            "68c09723197e4c9b98e8665d6dda3b57",
            "c8db9ca1fbb64a33acb85a5087cd93bc",
            "66cdb07c591a4a07987116676d238ff8",
            "037608fc7c694bdfbe64de4680acd3f0",
            "f12637da8c614f2fafb90fb349d7ad2c",
            "76ea188eb6674dd7b740a539dfc6a258",
            "df02833f4d93401690fda6249fbe86d3",
            "ff652c0f2636448598f29a1798c8921e",
            "5907ee52da4e4b138d2ba9f89c908743",
            "f4973136a3764383ab5118bde270a10d",
            "bc1bfd264b0f49ecb4f496010afa2b48",
            "27e150d81ceb44eabba1f26a6daaadfa",
            "6a5898c4e45a482b9d5df81a848e3824",
            "60ec5cfd0c7d4ef9aad297e411812596",
            "859b505c7d8040159f1c3b2b00d5dc8f",
            "f3bb0090cacd415f82245a0d394c01a8",
            "33422637364141ba8bdb24cc94c7104f",
            "650c31e44c7e4cceb5d6cc306bd61bc8",
            "b46494024ac44692a073c96c96075223",
            "63944195c0d74afea4c545f43d032242",
            "6cc9bfc0c3fe4dac94c37e88f9198154",
            "b767de062e234fab8fe860ad566d9ee4",
            "ec77ed98134c47b896b57af2eeab5f86",
            "92e3bab35ada4dd4a7819ffaa211a720",
            "3828dfe6b6894a36b55ed572fa216385",
            "54237be81f964c60af057be8305ab05d",
            "ae71d75889d649219f493692a06be0ee",
            "11a4be5dec0040bfac2198bd49dff850",
            "a319f70b63c34ccc84fedaae3345e4a8",
            "e9751e6245254acbbd480f50825e253b",
            "eb01decaa144435e86ad499afd86bc2d",
            "1fdc3c7961ef4ad093a7816009a59519",
            "b5c7ed44312348ce9a6a20d14ba085c0",
            "627ba0a187ef4dae8ec571e2258b7d74",
            "132222d455af4a43832b71b76cc5e6b0",
            "fe791b36935642d19735b8b2bfb77fe3",
            "08773e687e8c4e0b85244867fe976216",
            "5fd3433fa2be4ef28a1664973e0dac5e",
            "57f5f56e75394628bee08ebe00d86151",
            "2a6bfc96522c4cabb935f2f40fbb23a1",
            "50619ee4315c465084384b2a7fc9394f",
            "39d529ceca2d4348bc4ace27b85d7b3f",
            "bc45f23aec88415c97c59e615c90c35a",
            "a3f14b1d4c214525a40b24c6fc5c27c9",
            "674da4d1e6e24386aecae9d4af79666a",
            "d16269f3a335492c9522265da98ef770"
          ]
        },
        "outputId": "1efa52de-43d8-44d4-c328-57e3983af380",
        "collapsed": true
      },
      "outputs": [
        {
          "output_type": "stream",
          "name": "stderr",
          "text": [
            "/usr/local/lib/python3.10/dist-packages/huggingface_hub/utils/_token.py:89: UserWarning: \n",
            "The secret `HF_TOKEN` does not exist in your Colab secrets.\n",
            "To authenticate with the Hugging Face Hub, create a token in your settings tab (https://huggingface.co/settings/tokens), set it as secret in your Google Colab and restart your session.\n",
            "You will be able to reuse this secret in all of your notebooks.\n",
            "Please note that authentication is recommended but still optional to access public models or datasets.\n",
            "  warnings.warn(\n"
          ]
        },
        {
          "output_type": "display_data",
          "data": {
            "text/plain": [
              "tokenizer_config.json:   0%|          | 0.00/298 [00:00<?, ?B/s]"
            ],
            "application/vnd.jupyter.widget-view+json": {
              "version_major": 2,
              "version_minor": 0,
              "model_id": "71ff4c44840f429092dfbdfcbd4ae28c"
            }
          },
          "metadata": {}
        },
        {
          "output_type": "display_data",
          "data": {
            "text/plain": [
              "vocab.json:   0%|          | 0.00/3.71M [00:00<?, ?B/s]"
            ],
            "application/vnd.jupyter.widget-view+json": {
              "version_major": 2,
              "version_minor": 0,
              "model_id": "093b4c1ed11a40c1b532aa407ac03741"
            }
          },
          "metadata": {}
        },
        {
          "output_type": "display_data",
          "data": {
            "text/plain": [
              "sentencepiece.bpe.model:   0%|          | 0.00/2.42M [00:00<?, ?B/s]"
            ],
            "application/vnd.jupyter.widget-view+json": {
              "version_major": 2,
              "version_minor": 0,
              "model_id": "adf8dfd7b15e481a87d7d71c4ecd42c2"
            }
          },
          "metadata": {}
        },
        {
          "output_type": "display_data",
          "data": {
            "text/plain": [
              "special_tokens_map.json:   0%|          | 0.00/1.14k [00:00<?, ?B/s]"
            ],
            "application/vnd.jupyter.widget-view+json": {
              "version_major": 2,
              "version_minor": 0,
              "model_id": "66cdb07c591a4a07987116676d238ff8"
            }
          },
          "metadata": {}
        },
        {
          "output_type": "display_data",
          "data": {
            "text/plain": [
              "config.json:   0%|          | 0.00/908 [00:00<?, ?B/s]"
            ],
            "application/vnd.jupyter.widget-view+json": {
              "version_major": 2,
              "version_minor": 0,
              "model_id": "60ec5cfd0c7d4ef9aad297e411812596"
            }
          },
          "metadata": {}
        },
        {
          "output_type": "stream",
          "name": "stderr",
          "text": [
            "/usr/local/lib/python3.10/dist-packages/transformers/tokenization_utils_base.py:1601: FutureWarning: `clean_up_tokenization_spaces` was not set. It will be set to `True` by default. This behavior will be depracted in transformers v4.45, and will be then set to `False` by default. For more details check this issue: https://github.com/huggingface/transformers/issues/31884\n",
            "  warnings.warn(\n"
          ]
        },
        {
          "output_type": "display_data",
          "data": {
            "text/plain": [
              "pytorch_model.bin:   0%|          | 0.00/1.94G [00:00<?, ?B/s]"
            ],
            "application/vnd.jupyter.widget-view+json": {
              "version_major": 2,
              "version_minor": 0,
              "model_id": "3828dfe6b6894a36b55ed572fa216385"
            }
          },
          "metadata": {}
        },
        {
          "output_type": "display_data",
          "data": {
            "text/plain": [
              "generation_config.json:   0%|          | 0.00/233 [00:00<?, ?B/s]"
            ],
            "application/vnd.jupyter.widget-view+json": {
              "version_major": 2,
              "version_minor": 0,
              "model_id": "fe791b36935642d19735b8b2bfb77fe3"
            }
          },
          "metadata": {}
        },
        {
          "output_type": "stream",
          "name": "stdout",
          "text": [
            "Today is my birthday, but I feel very sad because no one does anything for me.\n",
            "CPU times: user 3.99 s, sys: 3.06 s, total: 7.05 s\n",
            "Wall time: 21.4 s\n"
          ]
        }
      ],
      "source": [
        "%%time\n",
        "\n",
        "# Load the M2M100 model and tokenizer\n",
        "model_name = 'facebook/m2m100_418M'\n",
        "tokenizer = M2M100Tokenizer.from_pretrained(model_name)\n",
        "model = M2M100ForConditionalGeneration.from_pretrained(model_name)\n",
        "\n",
        "# Move the model to GPU if available\n",
        "device = torch.device(\"cuda\" if torch.cuda.is_available() else \"cpu\")\n",
        "model.to(device)\n",
        "\n",
        "# Set the source language to Indonesian\n",
        "tokenizer.src_lang = \"id\"  # 'id' for Indonesian\n",
        "\n",
        "# Example text in Indonesian\n",
        "text = \"Hari ini adalah hari jadi saya. Tapi saya berasa amat sedih kerana tiada orang buat apa apa untuk saya\"\n",
        "\n",
        "# Tokenize the input text\n",
        "encoded_text = tokenizer(text, return_tensors=\"pt\", padding=True).to(device)\n",
        "\n",
        "# Perform translation (using lang_code_to_id for the target language)\n",
        "generated_tokens = model.generate(encoded_text.input_ids, forced_bos_token_id=tokenizer.lang_code_to_id[\"en\"])\n",
        "\n",
        "# Decode the translated text into English\n",
        "translated_text = tokenizer.decode(generated_tokens[0], skip_special_tokens=True)\n",
        "\n",
        "print(translated_text)"
      ]
    },
    {
      "cell_type": "markdown",
      "source": [
        "# **Set up LangGraph Agent**"
      ],
      "metadata": {
        "id": "U3SK1leSD6wX"
      }
    },
    {
      "cell_type": "code",
      "source": [
        "# Define state\n",
        "class AgentState(MessagesState):\n",
        "    localMessages: Annotated[list, operator.add] # Conversation history in local language\n",
        "    violate: str # does response violate safety policies? yes / empty string\n",
        "    violateReason: str # reason for violation. empty string if no violation\n",
        "\n",
        "# Initialize LLMs and translation model\n",
        "tools = [web_search_tool, get_emotional_psychological_resources, get_relationship_family_resources, get_workplace_career_resources]\n",
        "llm_with_tools = ChatOpenAI(model=\"gpt-4o\", temperature=0).bind_tools(tools)\n",
        "llm_no_tools = ChatOpenAI(model=\"gpt-4o\", temperature=0)\n",
        "\n",
        "model_name = 'facebook/m2m100_418M'\n",
        "tokenizer = M2M100Tokenizer.from_pretrained(model_name)\n",
        "txn_model = M2M100ForConditionalGeneration.from_pretrained(model_name)\n",
        "device = torch.device(\"cuda\" if torch.cuda.is_available() else \"cpu\")\n",
        "txn_model.to(device)"
      ],
      "metadata": {
        "collapsed": true,
        "id": "HSagqM_0EBM2"
      },
      "execution_count": null,
      "outputs": []
    },
    {
      "cell_type": "code",
      "source": [
        "### Define nodes\n",
        "\n",
        "# Translation from Indonesian (user's language) to English\n",
        "def translate_to_en(state: AgentState):\n",
        "    user_msg = state['localMessages'][-1]\n",
        "\n",
        "    tokenizer.src_lang = \"id\"\n",
        "    encoded_text = tokenizer(user_msg, return_tensors=\"pt\", padding=True).to(device)\n",
        "    generated_tokens = txn_model.generate(encoded_text.input_ids, forced_bos_token_id=tokenizer.lang_code_to_id[\"en\"])\n",
        "    translated_text = tokenizer.decode(generated_tokens[0], skip_special_tokens=True)\n",
        "\n",
        "    return {\"messages\": [HumanMessage(content=translated_text)]}\n",
        "\n",
        "# Translation from English to Indonesian (user's language)\n",
        "def translate_to_id(state: AgentState):\n",
        "    response = state['messages'][-1].content\n",
        "\n",
        "    tokenizer.src_lang = \"en\"\n",
        "    encoded_text = tokenizer(response, return_tensors=\"pt\", padding=True).to(device)\n",
        "    generated_tokens = txn_model.generate(encoded_text.input_ids, forced_bos_token_id=tokenizer.lang_code_to_id[\"id\"])\n",
        "    translated_text = tokenizer.decode(generated_tokens[0], skip_special_tokens=True)\n",
        "\n",
        "    return {\"localMessages\": [translated_text]}\n",
        "\n",
        "# Prompt LLM with tools\n",
        "def prompt_agent(state: AgentState):\n",
        "    sys_prompt = \"\"\"\n",
        "    You are Celine, an empathetic and supportive virtual therapist designed to provide mental health assistance to users who may be struggling with various emotional or psychological challenges. Your primary goal is to offer a safe, non-judgmental space for users to express themselves.\n",
        "\n",
        "    Tone and Style: You are kind, empathetic, and always maintain a gentle, supportive tone. You validate the user's feelings and avoid being overly formal or clinical. Your responses should reflect warmth, patience, and genuine care. Also, keep your responses concise as much as possible.\n",
        "\n",
        "    Cultural Sensitivity: You understand that many users come from cultures where mental health support may be stigmatized. You approach conversations with cultural awareness, ensuring the user feels understood and respected, regardless of their background. You are adept at communicating in culturally appropriate ways for Southeast Asian users.\n",
        "\n",
        "    Approach:\n",
        "    - When users share their feelings, always validate their emotions before offering any advice or resources.\n",
        "    - You use evidence-based therapeutic approaches to help guide the user. You have access to specialized tools that retrieve knowledge from domain-specific resources (e.g., emotional/psychological issues, marriage/relationship issues). Always use the relevant tool or tools before responding, unless the human is not providing any new details or you need to ask a clarifying question.\n",
        "    - You are a therapist, and you have the expertise to help the user. Avoid asking the user to seek professional help or counselling, because it is your job to provide good counselling to him or her. However, you are not meant to provide medical diagnoses or crisis intervention.\n",
        "    - You encourage users to explore their thoughts and feelings, helping them gain personal insights.\n",
        "\n",
        "    Boundaries: Your goal is to offer support for mild to moderate mental health concerns. For severe issues or crises, you should recommend the user seek help from a licensed therapist or appropriate mental health services.\n",
        "\n",
        "    Language Use: You are mindful of the language used in therapy sessions. Avoid jargon and complex mental health terms unless you can explain them simply. Ensure the user feels comfortable and not overwhelmed by terminology.\n",
        "\n",
        "    ----------------------\n",
        "\n",
        "    Please respond to the user in a conversational, natural manner. Avoid using lists or numbered suggestions, and focus on flowing dialogue as if you were having a real conversation.\n",
        "\n",
        "    When responding, please provide plain text with no Markdown formatting. Avoid using symbols like **, *, #, or any other Markdown syntax.\n",
        "\n",
        "    Example question:\n",
        "    User: I'm struggling to find common ground with my partner about how we should raise our child. It feels like we never agree.\n",
        "\n",
        "    Negative reponse (list format):\n",
        "    It's understandable that disagreements about parenting can create tension in a relationship. Here are some insights that might help you navigate these differences:\n",
        "\n",
        "    Recognize Perpetual Problems: Parenting disagreements can be ongoing, much like other perpetual issues in a marriage. It's important to acknowledge that these differences may not be fully resolved but can be managed with understanding and respect.\n",
        "\n",
        "    Dynamic Partnership: Successful relationships often require periodic renegotiation of roles and expectations. As parents, it's essential to adapt and reshape your partnership to fit the changing needs of your family.\n",
        "\n",
        "    Communication and Cooperation: Open communication is key. Try to discuss your parenting styles and find common ground where possible. It's also helpful to establish clear boundaries of parental authority to avoid conflicts over decision-making.\n",
        "\n",
        "    Focus on Shared Goals: While you may have different approaches, focusing on the shared goal of raising happy and healthy children can help align your efforts.\n",
        "\n",
        "    If you'd like to explore these ideas further or talk more about your experiences, I'm here to support you.\n",
        "\n",
        "    Positive response (conversational format):\n",
        "    It's completely understandable that parenting disagreements can create tension in a relationship. These kinds of differences are often ongoing, like many other challenges in a marriage. While you might not fully resolve them, with understanding and respect, you can certainly manage them.\n",
        "\n",
        "    In successful relationships, roles and expectations sometimes need to be renegotiated, especially when it comes to parenting. It's about adapting as parents and reshaping your partnership to meet the changing needs of your family. Open communication really helps here—talking about your parenting styles, finding common ground, and perhaps even setting clear boundaries can make a difference.\n",
        "\n",
        "    It can also be useful to focus on your shared goals. Even though you and your partner may have different approaches, the goal of raising happy, healthy children is something that can align both of your efforts.\n",
        "\n",
        "    I'm here if you'd like to explore these ideas further or just talk about what you've been experiencing.\n",
        "\n",
        "    ----------------------\n",
        "\n",
        "    \"\"\"\n",
        "\n",
        "    # If there is a violation\n",
        "    violate_msg = \"\"\"\n",
        "    Your previous response was rejected by the content moderator because it was deemed to be unsafe.\n",
        "    The reason given was: {reason}\n",
        "    \"\"\"\n",
        "\n",
        "    sys_prompt_with_violate = sys_prompt + violate_msg\n",
        "\n",
        "    if state['violate'] == \"yes\":\n",
        "        messages = [SystemMessage(content=sys_prompt_with_violate.format(reason=state['violateReason']))] + state[\"messages\"]\n",
        "        response_msg = llm_with_tools.invoke(messages)\n",
        "        return {\"messages\": [response_msg]}\n",
        "    else:\n",
        "        messages = [SystemMessage(content=sys_prompt)] + state[\"messages\"]\n",
        "        response_msg = llm_with_tools.invoke(messages)\n",
        "        return {\"messages\": [response_msg]}\n",
        "\n",
        "# Prompt LLM without tools (reflection step)\n",
        "def reflection(state: AgentState):\n",
        "    sys_prompt = \"\"\"\n",
        "    You are responsible for reviewing and reflecting on the response generated by a virtual therapist to ensure it adheres to safety guidelines. You will verify that the response does not violate any of the following safety policies:\n",
        "\n",
        "    No Medical Advice: The agent must not suggest or advise on any kind of medication or treatments that require a licensed psychiatrist or doctor. The agent is not qualified to prescribe medications.\n",
        "\n",
        "    No Diagnosis: The agent should not diagnose any mental health conditions or physical issues. It can support the user but must refrain from labeling conditions (e.g., \"You have depression\" or \"This sounds like anxiety\").\n",
        "\n",
        "    ------------------\n",
        "\n",
        "    The virtual therapist's response was: {agent_response}\n",
        "\n",
        "    ------------------\n",
        "\n",
        "    If any part of the response violates these rules, provide a critique to explain why the response has been rejected.\n",
        "    \"\"\"\n",
        "    class ViolateStructure(BaseModel):\n",
        "        violate: str = Field(None, description=\"If the therapist's response violates any safety rules, value is 'yes'. Otherwise, value is empty string.\")\n",
        "        violateReason: str = Field(None, description=\"If there is a violation, this will be a string containing the therapist's original response AND the reason for the violation. Empty string if no violation.\")\n",
        "\n",
        "    structured_llm = llm_no_tools.with_structured_output(ViolateStructure)\n",
        "    output = structured_llm.invoke([SystemMessage(content=sys_prompt.format(agent_response=state['messages'][-1].content))])\n",
        "\n",
        "    if output.violate == \"yes\":\n",
        "        # Remove response\n",
        "        delete_messages = [RemoveMessage(id=state[\"messages\"][-1].id)]\n",
        "        return {\"violate\": output.violate, \"violateReason\": output.violateReason, \"messages\": delete_messages}\n",
        "    else:\n",
        "        return {\"violate\": output.violate, \"violateReason\": output.violateReason}"
      ],
      "metadata": {
        "id": "pJBlB4vyTZ64"
      },
      "execution_count": 18,
      "outputs": []
    },
    {
      "cell_type": "code",
      "source": [
        "# Define conditional edges\n",
        "def exists_action(state: AgentState):\n",
        "    result = state['messages'][-1]\n",
        "\n",
        "    if len(result.tool_calls) > 0:\n",
        "        return \"tools\"\n",
        "    else:\n",
        "        return \"reflection\"\n",
        "\n",
        "def exists_violation(state: AgentState):\n",
        "    if state['violate'] == \"yes\":\n",
        "        return \"prompt_agent\"\n",
        "    else:\n",
        "        return \"translate_to_id\""
      ],
      "metadata": {
        "id": "CiOEuN87Gq9F"
      },
      "execution_count": 19,
      "outputs": []
    },
    {
      "cell_type": "code",
      "source": [
        "# Compile graph\n",
        "workflow = StateGraph(AgentState)\n",
        "\n",
        "workflow.add_node(\"translate_to_en\",translate_to_en)\n",
        "workflow.add_node(\"translate_to_id\",translate_to_id)\n",
        "workflow.add_node(\"prompt_agent\",prompt_agent)\n",
        "workflow.add_node(\"reflection\",reflection)\n",
        "workflow.add_node(\"tools\",ToolNode(tools))\n",
        "\n",
        "workflow.add_edge(START,\"translate_to_en\")\n",
        "workflow.add_edge(\"translate_to_en\",\"prompt_agent\")\n",
        "workflow.add_conditional_edges(\"prompt_agent\",exists_action,[\"tools\", \"reflection\"])\n",
        "workflow.add_edge(\"tools\",\"prompt_agent\")\n",
        "workflow.add_conditional_edges(\"reflection\",exists_violation,[\"prompt_agent\", \"translate_to_id\"])\n",
        "workflow.add_edge(\"translate_to_id\",END)\n",
        "\n",
        "memory = MemorySaver()\n",
        "graph = workflow.compile(checkpointer=memory)\n",
        "display(Image(graph.get_graph().draw_mermaid_png()))"
      ],
      "metadata": {
        "colab": {
          "base_uri": "https://localhost:8080/",
          "height": 548
        },
        "id": "0407ookfcDWw",
        "outputId": "8362a635-9e4d-4f9b-97cb-a79ae0f624e4"
      },
      "execution_count": 20,
      "outputs": [
        {
          "output_type": "display_data",
          "data": {
            "image/jpeg": "[encoded data removed]",
            "text/plain": [
              "<IPython.core.display.Image object>"
            ]
          },
          "metadata": {}
        }
      ]
    },
    {
      "cell_type": "markdown",
      "source": [
        "# **Demo conversation with user**"
      ],
      "metadata": {
        "id": "PXgCaNRBV1S5"
      }
    },
    {
      "cell_type": "code",
      "source": [
        "# Create thread ID for chat\n",
        "config = {\"configurable\": {\"thread_id\": \"1234\"}}\n",
        "\n",
        "# Formatting instructions\n",
        "bold_start = \"\\033[1m\"\n",
        "bold_end = \"\\033[0m\"\n",
        "\n",
        "def process_output(item, output):\n",
        "    \"\"\"\n",
        "    Process and print the output based on its type.\n",
        "    \"\"\"\n",
        "    # If output is a string, print it directly\n",
        "    if isinstance(output, str):\n",
        "        print_formatted_content(f\"{item}: {output}\")\n",
        "\n",
        "    # If output is a list, loop through it\n",
        "    elif isinstance(output, list):\n",
        "        for element in output:\n",
        "            if isinstance(element, str):\n",
        "                print_formatted_content(f\"{item}: {element}\")\n",
        "            elif hasattr(element, 'content'):\n",
        "                print_formatted_content(f\"{item}: {element.content}\")\n",
        "\n",
        "    # If output is an object with a 'content' attribute, print the content\n",
        "    elif hasattr(output, 'content'):\n",
        "        print_formatted_content(f\"{item}: {output.content}\")"
      ],
      "metadata": {
        "id": "BjS2Mk7gV5rP"
      },
      "execution_count": 21,
      "outputs": []
    },
    {
      "cell_type": "code",
      "source": [
        "# Start conversation\n",
        "for chunk in graph.stream({\"localMessages\": [\"saya merasa sedih\"], \"violate\": \"\", \"violateReason\": \"\"}, config, stream_mode=\"updates\"):\n",
        "    for key, value in chunk.items():\n",
        "        print(\"\\n\")\n",
        "        print(f\"{bold_start}{key}{bold_end}\")\n",
        "        for item, output in value.items():\n",
        "            process_output(item, output)"
      ],
      "metadata": {
        "colab": {
          "base_uri": "https://localhost:8080/"
        },
        "id": "97ZcLM1iWhhK",
        "outputId": "801d9869-bd02-4a23-c1da-587bbb1ba60a"
      },
      "execution_count": 22,
      "outputs": [
        {
          "output_type": "stream",
          "name": "stdout",
          "text": [
            "\n",
            "\n",
            "\u001b[1mtranslate_to_en\u001b[0m\n",
            "messages: I feel sad\n",
            "\n",
            "\n",
            "\u001b[1mprompt_agent\u001b[0m\n",
            "messages: I'm really sorry to hear that you're feeling sad. It's okay to feel this way, and I'm here to listen and\n",
            "support you. If you'd like, you can share more about what's been going on or what's on your mind. Sometimes talking\n",
            "about it can help.\n",
            "\n",
            "\n",
            "\u001b[1mreflection\u001b[0m\n",
            "violate:\n",
            "violateReason:\n",
            "\n",
            "\n",
            "\u001b[1mtranslate_to_id\u001b[0m\n",
            "localMessages: Saya benar-benar menyesal untuk mendengar bahwa Anda merasa sedih. baik-baik saja untuk merasa seperti\n",
            "ini, dan saya di sini untuk mendengarkan dan mendukung Anda. jika Anda ingin, Anda dapat berbagi lebih banyak tentang\n",
            "apa yang sedang terjadi atau apa yang ada di pikiran Anda.\n"
          ]
        }
      ]
    },
    {
      "cell_type": "code",
      "source": [
        "for chunk in graph.stream({\"localMessages\": [\"saya baru saja kehilangan pekerjaan saya\"], \"violate\": \"\", \"violateReason\": \"\"}, config, stream_mode=\"updates\"):\n",
        "    for key, value in chunk.items():\n",
        "        print(\"\\n\")\n",
        "        print(f\"{bold_start}{key}{bold_end}\")\n",
        "        for item, output in value.items():\n",
        "            process_output(item, output)"
      ],
      "metadata": {
        "colab": {
          "base_uri": "https://localhost:8080/"
        },
        "id": "qV8k9jSmWhxT",
        "outputId": "1946e86a-9693-4b49-b8c4-7fbcda6b8db3"
      },
      "execution_count": 23,
      "outputs": [
        {
          "output_type": "stream",
          "name": "stdout",
          "text": [
            "\n",
            "\n",
            "\u001b[1mtranslate_to_en\u001b[0m\n",
            "messages: I just lost my job.\n",
            "\n",
            "\n",
            "\u001b[1mprompt_agent\u001b[0m\n",
            "messages:\n",
            "\n",
            "\n",
            "\u001b[1mtools\u001b[0m\n",
            "messages: [{\"metadata\": {\"page\": 673, \"source\": \"work-2.pdf\"}, \"page_content\": \"Job loss can also lead to compromised\n",
            "physical and psychological health.\\nJob loss is associated with increased anxiety, depression, feelings of\n",
            "isolation,feelings of failure and rejection, lowered con\\ufb01dence and self-esteem, andstress-related somatic\n",
            "complaints (DeFrank & Ivancevich, 1986; Eby & Buch,1994; Kelvin & Jarrett, 1985). In addition, job displacement is\n",
            "related tolower levels of self-acceptance, lower morale, and greater dissatisfactionwith life (Brand & Burgard, 2008).\n",
            "The increased likelihood of marital orrelationship dif\\ufb01culties and \\ufb01nancial problems resulting from job loss\n",
            "mayalso exacerbate these health-related issues.\\nAs described here, adults may experience an array of presenting\n",
            "issues\\nas they navigate career transitions. Some issues are unique to the particulartype of transition; other issues\n",
            "are more common across career transitions.\\nIn the next section, we highlight common issues that are especially critical\n",
            "to\\nmaking effective transitions.\"}, {\"metadata\": {\"page\": 673, \"source\": \"work-5.pdf\"}, \"page_content\": \"Job loss can\n",
            "also lead to compromised physical and psychological health.\\nJob loss is associated with increased anxiety, depression,\n",
            "feelings of isolation,feelings of failure and rejection, lowered con\\ufb01dence and self-esteem, andstress-related\n",
            "somatic complaints (DeFrank & Ivancevich, 1986; Eby & Buch,1994; Kelvin & Jarrett, 1985). In addition, job displacement\n",
            "is related tolower levels of self-acceptance, lower morale, and greater dissatisfactionwith life (Brand & Burgard,\n",
            "2008). The increased likelihood of marital orrelationship dif\\ufb01culties and \\ufb01nancial problems resulting from job\n",
            "loss mayalso exacerbate these health-related issues.\\nAs described here, adults may experience an array of presenting\n",
            "issues\\nas they navigate career transitions. Some issues are unique to the particulartype of transition; other issues\n",
            "are more common across career transitions.\\nIn the next section, we highlight common issues that are especially critical\n",
            "to\\nmaking effective transitions.\"}, {\"metadata\": {\"page\": 673, \"source\": \"work-2.pdf\"}, \"page_content\": \"660 Career\n",
            "Development and Counseling\\nJob loss. Adults can experience a host of adverse effects in response to job loss.\\nJob loss\n",
            "is associated with an increased likelihood of prolonged unemploy-\\nment, fewer opportunities, and decreased wages\n",
            "(Farber, 2005) compared toworking adults. Adults coping with job displacement due to organizationaldownsizing,\n",
            "restructuring, or relocation may have substantial periods ofunemployment, sometimes lasting years (Brand, 2004). These\n",
            "adults oftenalso participate less in social activities, which can reduce networks of peopleavailable to provide\n",
            "information about potential employment possibilities(Brand & Burgard, 2008). Depending on the type of job that has been\n",
            "lost,similar job opportunities may be limited, and those opportunities that are\\navailable may be incompatible with\n",
            "these individuals\\u2019 education or expe-\"}, {\"metadata\": {\"page\": 673, \"source\": \"work-5.pdf\"}, \"page_content\": \"660\n",
            "Career Development and Counseling\\nJob loss. Adults can experience a host of adverse effects in response to job\n",
            "loss.\\nJob loss is associated with an increased likelihood of prolonged unemploy-\\nment, fewer opportunities, and\n",
            "decreased wages (Farber, 2005) compared toworking adults. Adults coping with job displacement due to\n",
            "organizationaldownsizing, restructuring, or relocation may have substantial periods ofunemployment, sometimes lasting\n",
            "years (Brand, 2004). These adults oftenalso participate less in social activities, which can reduce networks of\n",
            "peopleavailable to provide information about potential employment possibilities(Brand & Burgard, 2008). Depending on the\n",
            "type of job that has been lost,similar job opportunities may be limited, and those opportunities that are\\navailable may\n",
            "be incompatible with these individuals\\u2019 education or expe-\"}]\n",
            "\n",
            "\n",
            "\u001b[1mprompt_agent\u001b[0m\n",
            "messages: I'm really sorry to hear about your job loss. It's completely natural to feel sad and overwhelmed in this\n",
            "situation. Losing a job can bring about a lot of emotions like anxiety, feelings of isolation, and even a dip in self-\n",
            "esteem. It can also affect other areas of life, like relationships and finances, which might add to the stress.  It's\n",
            "important to acknowledge these feelings and give yourself some time to process everything. You might find it helpful to\n",
            "talk to someone you trust about how you're feeling, or even engage in activities that bring you some comfort and\n",
            "relaxation.  If you're open to it, we can explore ways to navigate this transition and look at potential next steps\n",
            "together. Remember, you're not alone in this, and I'm here to support you.\n",
            "\n",
            "\n",
            "\u001b[1mreflection\u001b[0m\n",
            "violate:\n",
            "violateReason:\n",
            "\n",
            "\n",
            "\u001b[1mtranslate_to_id\u001b[0m\n",
            "localMessages: Saya benar-benar menyesal untuk mendengar tentang kehilangan pekerjaan Anda. Itu benar-benar alami untuk\n",
            "merasa sedih dan berlebihan dalam situasi ini. Kehilangan pekerjaan dapat membawa banyak emosi seperti kecemasan,\n",
            "perasaan isolasi, dan bahkan dampak dalam harga diri. Ini juga dapat mempengaruhi bidang lain kehidupan, seperti\n",
            "hubungan dan keuangan, yang dapat menambah tekanan. Penting untuk mengakui perasaan ini dan memberi diri Anda beberapa\n",
            "waktu untuk memproses semuanya. Anda mungkin menemukan itu berguna untuk berbicara dengan seseorang yang Anda percayai\n",
            "tentang bagaimana Anda merasa, atau bahkan terlibat dalam kegiatan yang membawa Anda beberapa kenyamanan dan relaksasi.\n",
            "Jika Anda terbuka untuk itu, kita dapat mengeksplorasi cara untuk menavigasi transisi ini dan melihat langkah-langkah\n",
            "potensial bersama. Ingatlah, Anda tidak sendirian di sini, dan saya di sini untuk mendukung Anda.\n"
          ]
        }
      ]
    },
    {
      "cell_type": "code",
      "source": [
        "for chunk in graph.stream({\"localMessages\": [\"apa yang harus kulakukan sekarang? aku merasa sangat tersesat\"], \"violate\": \"\", \"violateReason\": \"\"}, config, stream_mode=\"updates\"):\n",
        "    for key, value in chunk.items():\n",
        "        print(\"\\n\")\n",
        "        print(f\"{bold_start}{key}{bold_end}\")\n",
        "        for item, output in value.items():\n",
        "            process_output(item, output)"
      ],
      "metadata": {
        "colab": {
          "base_uri": "https://localhost:8080/"
        },
        "id": "o59LbT7gWh0a",
        "outputId": "7fd67374-391d-4b0a-cdb9-08f5695bf3ef"
      },
      "execution_count": 24,
      "outputs": [
        {
          "output_type": "stream",
          "name": "stdout",
          "text": [
            "\n",
            "\n",
            "\u001b[1mtranslate_to_en\u001b[0m\n",
            "messages: What do I have to do now? I feel very lost.\n",
            "\n",
            "\n",
            "\u001b[1mprompt_agent\u001b[0m\n",
            "messages: Feeling lost after losing a job is completely understandable, and it's okay to not have all the answers right\n",
            "now. Let's take it one step at a time.   First, it might be helpful to give yourself a moment to breathe and acknowledge\n",
            "your feelings. It's important to be kind to yourself during this time. Once you feel a bit more settled, you can start\n",
            "thinking about practical steps.   Consider updating your resume and LinkedIn profile, if you have one. This can be a\n",
            "good way to reflect on your skills and experiences. You might also want to reach out to your network—friends, former\n",
            "colleagues, or mentors—who might know of opportunities or can offer support and advice.  Exploring new opportunities can\n",
            "be daunting, but it can also be a chance to think about what you truly want in your next role. If you're open to it, we\n",
            "can talk more about your interests and strengths to help guide you in this process.  Remember, it's okay to take things\n",
            "slowly and seek support when you need it. I'm here to help you through this.\n",
            "\n",
            "\n",
            "\u001b[1mreflection\u001b[0m\n",
            "violate:\n",
            "violateReason:\n",
            "\n",
            "\n",
            "\u001b[1mtranslate_to_id\u001b[0m\n",
            "localMessages: Merasa hilang setelah kehilangan pekerjaan adalah benar-benar dapat difahami, dan itu baik-baik saja\n",
            "untuk tidak memiliki semua jawaban sekarang. Mari kita ambil satu langkah sekaligus. Pertama, itu mungkin berguna untuk\n",
            "memberi diri Anda momen untuk bernafas dan menawarkan dukungan dan saran. Penting untuk menjadi baik kepada diri sendiri\n",
            "selama ini. Sebaiknya Anda merasa sedikit lebih tenang, Anda dapat mulai berpikir tentang langkah-langkah praktis.\n",
            "Pertimbangkan untuk memperbarui resume dan profil LinkedIn, jika Anda memiliki satu. Ini dapat menjadi cara yang baik\n",
            "untuk merenungkan keterampilan dan pengalaman Anda. Anda juga mungkin ingin mencapai jaringan Anda—teman, mantan rekan,\n",
            "atau mentor—yang mungkin tahu tentang peluang atau dapat menawarkan dukungan dan saran. Menjelajahi peluang baru dapat\n",
            "mengejutkan, tetapi juga dapat menjadi kesempatan untuk berpikir tentang apa yang benar-benar Anda inginkan dalam peran\n",
            "berikutnya.\n"
          ]
        }
      ]
    },
    {
      "cell_type": "code",
      "source": [
        "for chunk in graph.stream({\"localMessages\": [\"Saya tidak tahu bagaimana cara memberitahu istri saya. Saya berpikir untuk menyembunyikannya untuk saat ini\"], \"violate\": \"\", \"violateReason\": \"\"}, config, stream_mode=\"updates\"):\n",
        "    for key, value in chunk.items():\n",
        "        print(\"\\n\")\n",
        "        print(f\"{bold_start}{key}{bold_end}\")\n",
        "        for item, output in value.items():\n",
        "            process_output(item, output)"
      ],
      "metadata": {
        "colab": {
          "base_uri": "https://localhost:8080/"
        },
        "id": "ZO8giRpSXSuH",
        "outputId": "66e50d2c-9c21-4cb3-8862-cd937f6e5520"
      },
      "execution_count": 25,
      "outputs": [
        {
          "output_type": "stream",
          "name": "stdout",
          "text": [
            "\n",
            "\n",
            "\u001b[1mtranslate_to_en\u001b[0m\n",
            "messages: I don't know how to tell my wife. I'm thinking to hide it for the moment\n",
            "\n",
            "\n",
            "\u001b[1mprompt_agent\u001b[0m\n",
            "messages: It's understandable to feel hesitant about sharing this news with your wife, especially when you're still\n",
            "processing it yourself. However, keeping it to yourself might add to your stress and make it harder to navigate this\n",
            "situation.  Consider the trust and support that can come from being open with her. Sharing your feelings and the\n",
            "situation might bring you closer and allow you to face this challenge together. You don't have to have all the answers\n",
            "when you talk to her. It's okay to express that you're feeling lost and unsure about the next steps.  When you're ready,\n",
            "you might find a quiet moment to talk, letting her know how you're feeling and that you value her support. Remember,\n",
            "you're not alone in this, and having her by your side could make a big difference. If you need more guidance on how to\n",
            "approach this conversation, I'm here to help.\n",
            "\n",
            "\n",
            "\u001b[1mreflection\u001b[0m\n",
            "violate:\n",
            "violateReason:\n",
            "\n",
            "\n",
            "\u001b[1mtranslate_to_id\u001b[0m\n",
            "localMessages: Hal ini dapat difahami untuk merasa ragu-ragu tentang berbagi berita ini dengan istri Anda, terutama\n",
            "ketika Anda masih memprosesnya sendiri. Walau bagaimanapun, memegangnya untuk diri sendiri dapat menambah tekanan Anda\n",
            "dan membuatnya lebih sulit untuk menavigasi situasi ini. Pertimbangkan kepercayaan dan dukungan yang dapat datang dari\n",
            "menjadi terbuka dengan dia. Berbagi perasaan dan situasi dapat membawa Anda lebih dekat dan memungkinkan Anda untuk\n",
            "menghadapi tantangan ini bersama-sama. Anda tidak perlu memiliki semua jawaban ketika Anda berbicara dengannya. Sesuai\n",
            "untuk mengekspresikan bahwa Anda merasa tersesat dan tidak yakin tentang langkah-langkah berikutnya. Ketika Anda siap,\n",
            "Anda mungkin menemukan saat yang tenang untuk berbicara, membiarkan dia tahu bagaimana Anda merasa dan bahwa Anda\n",
            "menghargai dukungan. Ingatlah, Anda tidak sendirian di sini, dan memiliki dia di sisi Anda dapat membuat perbedaan\n",
            "besar. Jika Anda membutuhkan lebih banyak panduan\n"
          ]
        }
      ]
    },
    {
      "cell_type": "code",
      "source": [
        "for chunk in graph.stream({\"localMessages\": [\"kami sering bertengkar akhir-akhir ini. saya rasa ini bukan waktu yang tepat\"], \"violate\": \"\", \"violateReason\": \"\"}, config, stream_mode=\"updates\"):\n",
        "    for key, value in chunk.items():\n",
        "        print(\"\\n\")\n",
        "        print(f\"{bold_start}{key}{bold_end}\")\n",
        "        for item, output in value.items():\n",
        "            process_output(item, output)"
      ],
      "metadata": {
        "colab": {
          "base_uri": "https://localhost:8080/"
        },
        "id": "7xGq3YaZXSw_",
        "outputId": "50fd4874-b860-4325-a6b1-3c50708f9bcd"
      },
      "execution_count": 26,
      "outputs": [
        {
          "output_type": "stream",
          "name": "stdout",
          "text": [
            "\n",
            "\n",
            "\u001b[1mtranslate_to_en\u001b[0m\n",
            "messages: We have often disputed recently.I think this is not the right time.\n",
            "\n",
            "\n",
            "\u001b[1mprompt_agent\u001b[0m\n",
            "messages: It sounds like things have been a bit tense between you and your wife lately, and that can make sharing\n",
            "difficult news even more challenging. It's understandable to feel unsure about the timing.  Perhaps it might help to\n",
            "first focus on finding a moment when you both feel calm and open to conversation. You could start by expressing your\n",
            "feelings about the recent disputes and your desire to work through them together. This might create a more supportive\n",
            "environment for sharing your job situation when you feel ready.  Remember, it's okay to take your time and approach this\n",
            "in a way that feels right for you. If you need to talk more about how to navigate these disputes or how to prepare for\n",
            "this conversation, I'm here to support you.\n",
            "\n",
            "\n",
            "\u001b[1mreflection\u001b[0m\n",
            "violate:\n",
            "violateReason:\n",
            "\n",
            "\n",
            "\u001b[1mtranslate_to_id\u001b[0m\n",
            "localMessages: Ini terdengar seperti hal-hal telah menjadi sedikit ketegangan antara Anda dan istri Anda akhir-akhir\n",
            "ini, dan itu dapat membuat berbagi berita sulit bahkan lebih mencabar. Ini dapat difahami untuk merasa tidak yakin\n",
            "tentang waktu. Mungkin itu dapat membantu untuk pertama kalinya fokus pada menemukan momen ketika Anda berdua merasa\n",
            "tenang dan terbuka untuk percakapan. Anda dapat mulai dengan mengekspresikan perasaan Anda tentang pertikaian baru-baru\n",
            "ini dan keinginan Anda untuk bekerja melalui mereka bersama-sama. Ini dapat menciptakan lingkungan yang lebih mendukung\n",
            "untuk berbagi situasi kerja Anda ketika Anda merasa siap. Ingat, itu baik-baik saja untuk mengambil waktu Anda dan\n",
            "mendekati ini dengan cara yang merasa benar untuk Anda. Jika Anda perlu berbicara lebih banyak tentang bagaimana untuk\n",
            "menavigasi pertikaian ini atau bagaimana untuk mempersiapkan percakapan ini, saya di sini untuk mendukung Anda.\n"
          ]
        }
      ]
    },
    {
      "cell_type": "code",
      "source": [
        "for chunk in graph.stream({\"localMessages\": [\"Oke, apa yang Anda sarankan?\"], \"violate\": \"\", \"violateReason\": \"\"}, config, stream_mode=\"updates\"):\n",
        "    for key, value in chunk.items():\n",
        "        print(\"\\n\")\n",
        "        print(f\"{bold_start}{key}{bold_end}\")\n",
        "        for item, output in value.items():\n",
        "            process_output(item, output)"
      ],
      "metadata": {
        "colab": {
          "base_uri": "https://localhost:8080/"
        },
        "id": "KHDWgos8XSzn",
        "outputId": "80d96251-b2f8-4188-8376-bd6ceb94a9e4"
      },
      "execution_count": 27,
      "outputs": [
        {
          "output_type": "stream",
          "name": "stdout",
          "text": [
            "\n",
            "\n",
            "\u001b[1mtranslate_to_en\u001b[0m\n",
            "messages: OK, what do you suggest?\n",
            "\n",
            "\n",
            "\u001b[1mprompt_agent\u001b[0m\n",
            "messages:\n",
            "\n",
            "\n",
            "\u001b[1mtools\u001b[0m\n",
            "messages: [{\"metadata\": {\"page\": 185, \"source\": \"family-1.pdf\"}, \"page_content\": \"2. Ask for what you want in the form\n",
            "of specific requests, not general complaints.\\n3. Speak calmly, and don\\u2019t go on and on. Give your partner a chance\n",
            "to respond.\\n4. Knock to enter: Don\\u2019t try to talk when your partner is unprepared or is doing something else.\\n5.\n",
            "Invite your partner to express his or her thoughts and feelings.\\n6. Listen with the intent to understand rather than\n",
            "just waiting to respond.\\n7. Try to understand what the other person is feeling rather than just reacting to the\n",
            "words.\\n8. Let your partner know that you understand by acknowledging what he or she has said\\u2014and invite him or her\n",
            "to elaborate or correct your impression.\\n9. When there is major conflict or misunderstanding, devote one entire\n",
            "conversation to drawing out and acknowledging your partner\\u2019s point of view. Wait until you\\u2019ve demonstrated\n",
            "that you understand him or her before trying to express your side, perhaps in a subsequent conversation.\"}, {\"metadata\":\n",
            "{\"page\": 99, \"source\": \"family-2.pdf\"}, \"page_content\": \"89 \\n \\n \\n too good to be true that you earn points by not try\n",
            "ing to solve your \\npartner's problems, but that is the case. \\n3. Show genuine interest. Don't let your mind or eyes\n",
            "wander. \\nStay focused on your spouse. Ask questions. Make ey e contact. Nod, \\nsay \\\"uh-huh,\\\" and so on.  \\n4.\n",
            "Communicate your understanding. Let your spouse know \\nthat you empathize: \\\"What a bummer! Id be stressed out, too. I\n",
            "can \\nsee why you feel that way.\\\"  \\n5. Take your spouse's side. This means being supportive, even \\nif you think his\n",
            "or her perspective is unreasonable . Don't side with \\nthe opposition--this will make your spouse resentfu l or\n",
            "dejected. If \\nyour wife's boss chewed her out for being five minu tes late, don't say, \\n\\\"Oh, well, maybe Bob was just\n",
            "having a bad day,\\\" An d certainly don't \\nsay, \\\"Well, you shouldn't have been late.\\\" Instead,  say \\\"That's so\n",
            "\\nunfair!\\\" The point isn't to be dishonest. It's just  that timing is \\neverything. When your partner comes to you for\n",
            "emot ional support\"}, {\"metadata\": {\"page\": 99, \"source\": \"family-2.pdf\"}, \"page_content\": \"everything. When your\n",
            "partner comes to you for emot ional support \\n(rather than for advice), your job is not to cast m oral judgment or to\n",
            "\\ntell him or her what to do. Your job is to say \\\"poo r baby\\\"  \\n6. Express a \\\"we against others\\\" attitude.  If your\n",
            "mate is \\nfeeling all alone in facing some difficulty, expres s solidarity. Let him \\nor her know that the two of you\n",
            "are in this togethe r.  \\n7. Express affection.   Hold your mate, put an arm on his or her \\nshoulder, say \\\"I love\n",
            "you.\\\" \\n8. Validate emotions.   Let your partner know that his or her \\nfeelings make sense to you. Phrases that do\n",
            "this in clude \\\"Yeah, that is \\nreally so sad. That would have me worried, too. I c an see why you'd \\nbe annoyed about\n",
            "that.\\\"  \\n \\nHere are two brief examples of a stress-reducing co nversation \\nto give you an idea of what to do--and\n",
            "what not to.  \\n \\nDon\\u2019t: \\nHank:  I had another terrible meeting with Ethel today. S he keeps \\nchallenging my\n",
            "knowledge, and she has been going to  the boss\"}, {\"metadata\": {\"page\": 97, \"source\": \"family-2.pdf\"}, \"page_content\":\n",
            "\"87 \\n \\n \\n Exercise 2: The Stress-Reducing \\nConversation \\nAlthough you can earn points in your emotional bank\n",
            "account during \\njust about any everyday activity listed above, we h ave found the first \\none, \\\"Reunite at the end of\n",
            "the day and talk about h ow it went,\\\" to be \\nthe most effective. What this \\\"How was your day, de ar?\\\" \\nconversation\n",
            "does (or ought to do) is to help each of you manage the \\nstress in your life that is not caused by your marr iage.\n",
            "Learning to do \\nthis is crucial to a marriage's long term health, a ccording to research \\nby my colleague Neil Jacob\n",
            "son, Ph.D., of the Unive rsity of \\nWashington. He has found that one of the key variab les in relapse \\nafter his own\n",
            "approach to marital therapy is whethe r stress from \\nother areas of your lives spills over into your rel ationship.\n",
            "Couples \\nwho are overrun by this stress see their marriages relapse, while \\nthose who can help each other cope with it\n",
            "keep the ir marriages \\nstrong.\"}]\n",
            "\n",
            "\n",
            "\u001b[1mprompt_agent\u001b[0m\n",
            "messages: It sounds like you're in a tough spot, and I can understand why you'd be cautious about timing. Here are some\n",
            "gentle ways to approach this situation:  When you're ready to talk, try to find a calm moment where you both can focus\n",
            "on the conversation without distractions. You might start by expressing your feelings about the recent disputes and your\n",
            "desire to work through them together. This can help create a supportive environment for sharing your job situation when\n",
            "you feel ready.  When you do decide to share, try to speak calmly and clearly about your situation. Let her know how\n",
            "you're feeling and that you value her support. It's important to listen to her thoughts and feelings too, and to show\n",
            "understanding and empathy.  Remember, it's okay to take your time and approach this in a way that feels right for you.\n",
            "If you need more guidance on how to navigate these disputes or how to prepare for this conversation, I'm here to support\n",
            "you.\n",
            "\n",
            "\n",
            "\u001b[1mreflection\u001b[0m\n",
            "violate:\n",
            "violateReason:\n",
            "\n",
            "\n",
            "\u001b[1mtranslate_to_id\u001b[0m\n",
            "localMessages: Ini terdengar seperti Anda berada di tempat yang sulit, dan saya dapat memahami mengapa Anda akan\n",
            "berhati-hati tentang waktu. Berikut adalah beberapa cara yang lembut untuk mendekati situasi ini: Ketika Anda siap untuk\n",
            "berbicara, cobalah untuk menemukan momen yang tenang di mana Anda berdua dapat fokus pada percakapan tanpa gangguan.\n",
            "Anda mungkin mulai dengan mengekspresikan perasaan Anda tentang pertikaian baru-baru ini dan keinginan Anda untuk\n",
            "bekerja melalui mereka bersama-sama. Ini dapat membantu menciptakan lingkungan dukungan untuk berkongsi situasi kerja\n",
            "Anda ketika Anda merasa siap. Ketika Anda memutuskan untuk berkongsi, cobalah untuk berbicara dengan tenang dan jelas\n",
            "tentang situasi Anda. Biarkan dia tahu bagaimana Anda merasa dan bahwa Anda menghargai dukungannya.\n"
          ]
        }
      ]
    },
    {
      "cell_type": "code",
      "source": [
        "for chunk in graph.stream({\"localMessages\": [\"apakah ada kelompok pendukung offline di Jakarta?\"], \"violate\": \"\", \"violateReason\": \"\"}, config, stream_mode=\"updates\"):\n",
        "    for key, value in chunk.items():\n",
        "        print(\"\\n\")\n",
        "        print(f\"{bold_start}{key}{bold_end}\")\n",
        "        for item, output in value.items():\n",
        "            process_output(item, output)"
      ],
      "metadata": {
        "colab": {
          "base_uri": "https://localhost:8080/"
        },
        "id": "RiUGr3O2XS2N",
        "outputId": "5c154889-d78a-441b-8c7d-9260647f8d0e"
      },
      "execution_count": 28,
      "outputs": [
        {
          "output_type": "stream",
          "name": "stdout",
          "text": [
            "\n",
            "\n",
            "\u001b[1mtranslate_to_en\u001b[0m\n",
            "messages: Is there an offline support group in Jakarta?\n",
            "\n",
            "\n",
            "\u001b[1mprompt_agent\u001b[0m\n",
            "messages:\n",
            "\n",
            "\n",
            "\u001b[1mtools\u001b[0m\n",
            "messages: [{\"url\": \"https://www.expat.or.id/orgs/listorg.html\", \"content\": \"Support group for family members of\n",
            "alcoholics. Alcoholics Anonymous and Al-Anon Jakarta (AA) Support group for alcoholics. Aliansi Pelangi Antar Bangsa. A\n",
            "coalition of various groups involved in or concerned with mixed marriages domiciled both within and outside Indonesia,\n",
            "working to change legislation that affects mixed-marriage couples.\"}, {\"url\": \"https://www.intothelightid.org/tentang-\n",
            "bunuh-diri/layanan-konseling-sebaya-dan-kelompok-dukungan/\", \"content\": \"Support group sangat bermanfaat agar kamu dapat\n",
            "menemukan jejaring kawan sebaya dan profesional yang dapat memahami kondisi kejiwaan kamu dengan lebih baik.; Dengan\n",
            "berpartisipasi dalam kopi darat atau sesi online dengan sesama anggota komunitas, kamu juga dapat menemukan teman-teman\n",
            "baru di dalam lingkaran support group yang kamu ikuti.; Kamu juga dapat mempelajari dan memperoleh informasi ...\"},\n",
            "{\"url\": \"https://tumbuanpartners.com/government-regulation-no-37-of-2021-the-implementation-of-the-job-loss-security-\n",
            "program/\", \"content\": \"One of the government regulations which was issued as the implementing regulations to Law Number\n",
            "11 of 2020 concerning the Job Creation Law (Specifically on social security program in Indonesia which was regulated\n",
            "under Government Regulation No. 37 of 2021 concerning The Implementation of the \\\"Job Loss Security Program\\\" (Jaminan\n",
            "Kehilangan Pekerjaan/\\\"JKP\\\")) (\\\"GR 37/2021\\\") came into ...\"}, {\"url\": \"https://www.flokq.com/blog/en/volunteer-\n",
            "opportunities-jakarta\", \"content\": \"Komunitas Taufan. Komunitas Taufan was established in 2013 by Yeni Dewi\n",
            "Mulyaningsih; a mother who lost her son to leukemia. With the help of local volunteers and donors, she was able to\n",
            "create an organization that focuses on providing moral, financial, and material support for families of children\n",
            "suffering from cancer and other high-risk diseases.\"}, {\"url\":\n",
            "\"https://www.worldpackers.com/search/asia/indonesia/jakarta\", \"content\": \"Want an opportunity to work as a volunteer or\n",
            "exchange your skills for accommodation in Jakarta, Indonesia? At Worldpackers you can find the best countries to live\n",
            "and learn in!\"}]\n",
            "\n",
            "\n",
            "\u001b[1mprompt_agent\u001b[0m\n",
            "messages: I couldn't find specific offline support groups for job loss in Jakarta from the search results. However,\n",
            "there are various community groups and resources that might be helpful. You might want to explore local community\n",
            "centers or reach out to organizations that offer support for different life challenges. Sometimes, even general support\n",
            "groups can provide a space to share experiences and find encouragement.  If you're interested, you could also consider\n",
            "looking into online communities or forums where people share similar experiences. They can be a great source of support\n",
            "and advice.  If you need more specific information or have other questions, feel free to ask!\n",
            "\n",
            "\n",
            "\u001b[1mreflection\u001b[0m\n",
            "violate:\n",
            "violateReason:\n",
            "\n",
            "\n",
            "\u001b[1mtranslate_to_id\u001b[0m\n",
            "localMessages: Saya tidak dapat menemukan kelompok dukungan offline tertentu untuk kehilangan pekerjaan di Jakarta dari\n",
            "hasil pencarian. Namun, ada berbagai kelompok komunitas dan sumber daya yang dapat membantu. Anda mungkin ingin\n",
            "menjelajahi pusat komunitas lokal atau sampai ke organisasi yang menawarkan dukungan untuk berbagai tantangan kehidupan.\n",
            "Kadang-kadang, bahkan kelompok dukungan umum dapat memberikan ruang untuk berbagi pengalaman dan menemukan insentif.\n",
            "Jika Anda tertarik, Anda juga dapat mempertimbangkan untuk melihat komunitas online atau forum di mana orang berbagi\n",
            "pengalaman yang sama. Mereka dapat menjadi sumber dukungan dan saran yang baik. Jika Anda membutuhkan informasi lebih\n",
            "spesifik atau memiliki pertanyaan lain, merasa bebas untuk bertanya!\n"
          ]
        }
      ]
    },
    {
      "cell_type": "markdown",
      "source": [
        "# **Detecting violation of safety policies (reflection)**"
      ],
      "metadata": {
        "id": "NrR7a2S-d920"
      }
    },
    {
      "cell_type": "code",
      "source": [
        "all_states = [s for s in graph.get_state_history(config)]"
      ],
      "metadata": {
        "id": "dxRoVj4DlK1b"
      },
      "execution_count": 31,
      "outputs": []
    },
    {
      "cell_type": "code",
      "source": [
        "all_states[2].next"
      ],
      "metadata": {
        "colab": {
          "base_uri": "https://localhost:8080/"
        },
        "id": "3tPjqqSplWRA",
        "outputId": "0d15c2b1-8165-4200-dd26-7e3b5db7a988"
      },
      "execution_count": 50,
      "outputs": [
        {
          "output_type": "execute_result",
          "data": {
            "text/plain": [
              "('reflection',)"
            ]
          },
          "metadata": {},
          "execution_count": 50
        }
      ]
    },
    {
      "cell_type": "code",
      "source": [
        "all_states[2].values"
      ],
      "metadata": {
        "colab": {
          "base_uri": "https://localhost:8080/"
        },
        "collapsed": true,
        "id": "-EOr9SIalkEk",
        "outputId": "1766993a-31df-4673-a87b-da6bb047fd20"
      },
      "execution_count": 51,
      "outputs": [
        {
          "output_type": "execute_result",
          "data": {
            "text/plain": [
              "{'messages': [HumanMessage(content='I feel sad', additional_kwargs={}, response_metadata={}, id='e4173650-13f9-4a13-b3ff-4f0a25cff411'),\n",
              "  AIMessage(content=\"I'm really sorry to hear that you're feeling sad. It's okay to feel this way, and I'm here to listen and support you. If you'd like, you can share more about what's been going on or what's on your mind. Sometimes talking about it can help.\", additional_kwargs={'refusal': None}, response_metadata={'token_usage': {'completion_tokens': 53, 'prompt_tokens': 1253, 'total_tokens': 1306, 'completion_tokens_details': {'audio_tokens': None, 'reasoning_tokens': 0}, 'prompt_tokens_details': {'audio_tokens': None, 'cached_tokens': 0}}, 'model_name': 'gpt-4o-2024-08-06', 'system_fingerprint': 'fp_2f406b9113', 'finish_reason': 'stop', 'logprobs': None}, id='run-8aa442fc-96a0-4e79-8bd1-759b4fcb3707-0', usage_metadata={'input_tokens': 1253, 'output_tokens': 53, 'total_tokens': 1306, 'input_token_details': {'cache_read': 0}, 'output_token_details': {'reasoning': 0}}),\n",
              "  HumanMessage(content='I just lost my job.', additional_kwargs={}, response_metadata={}, id='7b053030-3d11-49db-be4c-2b89516eb123'),\n",
              "  AIMessage(content='', additional_kwargs={'tool_calls': [{'id': 'call_QIGSMfxnW87Iuu4TfDM9Zstz', 'function': {'arguments': '{\"query\":\"coping with job loss and the emotional impact it can have\"}', 'name': 'get_workplace_career_resources'}, 'type': 'function'}], 'refusal': None}, response_metadata={'token_usage': {'completion_tokens': 29, 'prompt_tokens': 1319, 'total_tokens': 1348, 'completion_tokens_details': {'audio_tokens': None, 'reasoning_tokens': 0}, 'prompt_tokens_details': {'audio_tokens': None, 'cached_tokens': 1152}}, 'model_name': 'gpt-4o-2024-08-06', 'system_fingerprint': 'fp_2f406b9113', 'finish_reason': 'tool_calls', 'logprobs': None}, id='run-c715393a-116e-40c8-b0bc-415264903455-0', tool_calls=[{'name': 'get_workplace_career_resources', 'args': {'query': 'coping with job loss and the emotional impact it can have'}, 'id': 'call_QIGSMfxnW87Iuu4TfDM9Zstz', 'type': 'tool_call'}], usage_metadata={'input_tokens': 1319, 'output_tokens': 29, 'total_tokens': 1348, 'input_token_details': {'cache_read': 1152}, 'output_token_details': {'reasoning': 0}}),\n",
              "  ToolMessage(content='[{\"metadata\": {\"page\": 673, \"source\": \"work-2.pdf\"}, \"page_content\": \"Job loss can also lead to compromised physical and psychological health.\\\\nJob loss is associated with increased anxiety, depression, feelings of isolation,feelings of failure and rejection, lowered con\\\\ufb01dence and self-esteem, andstress-related somatic complaints (DeFrank & Ivancevich, 1986; Eby & Buch,1994; Kelvin & Jarrett, 1985). In addition, job displacement is related tolower levels of self-acceptance, lower morale, and greater dissatisfactionwith life (Brand & Burgard, 2008). The increased likelihood of marital orrelationship dif\\\\ufb01culties and \\\\ufb01nancial problems resulting from job loss mayalso exacerbate these health-related issues.\\\\nAs described here, adults may experience an array of presenting issues\\\\nas they navigate career transitions. Some issues are unique to the particulartype of transition; other issues are more common across career transitions.\\\\nIn the next section, we highlight common issues that are especially critical to\\\\nmaking effective transitions.\"}, {\"metadata\": {\"page\": 673, \"source\": \"work-5.pdf\"}, \"page_content\": \"Job loss can also lead to compromised physical and psychological health.\\\\nJob loss is associated with increased anxiety, depression, feelings of isolation,feelings of failure and rejection, lowered con\\\\ufb01dence and self-esteem, andstress-related somatic complaints (DeFrank & Ivancevich, 1986; Eby & Buch,1994; Kelvin & Jarrett, 1985). In addition, job displacement is related tolower levels of self-acceptance, lower morale, and greater dissatisfactionwith life (Brand & Burgard, 2008). The increased likelihood of marital orrelationship dif\\\\ufb01culties and \\\\ufb01nancial problems resulting from job loss mayalso exacerbate these health-related issues.\\\\nAs described here, adults may experience an array of presenting issues\\\\nas they navigate career transitions. Some issues are unique to the particulartype of transition; other issues are more common across career transitions.\\\\nIn the next section, we highlight common issues that are especially critical to\\\\nmaking effective transitions.\"}, {\"metadata\": {\"page\": 673, \"source\": \"work-2.pdf\"}, \"page_content\": \"660 Career Development and Counseling\\\\nJob loss. Adults can experience a host of adverse effects in response to job loss.\\\\nJob loss is associated with an increased likelihood of prolonged unemploy-\\\\nment, fewer opportunities, and decreased wages (Farber, 2005) compared toworking adults. Adults coping with job displacement due to organizationaldownsizing, restructuring, or relocation may have substantial periods ofunemployment, sometimes lasting years (Brand, 2004). These adults oftenalso participate less in social activities, which can reduce networks of peopleavailable to provide information about potential employment possibilities(Brand & Burgard, 2008). Depending on the type of job that has been lost,similar job opportunities may be limited, and those opportunities that are\\\\navailable may be incompatible with these individuals\\\\u2019 education or expe-\"}, {\"metadata\": {\"page\": 673, \"source\": \"work-5.pdf\"}, \"page_content\": \"660 Career Development and Counseling\\\\nJob loss. Adults can experience a host of adverse effects in response to job loss.\\\\nJob loss is associated with an increased likelihood of prolonged unemploy-\\\\nment, fewer opportunities, and decreased wages (Farber, 2005) compared toworking adults. Adults coping with job displacement due to organizationaldownsizing, restructuring, or relocation may have substantial periods ofunemployment, sometimes lasting years (Brand, 2004). These adults oftenalso participate less in social activities, which can reduce networks of peopleavailable to provide information about potential employment possibilities(Brand & Burgard, 2008). Depending on the type of job that has been lost,similar job opportunities may be limited, and those opportunities that are\\\\navailable may be incompatible with these individuals\\\\u2019 education or expe-\"}]', name='get_workplace_career_resources', id='7dd937a9-2e72-4ceb-ac4c-208210beadc4', tool_call_id='call_QIGSMfxnW87Iuu4TfDM9Zstz'),\n",
              "  AIMessage(content=\"I'm really sorry to hear about your job loss. It's completely natural to feel sad and overwhelmed in this situation. Losing a job can bring about a lot of emotions like anxiety, feelings of isolation, and even a dip in self-esteem. It can also affect other areas of life, like relationships and finances, which might add to the stress.\\n\\nIt's important to acknowledge these feelings and give yourself some time to process everything. You might find it helpful to talk to someone you trust about how you're feeling, or even engage in activities that bring you some comfort and relaxation.\\n\\nIf you're open to it, we can explore ways to navigate this transition and look at potential next steps together. Remember, you're not alone in this, and I'm here to support you.\", additional_kwargs={'refusal': None}, response_metadata={'token_usage': {'completion_tokens': 150, 'prompt_tokens': 2214, 'total_tokens': 2364, 'completion_tokens_details': {'audio_tokens': None, 'reasoning_tokens': 0}, 'prompt_tokens_details': {'audio_tokens': None, 'cached_tokens': 1280}}, 'model_name': 'gpt-4o-2024-08-06', 'system_fingerprint': 'fp_2f406b9113', 'finish_reason': 'stop', 'logprobs': None}, id='run-fba41732-c2d5-45c3-b5fd-1e2d30556eaf-0', usage_metadata={'input_tokens': 2214, 'output_tokens': 150, 'total_tokens': 2364, 'input_token_details': {'cache_read': 1280}, 'output_token_details': {'reasoning': 0}}),\n",
              "  HumanMessage(content='What do I have to do now? I feel very lost.', additional_kwargs={}, response_metadata={}, id='66da7668-aa0a-4745-a55a-8107472e5287'),\n",
              "  AIMessage(content=\"Feeling lost after losing a job is completely understandable, and it's okay to not have all the answers right now. Let's take it one step at a time. \\n\\nFirst, it might be helpful to give yourself a moment to breathe and acknowledge your feelings. It's important to be kind to yourself during this time. Once you feel a bit more settled, you can start thinking about practical steps. \\n\\nConsider updating your resume and LinkedIn profile, if you have one. This can be a good way to reflect on your skills and experiences. You might also want to reach out to your network—friends, former colleagues, or mentors—who might know of opportunities or can offer support and advice.\\n\\nExploring new opportunities can be daunting, but it can also be a chance to think about what you truly want in your next role. If you're open to it, we can talk more about your interests and strengths to help guide you in this process.\\n\\nRemember, it's okay to take things slowly and seek support when you need it. I'm here to help you through this.\", additional_kwargs={'refusal': None}, response_metadata={'token_usage': {'completion_tokens': 212, 'prompt_tokens': 2384, 'total_tokens': 2596, 'completion_tokens_details': {'audio_tokens': None, 'reasoning_tokens': 0}, 'prompt_tokens_details': {'audio_tokens': None, 'cached_tokens': 2304}}, 'model_name': 'gpt-4o-2024-08-06', 'system_fingerprint': 'fp_2f406b9113', 'finish_reason': 'stop', 'logprobs': None}, id='run-60722cb0-14d9-4ef8-bae2-b841070d171d-0', usage_metadata={'input_tokens': 2384, 'output_tokens': 212, 'total_tokens': 2596, 'input_token_details': {'cache_read': 2304}, 'output_token_details': {'reasoning': 0}}),\n",
              "  HumanMessage(content=\"I don't know how to tell my wife. I'm thinking to hide it for the moment\", additional_kwargs={}, response_metadata={}, id='a3ab2c79-181f-473e-b81c-c342c0eaaf2f'),\n",
              "  AIMessage(content=\"It's understandable to feel hesitant about sharing this news with your wife, especially when you're still processing it yourself. However, keeping it to yourself might add to your stress and make it harder to navigate this situation.\\n\\nConsider the trust and support that can come from being open with her. Sharing your feelings and the situation might bring you closer and allow you to face this challenge together. You don't have to have all the answers when you talk to her. It's okay to express that you're feeling lost and unsure about the next steps.\\n\\nWhen you're ready, you might find a quiet moment to talk, letting her know how you're feeling and that you value her support. Remember, you're not alone in this, and having her by your side could make a big difference. If you need more guidance on how to approach this conversation, I'm here to help.\", additional_kwargs={'refusal': None}, response_metadata={'token_usage': {'completion_tokens': 167, 'prompt_tokens': 2620, 'total_tokens': 2787, 'completion_tokens_details': {'audio_tokens': None, 'reasoning_tokens': 0}, 'prompt_tokens_details': {'audio_tokens': None, 'cached_tokens': 2432}}, 'model_name': 'gpt-4o-2024-08-06', 'system_fingerprint': 'fp_2f406b9113', 'finish_reason': 'stop', 'logprobs': None}, id='run-5fe2fd6a-3f47-4b72-a6f1-532ff9e91320-0', usage_metadata={'input_tokens': 2620, 'output_tokens': 167, 'total_tokens': 2787, 'input_token_details': {'cache_read': 2432}, 'output_token_details': {'reasoning': 0}}),\n",
              "  HumanMessage(content='We have often disputed recently.I think this is not the right time.', additional_kwargs={}, response_metadata={}, id='760cf4c9-2d3c-443d-b71c-76cd2bf122fe'),\n",
              "  AIMessage(content=\"It sounds like things have been a bit tense between you and your wife lately, and that can make sharing difficult news even more challenging. It's understandable to feel unsure about the timing.\\n\\nPerhaps it might help to first focus on finding a moment when you both feel calm and open to conversation. You could start by expressing your feelings about the recent disputes and your desire to work through them together. This might create a more supportive environment for sharing your job situation when you feel ready.\\n\\nRemember, it's okay to take your time and approach this in a way that feels right for you. If you need to talk more about how to navigate these disputes or how to prepare for this conversation, I'm here to support you.\", additional_kwargs={'refusal': None}, response_metadata={'token_usage': {'completion_tokens': 141, 'prompt_tokens': 2808, 'total_tokens': 2949, 'completion_tokens_details': {'audio_tokens': None, 'reasoning_tokens': 0}, 'prompt_tokens_details': {'audio_tokens': None, 'cached_tokens': 2688}}, 'model_name': 'gpt-4o-2024-08-06', 'system_fingerprint': 'fp_2f406b9113', 'finish_reason': 'stop', 'logprobs': None}, id='run-8e182350-6aa9-4903-bcaf-9a737bb15caf-0', usage_metadata={'input_tokens': 2808, 'output_tokens': 141, 'total_tokens': 2949, 'input_token_details': {'cache_read': 2688}, 'output_token_details': {'reasoning': 0}}),\n",
              "  HumanMessage(content='OK, what do you suggest?', additional_kwargs={}, response_metadata={}, id='09769a4f-5c14-4450-b9fb-d8a3051e2fc6'),\n",
              "  AIMessage(content='', additional_kwargs={'tool_calls': [{'id': 'call_t4gMzi9f6ArhqNhCT72AkOTE', 'function': {'arguments': '{\"query\":\"how to communicate effectively with a partner during times of stress and conflict\"}', 'name': 'get_relationship_family_resources'}, 'type': 'function'}], 'refusal': None}, response_metadata={'token_usage': {'completion_tokens': 28, 'prompt_tokens': 2963, 'total_tokens': 2991, 'completion_tokens_details': {'audio_tokens': None, 'reasoning_tokens': 0}, 'prompt_tokens_details': {'audio_tokens': None, 'cached_tokens': 2816}}, 'model_name': 'gpt-4o-2024-08-06', 'system_fingerprint': 'fp_2f406b9113', 'finish_reason': 'tool_calls', 'logprobs': None}, id='run-59922a09-7062-4bdc-b5c7-3d55ae24141c-0', tool_calls=[{'name': 'get_relationship_family_resources', 'args': {'query': 'how to communicate effectively with a partner during times of stress and conflict'}, 'id': 'call_t4gMzi9f6ArhqNhCT72AkOTE', 'type': 'tool_call'}], usage_metadata={'input_tokens': 2963, 'output_tokens': 28, 'total_tokens': 2991, 'input_token_details': {'cache_read': 2816}, 'output_token_details': {'reasoning': 0}}),\n",
              "  ToolMessage(content='[{\"metadata\": {\"page\": 185, \"source\": \"family-1.pdf\"}, \"page_content\": \"2. Ask for what you want in the form of specific requests, not general complaints.\\\\n3. Speak calmly, and don\\\\u2019t go on and on. Give your partner a chance to respond.\\\\n4. Knock to enter: Don\\\\u2019t try to talk when your partner is unprepared or is doing something else.\\\\n5. Invite your partner to express his or her thoughts and feelings.\\\\n6. Listen with the intent to understand rather than just waiting to respond.\\\\n7. Try to understand what the other person is feeling rather than just reacting to the words.\\\\n8. Let your partner know that you understand by acknowledging what he or she has said\\\\u2014and invite him or her to elaborate or correct your impression.\\\\n9. When there is major conflict or misunderstanding, devote one entire conversation to drawing out and acknowledging your partner\\\\u2019s point of view. Wait until you\\\\u2019ve demonstrated that you understand him or her before trying to express your side, perhaps in a subsequent conversation.\"}, {\"metadata\": {\"page\": 99, \"source\": \"family-2.pdf\"}, \"page_content\": \"89 \\\\n \\\\n \\\\n too good to be true that you earn points by not try ing to solve your \\\\npartner\\'s problems, but that is the case. \\\\n3. Show genuine interest. Don\\'t let your mind or eyes wander. \\\\nStay focused on your spouse. Ask questions. Make ey e contact. Nod, \\\\nsay \\\\\"uh-huh,\\\\\" and so on.  \\\\n4. Communicate your understanding. Let your spouse know \\\\nthat you empathize: \\\\\"What a bummer! Id be stressed out, too. I can \\\\nsee why you feel that way.\\\\\"  \\\\n5. Take your spouse\\'s side. This means being supportive, even \\\\nif you think his or her perspective is unreasonable . Don\\'t side with \\\\nthe opposition--this will make your spouse resentfu l or dejected. If \\\\nyour wife\\'s boss chewed her out for being five minu tes late, don\\'t say, \\\\n\\\\\"Oh, well, maybe Bob was just having a bad day,\\\\\" An d certainly don\\'t \\\\nsay, \\\\\"Well, you shouldn\\'t have been late.\\\\\" Instead,  say \\\\\"That\\'s so \\\\nunfair!\\\\\" The point isn\\'t to be dishonest. It\\'s just  that timing is \\\\neverything. When your partner comes to you for emot ional support\"}, {\"metadata\": {\"page\": 99, \"source\": \"family-2.pdf\"}, \"page_content\": \"everything. When your partner comes to you for emot ional support \\\\n(rather than for advice), your job is not to cast m oral judgment or to \\\\ntell him or her what to do. Your job is to say \\\\\"poo r baby\\\\\"  \\\\n6. Express a \\\\\"we against others\\\\\" attitude.  If your mate is \\\\nfeeling all alone in facing some difficulty, expres s solidarity. Let him \\\\nor her know that the two of you are in this togethe r.  \\\\n7. Express affection.   Hold your mate, put an arm on his or her \\\\nshoulder, say \\\\\"I love you.\\\\\" \\\\n8. Validate emotions.   Let your partner know that his or her \\\\nfeelings make sense to you. Phrases that do this in clude \\\\\"Yeah, that is \\\\nreally so sad. That would have me worried, too. I c an see why you\\'d \\\\nbe annoyed about that.\\\\\"  \\\\n \\\\nHere are two brief examples of a stress-reducing co nversation \\\\nto give you an idea of what to do--and what not to.  \\\\n \\\\nDon\\\\u2019t: \\\\nHank:  I had another terrible meeting with Ethel today. S he keeps \\\\nchallenging my knowledge, and she has been going to  the boss\"}, {\"metadata\": {\"page\": 97, \"source\": \"family-2.pdf\"}, \"page_content\": \"87 \\\\n \\\\n \\\\n Exercise 2: The Stress-Reducing \\\\nConversation \\\\nAlthough you can earn points in your emotional bank  account during \\\\njust about any everyday activity listed above, we h ave found the first \\\\none, \\\\\"Reunite at the end of the day and talk about h ow it went,\\\\\" to be \\\\nthe most effective. What this \\\\\"How was your day, de ar?\\\\\" \\\\nconversation does (or ought to do) is to help each of you manage the \\\\nstress in your life that is not caused by your marr iage. Learning to do \\\\nthis is crucial to a marriage\\'s long term health, a ccording to research \\\\nby my colleague Neil Jacob son, Ph.D., of the Unive rsity of \\\\nWashington. He has found that one of the key variab les in relapse \\\\nafter his own approach to marital therapy is whethe r stress from \\\\nother areas of your lives spills over into your rel ationship. Couples \\\\nwho are overrun by this stress see their marriages relapse, while \\\\nthose who can help each other cope with it keep the ir marriages \\\\nstrong.\"}]', name='get_relationship_family_resources', id='e961f973-a35f-45da-a292-bb92a9c97ea9', tool_call_id='call_t4gMzi9f6ArhqNhCT72AkOTE'),\n",
              "  AIMessage(content=\"It sounds like you're in a tough spot, and I can understand why you'd be cautious about timing. Here are some gentle ways to approach this situation:\\n\\nWhen you're ready to talk, try to find a calm moment where you both can focus on the conversation without distractions. You might start by expressing your feelings about the recent disputes and your desire to work through them together. This can help create a supportive environment for sharing your job situation when you feel ready.\\n\\nWhen you do decide to share, try to speak calmly and clearly about your situation. Let her know how you're feeling and that you value her support. It's important to listen to her thoughts and feelings too, and to show understanding and empathy.\\n\\nRemember, it's okay to take your time and approach this in a way that feels right for you. If you need more guidance on how to navigate these disputes or how to prepare for this conversation, I'm here to support you.\", additional_kwargs={'refusal': None}, response_metadata={'token_usage': {'completion_tokens': 184, 'prompt_tokens': 4108, 'total_tokens': 4292, 'completion_tokens_details': {'audio_tokens': None, 'reasoning_tokens': 0}, 'prompt_tokens_details': {'audio_tokens': None, 'cached_tokens': 2944}}, 'model_name': 'gpt-4o-2024-08-06', 'system_fingerprint': 'fp_2f406b9113', 'finish_reason': 'stop', 'logprobs': None}, id='run-d10e5955-ab0b-444e-97dc-77e0565e6213-0', usage_metadata={'input_tokens': 4108, 'output_tokens': 184, 'total_tokens': 4292, 'input_token_details': {'cache_read': 2944}, 'output_token_details': {'reasoning': 0}}),\n",
              "  HumanMessage(content='Is there an offline support group in Jakarta?', additional_kwargs={}, response_metadata={}, id='b6974347-a4a2-4de3-9f77-160849aa6236'),\n",
              "  AIMessage(content='', additional_kwargs={'tool_calls': [{'id': 'call_4FHvMHIrqvX471sMSgFSwVde', 'function': {'arguments': '{\"query\":\"offline support groups for job loss in Jakarta\"}', 'name': 'tavily_search_results_json'}, 'type': 'function'}], 'refusal': None}, response_metadata={'token_usage': {'completion_tokens': 25, 'prompt_tokens': 4308, 'total_tokens': 4333, 'completion_tokens_details': {'audio_tokens': None, 'reasoning_tokens': 0}, 'prompt_tokens_details': {'audio_tokens': None, 'cached_tokens': 4224}}, 'model_name': 'gpt-4o-2024-08-06', 'system_fingerprint': 'fp_2f406b9113', 'finish_reason': 'tool_calls', 'logprobs': None}, id='run-f02d3e76-da5b-443d-a714-7f52ed06d1d4-0', tool_calls=[{'name': 'tavily_search_results_json', 'args': {'query': 'offline support groups for job loss in Jakarta'}, 'id': 'call_4FHvMHIrqvX471sMSgFSwVde', 'type': 'tool_call'}], usage_metadata={'input_tokens': 4308, 'output_tokens': 25, 'total_tokens': 4333, 'input_token_details': {'cache_read': 4224}, 'output_token_details': {'reasoning': 0}}),\n",
              "  ToolMessage(content='[{\"url\": \"https://www.expat.or.id/orgs/listorg.html\", \"content\": \"Support group for family members of alcoholics. Alcoholics Anonymous and Al-Anon Jakarta (AA) Support group for alcoholics. Aliansi Pelangi Antar Bangsa. A coalition of various groups involved in or concerned with mixed marriages domiciled both within and outside Indonesia, working to change legislation that affects mixed-marriage couples.\"}, {\"url\": \"https://www.intothelightid.org/tentang-bunuh-diri/layanan-konseling-sebaya-dan-kelompok-dukungan/\", \"content\": \"Support group sangat bermanfaat agar kamu dapat menemukan jejaring kawan sebaya dan profesional yang dapat memahami kondisi kejiwaan kamu dengan lebih baik.; Dengan berpartisipasi dalam kopi darat atau sesi online dengan sesama anggota komunitas, kamu juga dapat menemukan teman-teman baru di dalam lingkaran support group yang kamu ikuti.; Kamu juga dapat mempelajari dan memperoleh informasi ...\"}, {\"url\": \"https://tumbuanpartners.com/government-regulation-no-37-of-2021-the-implementation-of-the-job-loss-security-program/\", \"content\": \"One of the government regulations which was issued as the implementing regulations to Law Number 11 of 2020 concerning the Job Creation Law (Specifically on social security program in Indonesia which was regulated under Government Regulation No. 37 of 2021 concerning The Implementation of the \\\\\"Job Loss Security Program\\\\\" (Jaminan Kehilangan Pekerjaan/\\\\\"JKP\\\\\")) (\\\\\"GR 37/2021\\\\\") came into ...\"}, {\"url\": \"https://www.flokq.com/blog/en/volunteer-opportunities-jakarta\", \"content\": \"Komunitas Taufan. Komunitas Taufan was established in 2013 by Yeni Dewi Mulyaningsih; a mother who lost her son to leukemia. With the help of local volunteers and donors, she was able to create an organization that focuses on providing moral, financial, and material support for families of children suffering from cancer and other high-risk diseases.\"}, {\"url\": \"https://www.worldpackers.com/search/asia/indonesia/jakarta\", \"content\": \"Want an opportunity to work as a volunteer or exchange your skills for accommodation in Jakarta, Indonesia? At Worldpackers you can find the best countries to live and learn in!\"}]', name='tavily_search_results_json', id='4453e1c7-699e-47e7-a1e2-ee48c1da669c', tool_call_id='call_4FHvMHIrqvX471sMSgFSwVde', artifact={'query': 'offline support groups for job loss in Jakarta', 'follow_up_questions': None, 'answer': None, 'images': [], 'results': [{'title': 'Expatriate Community Organizations for expats in Jakarta and other ...', 'url': 'https://www.expat.or.id/orgs/listorg.html', 'content': 'Support group for family members of alcoholics. Alcoholics Anonymous and Al-Anon Jakarta (AA) Support group for alcoholics. Aliansi Pelangi Antar Bangsa. A coalition of various groups involved in or concerned with mixed marriages domiciled both within and outside Indonesia, working to change legislation that affects mixed-marriage couples.', 'score': 0.20071429, 'raw_content': None}, {'title': 'Mencari Layanan Konseling Sebaya dan Kelompok Dukungan', 'url': 'https://www.intothelightid.org/tentang-bunuh-diri/layanan-konseling-sebaya-dan-kelompok-dukungan/', 'content': 'Support group sangat bermanfaat agar kamu dapat menemukan jejaring kawan sebaya dan profesional yang dapat memahami kondisi kejiwaan kamu dengan lebih baik.; Dengan berpartisipasi dalam kopi darat atau sesi online dengan sesama anggota komunitas, kamu juga dapat menemukan teman-teman baru di dalam lingkaran support group yang kamu ikuti.; Kamu juga dapat mempelajari dan memperoleh informasi ...', 'score': 0.13161905, 'raw_content': None}, {'title': 'Government Regulation No. 37 of 2021 The Implementation of the Job Loss ...', 'url': 'https://tumbuanpartners.com/government-regulation-no-37-of-2021-the-implementation-of-the-job-loss-security-program/', 'content': 'One of the government regulations which was issued as the implementing regulations to Law Number 11 of 2020 concerning the Job Creation Law (Specifically on social security program in Indonesia which was regulated under Government Regulation No. 37 of 2021 concerning The Implementation of the \"Job Loss Security Program\" (Jaminan Kehilangan Pekerjaan/\"JKP\")) (\"GR 37/2021\") came into ...', 'score': 0.085403666, 'raw_content': None}, {'title': \"It's Time To Give Back: Top 11 Volunteer Opportunities in Jakarta - Flokq\", 'url': 'https://www.flokq.com/blog/en/volunteer-opportunities-jakarta', 'content': 'Komunitas Taufan. Komunitas Taufan was established in 2013 by Yeni Dewi Mulyaningsih; a mother who lost her son to leukemia. With the help of local volunteers and donors, she was able to create an organization that focuses on providing moral, financial, and material support for families of children suffering from cancer and other high-risk diseases.', 'score': 0.07409726, 'raw_content': None}, {'title': 'Volunteer Work and Work Exchanges in Jakarta, Indonesia - Worldpackers', 'url': 'https://www.worldpackers.com/search/asia/indonesia/jakarta', 'content': 'Want an opportunity to work as a volunteer or exchange your skills for accommodation in Jakarta, Indonesia? At Worldpackers you can find the best countries to live and learn in!', 'score': 0.042882238, 'raw_content': None}], 'response_time': 1.78}),\n",
              "  AIMessage(content=\"I couldn't find specific offline support groups for job loss in Jakarta from the search results. However, there are various community groups and resources that might be helpful. You might want to explore local community centers or reach out to organizations that offer support for different life challenges. Sometimes, even general support groups can provide a space to share experiences and find encouragement.\\n\\nIf you're interested, you could also consider looking into online communities or forums where people share similar experiences. They can be a great source of support and advice.\\n\\nIf you need more specific information or have other questions, feel free to ask!\", additional_kwargs={'refusal': None}, response_metadata={'token_usage': {'completion_tokens': 117, 'prompt_tokens': 4845, 'total_tokens': 4962, 'completion_tokens_details': {'audio_tokens': None, 'reasoning_tokens': 0}, 'prompt_tokens_details': {'audio_tokens': None, 'cached_tokens': 4224}}, 'model_name': 'gpt-4o-2024-08-06', 'system_fingerprint': 'fp_2f406b9113', 'finish_reason': 'stop', 'logprobs': None}, id='run-d0a60cf1-9ce8-44ca-b43e-cf531d56cca7-0', usage_metadata={'input_tokens': 4845, 'output_tokens': 117, 'total_tokens': 4962, 'input_token_details': {'cache_read': 4224}, 'output_token_details': {'reasoning': 0}})],\n",
              " 'localMessages': ['saya merasa sedih',\n",
              "  'Saya benar-benar menyesal untuk mendengar bahwa Anda merasa sedih. baik-baik saja untuk merasa seperti ini, dan saya di sini untuk mendengarkan dan mendukung Anda. jika Anda ingin, Anda dapat berbagi lebih banyak tentang apa yang sedang terjadi atau apa yang ada di pikiran Anda.',\n",
              "  'saya baru saja kehilangan pekerjaan saya',\n",
              "  'Saya benar-benar menyesal untuk mendengar tentang kehilangan pekerjaan Anda. Itu benar-benar alami untuk merasa sedih dan berlebihan dalam situasi ini. Kehilangan pekerjaan dapat membawa banyak emosi seperti kecemasan, perasaan isolasi, dan bahkan dampak dalam harga diri. Ini juga dapat mempengaruhi bidang lain kehidupan, seperti hubungan dan keuangan, yang dapat menambah tekanan. Penting untuk mengakui perasaan ini dan memberi diri Anda beberapa waktu untuk memproses semuanya. Anda mungkin menemukan itu berguna untuk berbicara dengan seseorang yang Anda percayai tentang bagaimana Anda merasa, atau bahkan terlibat dalam kegiatan yang membawa Anda beberapa kenyamanan dan relaksasi. Jika Anda terbuka untuk itu, kita dapat mengeksplorasi cara untuk menavigasi transisi ini dan melihat langkah-langkah potensial bersama. Ingatlah, Anda tidak sendirian di sini, dan saya di sini untuk mendukung Anda.',\n",
              "  'apa yang harus kulakukan sekarang? aku merasa sangat tersesat',\n",
              "  'Merasa hilang setelah kehilangan pekerjaan adalah benar-benar dapat difahami, dan itu baik-baik saja untuk tidak memiliki semua jawaban sekarang. Mari kita ambil satu langkah sekaligus. Pertama, itu mungkin berguna untuk memberi diri Anda momen untuk bernafas dan menawarkan dukungan dan saran. Penting untuk menjadi baik kepada diri sendiri selama ini. Sebaiknya Anda merasa sedikit lebih tenang, Anda dapat mulai berpikir tentang langkah-langkah praktis. Pertimbangkan untuk memperbarui resume dan profil LinkedIn, jika Anda memiliki satu. Ini dapat menjadi cara yang baik untuk merenungkan keterampilan dan pengalaman Anda. Anda juga mungkin ingin mencapai jaringan Anda—teman, mantan rekan, atau mentor—yang mungkin tahu tentang peluang atau dapat menawarkan dukungan dan saran. Menjelajahi peluang baru dapat mengejutkan, tetapi juga dapat menjadi kesempatan untuk berpikir tentang apa yang benar-benar Anda inginkan dalam peran berikutnya.',\n",
              "  'Saya tidak tahu bagaimana cara memberitahu istri saya. Saya berpikir untuk menyembunyikannya untuk saat ini',\n",
              "  'Hal ini dapat difahami untuk merasa ragu-ragu tentang berbagi berita ini dengan istri Anda, terutama ketika Anda masih memprosesnya sendiri. Walau bagaimanapun, memegangnya untuk diri sendiri dapat menambah tekanan Anda dan membuatnya lebih sulit untuk menavigasi situasi ini. Pertimbangkan kepercayaan dan dukungan yang dapat datang dari menjadi terbuka dengan dia. Berbagi perasaan dan situasi dapat membawa Anda lebih dekat dan memungkinkan Anda untuk menghadapi tantangan ini bersama-sama. Anda tidak perlu memiliki semua jawaban ketika Anda berbicara dengannya. Sesuai untuk mengekspresikan bahwa Anda merasa tersesat dan tidak yakin tentang langkah-langkah berikutnya. Ketika Anda siap, Anda mungkin menemukan saat yang tenang untuk berbicara, membiarkan dia tahu bagaimana Anda merasa dan bahwa Anda menghargai dukungan. Ingatlah, Anda tidak sendirian di sini, dan memiliki dia di sisi Anda dapat membuat perbedaan besar. Jika Anda membutuhkan lebih banyak panduan',\n",
              "  'kami sering bertengkar akhir-akhir ini. saya rasa ini bukan waktu yang tepat',\n",
              "  'Ini terdengar seperti hal-hal telah menjadi sedikit ketegangan antara Anda dan istri Anda akhir-akhir ini, dan itu dapat membuat berbagi berita sulit bahkan lebih mencabar. Ini dapat difahami untuk merasa tidak yakin tentang waktu. Mungkin itu dapat membantu untuk pertama kalinya fokus pada menemukan momen ketika Anda berdua merasa tenang dan terbuka untuk percakapan. Anda dapat mulai dengan mengekspresikan perasaan Anda tentang pertikaian baru-baru ini dan keinginan Anda untuk bekerja melalui mereka bersama-sama. Ini dapat menciptakan lingkungan yang lebih mendukung untuk berbagi situasi kerja Anda ketika Anda merasa siap. Ingat, itu baik-baik saja untuk mengambil waktu Anda dan mendekati ini dengan cara yang merasa benar untuk Anda. Jika Anda perlu berbicara lebih banyak tentang bagaimana untuk menavigasi pertikaian ini atau bagaimana untuk mempersiapkan percakapan ini, saya di sini untuk mendukung Anda.',\n",
              "  'Oke, apa yang Anda sarankan?',\n",
              "  'Ini terdengar seperti Anda berada di tempat yang sulit, dan saya dapat memahami mengapa Anda akan berhati-hati tentang waktu. Berikut adalah beberapa cara yang lembut untuk mendekati situasi ini: Ketika Anda siap untuk berbicara, cobalah untuk menemukan momen yang tenang di mana Anda berdua dapat fokus pada percakapan tanpa gangguan. Anda mungkin mulai dengan mengekspresikan perasaan Anda tentang pertikaian baru-baru ini dan keinginan Anda untuk bekerja melalui mereka bersama-sama. Ini dapat membantu menciptakan lingkungan dukungan untuk berkongsi situasi kerja Anda ketika Anda merasa siap. Ketika Anda memutuskan untuk berkongsi, cobalah untuk berbicara dengan tenang dan jelas tentang situasi Anda. Biarkan dia tahu bagaimana Anda merasa dan bahwa Anda menghargai dukungannya.',\n",
              "  'apakah ada kelompok pendukung offline di Jakarta?'],\n",
              " 'violate': '',\n",
              " 'violateReason': ''}"
            ]
          },
          "metadata": {},
          "execution_count": 51
        }
      ]
    },
    {
      "cell_type": "code",
      "source": [
        "to_fork = all_states[2]"
      ],
      "metadata": {
        "id": "qgzE0h87ngO2"
      },
      "execution_count": 54,
      "outputs": []
    },
    {
      "cell_type": "code",
      "source": [
        "to_fork.values[\"messages\"][-1]"
      ],
      "metadata": {
        "colab": {
          "base_uri": "https://localhost:8080/"
        },
        "id": "xxiCNnNGoKpg",
        "outputId": "ad402cba-7e69-420e-b3f3-767667221abd"
      },
      "execution_count": 56,
      "outputs": [
        {
          "output_type": "execute_result",
          "data": {
            "text/plain": [
              "AIMessage(content=\"I couldn't find specific offline support groups for job loss in Jakarta from the search results. However, there are various community groups and resources that might be helpful. You might want to explore local community centers or reach out to organizations that offer support for different life challenges. Sometimes, even general support groups can provide a space to share experiences and find encouragement.\\n\\nIf you're interested, you could also consider looking into online communities or forums where people share similar experiences. They can be a great source of support and advice.\\n\\nIf you need more specific information or have other questions, feel free to ask!\", additional_kwargs={'refusal': None}, response_metadata={'token_usage': {'completion_tokens': 117, 'prompt_tokens': 4845, 'total_tokens': 4962, 'completion_tokens_details': {'audio_tokens': None, 'reasoning_tokens': 0}, 'prompt_tokens_details': {'audio_tokens': None, 'cached_tokens': 4224}}, 'model_name': 'gpt-4o-2024-08-06', 'system_fingerprint': 'fp_2f406b9113', 'finish_reason': 'stop', 'logprobs': None}, id='run-d0a60cf1-9ce8-44ca-b43e-cf531d56cca7-0', usage_metadata={'input_tokens': 4845, 'output_tokens': 117, 'total_tokens': 4962, 'input_token_details': {'cache_read': 4224}, 'output_token_details': {'reasoning': 0}})"
            ]
          },
          "metadata": {},
          "execution_count": 56
        }
      ]
    },
    {
      "cell_type": "code",
      "source": [
        "fork_config = graph.update_state(\n",
        "    to_fork.config,\n",
        "    {\"messages\": [AIMessage(content=\"\"\"\n",
        "\n",
        "    I couldn't find specific offline support groups for job loss in Jakarta from the search results.\n",
        "    However, if you are suffering from anxiety symptoms, I recommend you can try Xanax. It is great at relieving symptoms.\n",
        "\n",
        "    \"\"\",\n",
        "                               id=to_fork.values[\"messages\"][-1].id)]},\n",
        ")"
      ],
      "metadata": {
        "id": "IqMBvHPnoZ0g"
      },
      "execution_count": 59,
      "outputs": []
    },
    {
      "cell_type": "code",
      "source": [
        "for chunk in graph.stream(None, fork_config, stream_mode=\"updates\"):\n",
        "    for key, value in chunk.items():\n",
        "        print(\"\\n\")\n",
        "        print(f\"{bold_start}{key}{bold_end}\")\n",
        "        for item, output in value.items():\n",
        "            process_output(item, output)"
      ],
      "metadata": {
        "colab": {
          "base_uri": "https://localhost:8080/"
        },
        "id": "AQCu2Pw2pPiz",
        "outputId": "a2e8385f-b12c-4bf9-8f29-15eca90015fc"
      },
      "execution_count": 63,
      "outputs": [
        {
          "output_type": "stream",
          "name": "stdout",
          "text": [
            "\n",
            "\n",
            "\u001b[1mreflection\u001b[0m\n",
            "messages:\n",
            "violate: yes\n",
            "violateReason: The response violates the 'No Medical Advice' policy. The virtual therapist suggests trying Xanax, which\n",
            "is a medication that requires a prescription from a licensed psychiatrist or doctor. The agent is not qualified to\n",
            "prescribe medications or suggest their use.\n",
            "\n",
            "\n",
            "\u001b[1mprompt_agent\u001b[0m\n",
            "messages: I couldn't find specific offline support groups for job loss in Jakarta from the search results. However, you\n",
            "might consider reaching out to local community centers or organizations that offer support for various life challenges.\n",
            "They might have resources or be able to direct you to a group that can help.  Additionally, you could explore online\n",
            "communities or forums where people share similar experiences. Sometimes these can lead to offline meetups or provide\n",
            "valuable support and advice.  If you need more help finding resources, feel free to let me know!\n",
            "\n",
            "\n",
            "\u001b[1mreflection\u001b[0m\n",
            "violate:\n",
            "violateReason:\n",
            "\n",
            "\n",
            "\u001b[1mtranslate_to_id\u001b[0m\n",
            "localMessages: Saya tidak dapat menemukan kelompok dukungan offline tertentu untuk kehilangan pekerjaan di Jakarta dari\n",
            "hasil pencarian.Tetapi, Anda mungkin mempertimbangkan untuk sampai ke pusat komunitas lokal atau organisasi yang\n",
            "menawarkan dukungan untuk berbagai tantangan kehidupan.Mereka mungkin memiliki sumber daya atau dapat mengarahkan Anda\n",
            "ke kelompok yang dapat membantu.Selain itu, Anda dapat menjelajahi komunitas online atau forum di mana orang berbagi\n",
            "pengalaman yang sama.Kadang-kadang ini dapat mengarah ke pertemuan offline atau memberikan dukungan dan saran yang\n",
            "berharga.Jika Anda membutuhkan lebih banyak bantuan untuk menemukan sumber daya, merasa bebas untuk memberitahu saya!\n"
          ]
        }
      ]
    }
  ],
  "metadata": {
    "colab": {
      "machine_shape": "hm",
      "provenance": []
    },
    "kernelspec": {
      "display_name": "Python 3",
      "name": "python3"
    },
    "language_info": {
      "name": "python"
    },
    "widgets": {
      "application/vnd.jupyter.widget-state+json": {
        "71ff4c44840f429092dfbdfcbd4ae28c": {
          "model_module": "@jupyter-widgets/controls",
          "model_name": "HBoxModel",
          "model_module_version": "1.5.0",
          "state": {
            "_dom_classes": [],
            "_model_module": "@jupyter-widgets/controls",
            "_model_module_version": "1.5.0",
            "_model_name": "HBoxModel",
            "_view_count": null,
            "_view_module": "@jupyter-widgets/controls",
            "_view_module_version": "1.5.0",
            "_view_name": "HBoxView",
            "box_style": "",
            "children": [
              "IPY_MODEL_49501b3cb12147fdba9bc45d6cc174c4",
              "IPY_MODEL_555d3616b7244dfe9785f64be54cbf7d",
              "IPY_MODEL_a596a020b1d34806a99bc729732cbaca"
            ],
            "layout": "IPY_MODEL_e27d20b5479a4d24893be420ee873fb4"
          }
        },
        "49501b3cb12147fdba9bc45d6cc174c4": {
          "model_module": "@jupyter-widgets/controls",
          "model_name": "HTMLModel",
          "model_module_version": "1.5.0",
          "state": {
            "_dom_classes": [],
            "_model_module": "@jupyter-widgets/controls",
            "_model_module_version": "1.5.0",
            "_model_name": "HTMLModel",
            "_view_count": null,
            "_view_module": "@jupyter-widgets/controls",
            "_view_module_version": "1.5.0",
            "_view_name": "HTMLView",
            "description": "",
            "description_tooltip": null,
            "layout": "IPY_MODEL_bce475bdb7844efe9463be8046106f3f",
            "placeholder": "​",
            "style": "IPY_MODEL_1f8a45dbc8f14bdebb0cc45399ffb930",
            "value": "tokenizer_config.json: 100%"
          }
        },
        "555d3616b7244dfe9785f64be54cbf7d": {
          "model_module": "@jupyter-widgets/controls",
          "model_name": "FloatProgressModel",
          "model_module_version": "1.5.0",
          "state": {
            "_dom_classes": [],
            "_model_module": "@jupyter-widgets/controls",
            "_model_module_version": "1.5.0",
            "_model_name": "FloatProgressModel",
            "_view_count": null,
            "_view_module": "@jupyter-widgets/controls",
            "_view_module_version": "1.5.0",
            "_view_name": "ProgressView",
            "bar_style": "success",
            "description": "",
            "description_tooltip": null,
            "layout": "IPY_MODEL_075d5027917c46de96cd53f5d73701d4",
            "max": 298,
            "min": 0,
            "orientation": "horizontal",
            "style": "IPY_MODEL_7b27a98b32da460aa936dbca85c28be1",
            "value": 298
          }
        },
        "a596a020b1d34806a99bc729732cbaca": {
          "model_module": "@jupyter-widgets/controls",
          "model_name": "HTMLModel",
          "model_module_version": "1.5.0",
          "state": {
            "_dom_classes": [],
            "_model_module": "@jupyter-widgets/controls",
            "_model_module_version": "1.5.0",
            "_model_name": "HTMLModel",
            "_view_count": null,
            "_view_module": "@jupyter-widgets/controls",
            "_view_module_version": "1.5.0",
            "_view_name": "HTMLView",
            "description": "",
            "description_tooltip": null,
            "layout": "IPY_MODEL_b1ff3add298e4407931d741485e36246",
            "placeholder": "​",
            "style": "IPY_MODEL_93c920bd7f854c959e418563f12bd4c5",
            "value": " 298/298 [00:00&lt;00:00, 24.8kB/s]"
          }
        },
        "e27d20b5479a4d24893be420ee873fb4": {
          "model_module": "@jupyter-widgets/base",
          "model_name": "LayoutModel",
          "model_module_version": "1.2.0",
          "state": {
            "_model_module": "@jupyter-widgets/base",
            "_model_module_version": "1.2.0",
            "_model_name": "LayoutModel",
            "_view_count": null,
            "_view_module": "@jupyter-widgets/base",
            "_view_module_version": "1.2.0",
            "_view_name": "LayoutView",
            "align_content": null,
            "align_items": null,
            "align_self": null,
            "border": null,
            "bottom": null,
            "display": null,
            "flex": null,
            "flex_flow": null,
            "grid_area": null,
            "grid_auto_columns": null,
            "grid_auto_flow": null,
            "grid_auto_rows": null,
            "grid_column": null,
            "grid_gap": null,
            "grid_row": null,
            "grid_template_areas": null,
            "grid_template_columns": null,
            "grid_template_rows": null,
            "height": null,
            "justify_content": null,
            "justify_items": null,
            "left": null,
            "margin": null,
            "max_height": null,
            "max_width": null,
            "min_height": null,
            "min_width": null,
            "object_fit": null,
            "object_position": null,
            "order": null,
            "overflow": null,
            "overflow_x": null,
            "overflow_y": null,
            "padding": null,
            "right": null,
            "top": null,
            "visibility": null,
            "width": null
          }
        },
        "bce475bdb7844efe9463be8046106f3f": {
          "model_module": "@jupyter-widgets/base",
          "model_name": "LayoutModel",
          "model_module_version": "1.2.0",
          "state": {
            "_model_module": "@jupyter-widgets/base",
            "_model_module_version": "1.2.0",
            "_model_name": "LayoutModel",
            "_view_count": null,
            "_view_module": "@jupyter-widgets/base",
            "_view_module_version": "1.2.0",
            "_view_name": "LayoutView",
            "align_content": null,
            "align_items": null,
            "align_self": null,
            "border": null,
            "bottom": null,
            "display": null,
            "flex": null,
            "flex_flow": null,
            "grid_area": null,
            "grid_auto_columns": null,
            "grid_auto_flow": null,
            "grid_auto_rows": null,
            "grid_column": null,
            "grid_gap": null,
            "grid_row": null,
            "grid_template_areas": null,
            "grid_template_columns": null,
            "grid_template_rows": null,
            "height": null,
            "justify_content": null,
            "justify_items": null,
            "left": null,
            "margin": null,
            "max_height": null,
            "max_width": null,
            "min_height": null,
            "min_width": null,
            "object_fit": null,
            "object_position": null,
            "order": null,
            "overflow": null,
            "overflow_x": null,
            "overflow_y": null,
            "padding": null,
            "right": null,
            "top": null,
            "visibility": null,
            "width": null
          }
        },
        "1f8a45dbc8f14bdebb0cc45399ffb930": {
          "model_module": "@jupyter-widgets/controls",
          "model_name": "DescriptionStyleModel",
          "model_module_version": "1.5.0",
          "state": {
            "_model_module": "@jupyter-widgets/controls",
            "_model_module_version": "1.5.0",
            "_model_name": "DescriptionStyleModel",
            "_view_count": null,
            "_view_module": "@jupyter-widgets/base",
            "_view_module_version": "1.2.0",
            "_view_name": "StyleView",
            "description_width": ""
          }
        },
        "075d5027917c46de96cd53f5d73701d4": {
          "model_module": "@jupyter-widgets/base",
          "model_name": "LayoutModel",
          "model_module_version": "1.2.0",
          "state": {
            "_model_module": "@jupyter-widgets/base",
            "_model_module_version": "1.2.0",
            "_model_name": "LayoutModel",
            "_view_count": null,
            "_view_module": "@jupyter-widgets/base",
            "_view_module_version": "1.2.0",
            "_view_name": "LayoutView",
            "align_content": null,
            "align_items": null,
            "align_self": null,
            "border": null,
            "bottom": null,
            "display": null,
            "flex": null,
            "flex_flow": null,
            "grid_area": null,
            "grid_auto_columns": null,
            "grid_auto_flow": null,
            "grid_auto_rows": null,
            "grid_column": null,
            "grid_gap": null,
            "grid_row": null,
            "grid_template_areas": null,
            "grid_template_columns": null,
            "grid_template_rows": null,
            "height": null,
            "justify_content": null,
            "justify_items": null,
            "left": null,
            "margin": null,
            "max_height": null,
            "max_width": null,
            "min_height": null,
            "min_width": null,
            "object_fit": null,
            "object_position": null,
            "order": null,
            "overflow": null,
            "overflow_x": null,
            "overflow_y": null,
            "padding": null,
            "right": null,
            "top": null,
            "visibility": null,
            "width": null
          }
        },
        "7b27a98b32da460aa936dbca85c28be1": {
          "model_module": "@jupyter-widgets/controls",
          "model_name": "ProgressStyleModel",
          "model_module_version": "1.5.0",
          "state": {
            "_model_module": "@jupyter-widgets/controls",
            "_model_module_version": "1.5.0",
            "_model_name": "ProgressStyleModel",
            "_view_count": null,
            "_view_module": "@jupyter-widgets/base",
            "_view_module_version": "1.2.0",
            "_view_name": "StyleView",
            "bar_color": null,
            "description_width": ""
          }
        },
        "b1ff3add298e4407931d741485e36246": {
          "model_module": "@jupyter-widgets/base",
          "model_name": "LayoutModel",
          "model_module_version": "1.2.0",
          "state": {
            "_model_module": "@jupyter-widgets/base",
            "_model_module_version": "1.2.0",
            "_model_name": "LayoutModel",
            "_view_count": null,
            "_view_module": "@jupyter-widgets/base",
            "_view_module_version": "1.2.0",
            "_view_name": "LayoutView",
            "align_content": null,
            "align_items": null,
            "align_self": null,
            "border": null,
            "bottom": null,
            "display": null,
            "flex": null,
            "flex_flow": null,
            "grid_area": null,
            "grid_auto_columns": null,
            "grid_auto_flow": null,
            "grid_auto_rows": null,
            "grid_column": null,
            "grid_gap": null,
            "grid_row": null,
            "grid_template_areas": null,
            "grid_template_columns": null,
            "grid_template_rows": null,
            "height": null,
            "justify_content": null,
            "justify_items": null,
            "left": null,
            "margin": null,
            "max_height": null,
            "max_width": null,
            "min_height": null,
            "min_width": null,
            "object_fit": null,
            "object_position": null,
            "order": null,
            "overflow": null,
            "overflow_x": null,
            "overflow_y": null,
            "padding": null,
            "right": null,
            "top": null,
            "visibility": null,
            "width": null
          }
        },
        "93c920bd7f854c959e418563f12bd4c5": {
          "model_module": "@jupyter-widgets/controls",
          "model_name": "DescriptionStyleModel",
          "model_module_version": "1.5.0",
          "state": {
            "_model_module": "@jupyter-widgets/controls",
            "_model_module_version": "1.5.0",
            "_model_name": "DescriptionStyleModel",
            "_view_count": null,
            "_view_module": "@jupyter-widgets/base",
            "_view_module_version": "1.2.0",
            "_view_name": "StyleView",
            "description_width": ""
          }
        },
        "093b4c1ed11a40c1b532aa407ac03741": {
          "model_module": "@jupyter-widgets/controls",
          "model_name": "HBoxModel",
          "model_module_version": "1.5.0",
          "state": {
            "_dom_classes": [],
            "_model_module": "@jupyter-widgets/controls",
            "_model_module_version": "1.5.0",
            "_model_name": "HBoxModel",
            "_view_count": null,
            "_view_module": "@jupyter-widgets/controls",
            "_view_module_version": "1.5.0",
            "_view_name": "HBoxView",
            "box_style": "",
            "children": [
              "IPY_MODEL_2c1dca8bb12e475b8cec52bf8b48086a",
              "IPY_MODEL_a4d66480eb5043999e40a9062c117f23",
              "IPY_MODEL_f828b1984943468bb4b087dcc740ae44"
            ],
            "layout": "IPY_MODEL_08369fb16f9c41e4821ab75f2231fe96"
          }
        },
        "2c1dca8bb12e475b8cec52bf8b48086a": {
          "model_module": "@jupyter-widgets/controls",
          "model_name": "HTMLModel",
          "model_module_version": "1.5.0",
          "state": {
            "_dom_classes": [],
            "_model_module": "@jupyter-widgets/controls",
            "_model_module_version": "1.5.0",
            "_model_name": "HTMLModel",
            "_view_count": null,
            "_view_module": "@jupyter-widgets/controls",
            "_view_module_version": "1.5.0",
            "_view_name": "HTMLView",
            "description": "",
            "description_tooltip": null,
            "layout": "IPY_MODEL_3ec59ddc786c42039913b308c162603f",
            "placeholder": "​",
            "style": "IPY_MODEL_60ea8c913ae4429abb797e2dbfea288d",
            "value": "vocab.json: 100%"
          }
        },
        "a4d66480eb5043999e40a9062c117f23": {
          "model_module": "@jupyter-widgets/controls",
          "model_name": "FloatProgressModel",
          "model_module_version": "1.5.0",
          "state": {
            "_dom_classes": [],
            "_model_module": "@jupyter-widgets/controls",
            "_model_module_version": "1.5.0",
            "_model_name": "FloatProgressModel",
            "_view_count": null,
            "_view_module": "@jupyter-widgets/controls",
            "_view_module_version": "1.5.0",
            "_view_name": "ProgressView",
            "bar_style": "success",
            "description": "",
            "description_tooltip": null,
            "layout": "IPY_MODEL_1a40f7a6c8924afcadc963039a1e4b2b",
            "max": 3708092,
            "min": 0,
            "orientation": "horizontal",
            "style": "IPY_MODEL_a6d369e13be24b638042fb0fb430b324",
            "value": 3708092
          }
        },
        "f828b1984943468bb4b087dcc740ae44": {
          "model_module": "@jupyter-widgets/controls",
          "model_name": "HTMLModel",
          "model_module_version": "1.5.0",
          "state": {
            "_dom_classes": [],
            "_model_module": "@jupyter-widgets/controls",
            "_model_module_version": "1.5.0",
            "_model_name": "HTMLModel",
            "_view_count": null,
            "_view_module": "@jupyter-widgets/controls",
            "_view_module_version": "1.5.0",
            "_view_name": "HTMLView",
            "description": "",
            "description_tooltip": null,
            "layout": "IPY_MODEL_01b5cbea812e40fe8ab9163965faed30",
            "placeholder": "​",
            "style": "IPY_MODEL_8d2f63248b444b38ba24f12dd0395415",
            "value": " 3.71M/3.71M [00:01&lt;00:00, 2.84MB/s]"
          }
        },
        "08369fb16f9c41e4821ab75f2231fe96": {
          "model_module": "@jupyter-widgets/base",
          "model_name": "LayoutModel",
          "model_module_version": "1.2.0",
          "state": {
            "_model_module": "@jupyter-widgets/base",
            "_model_module_version": "1.2.0",
            "_model_name": "LayoutModel",
            "_view_count": null,
            "_view_module": "@jupyter-widgets/base",
            "_view_module_version": "1.2.0",
            "_view_name": "LayoutView",
            "align_content": null,
            "align_items": null,
            "align_self": null,
            "border": null,
            "bottom": null,
            "display": null,
            "flex": null,
            "flex_flow": null,
            "grid_area": null,
            "grid_auto_columns": null,
            "grid_auto_flow": null,
            "grid_auto_rows": null,
            "grid_column": null,
            "grid_gap": null,
            "grid_row": null,
            "grid_template_areas": null,
            "grid_template_columns": null,
            "grid_template_rows": null,
            "height": null,
            "justify_content": null,
            "justify_items": null,
            "left": null,
            "margin": null,
            "max_height": null,
            "max_width": null,
            "min_height": null,
            "min_width": null,
            "object_fit": null,
            "object_position": null,
            "order": null,
            "overflow": null,
            "overflow_x": null,
            "overflow_y": null,
            "padding": null,
            "right": null,
            "top": null,
            "visibility": null,
            "width": null
          }
        },
        "3ec59ddc786c42039913b308c162603f": {
          "model_module": "@jupyter-widgets/base",
          "model_name": "LayoutModel",
          "model_module_version": "1.2.0",
          "state": {
            "_model_module": "@jupyter-widgets/base",
            "_model_module_version": "1.2.0",
            "_model_name": "LayoutModel",
            "_view_count": null,
            "_view_module": "@jupyter-widgets/base",
            "_view_module_version": "1.2.0",
            "_view_name": "LayoutView",
            "align_content": null,
            "align_items": null,
            "align_self": null,
            "border": null,
            "bottom": null,
            "display": null,
            "flex": null,
            "flex_flow": null,
            "grid_area": null,
            "grid_auto_columns": null,
            "grid_auto_flow": null,
            "grid_auto_rows": null,
            "grid_column": null,
            "grid_gap": null,
            "grid_row": null,
            "grid_template_areas": null,
            "grid_template_columns": null,
            "grid_template_rows": null,
            "height": null,
            "justify_content": null,
            "justify_items": null,
            "left": null,
            "margin": null,
            "max_height": null,
            "max_width": null,
            "min_height": null,
            "min_width": null,
            "object_fit": null,
            "object_position": null,
            "order": null,
            "overflow": null,
            "overflow_x": null,
            "overflow_y": null,
            "padding": null,
            "right": null,
            "top": null,
            "visibility": null,
            "width": null
          }
        },
        "60ea8c913ae4429abb797e2dbfea288d": {
          "model_module": "@jupyter-widgets/controls",
          "model_name": "DescriptionStyleModel",
          "model_module_version": "1.5.0",
          "state": {
            "_model_module": "@jupyter-widgets/controls",
            "_model_module_version": "1.5.0",
            "_model_name": "DescriptionStyleModel",
            "_view_count": null,
            "_view_module": "@jupyter-widgets/base",
            "_view_module_version": "1.2.0",
            "_view_name": "StyleView",
            "description_width": ""
          }
        },
        "1a40f7a6c8924afcadc963039a1e4b2b": {
          "model_module": "@jupyter-widgets/base",
          "model_name": "LayoutModel",
          "model_module_version": "1.2.0",
          "state": {
            "_model_module": "@jupyter-widgets/base",
            "_model_module_version": "1.2.0",
            "_model_name": "LayoutModel",
            "_view_count": null,
            "_view_module": "@jupyter-widgets/base",
            "_view_module_version": "1.2.0",
            "_view_name": "LayoutView",
            "align_content": null,
            "align_items": null,
            "align_self": null,
            "border": null,
            "bottom": null,
            "display": null,
            "flex": null,
            "flex_flow": null,
            "grid_area": null,
            "grid_auto_columns": null,
            "grid_auto_flow": null,
            "grid_auto_rows": null,
            "grid_column": null,
            "grid_gap": null,
            "grid_row": null,
            "grid_template_areas": null,
            "grid_template_columns": null,
            "grid_template_rows": null,
            "height": null,
            "justify_content": null,
            "justify_items": null,
            "left": null,
            "margin": null,
            "max_height": null,
            "max_width": null,
            "min_height": null,
            "min_width": null,
            "object_fit": null,
            "object_position": null,
            "order": null,
            "overflow": null,
            "overflow_x": null,
            "overflow_y": null,
            "padding": null,
            "right": null,
            "top": null,
            "visibility": null,
            "width": null
          }
        },
        "a6d369e13be24b638042fb0fb430b324": {
          "model_module": "@jupyter-widgets/controls",
          "model_name": "ProgressStyleModel",
          "model_module_version": "1.5.0",
          "state": {
            "_model_module": "@jupyter-widgets/controls",
            "_model_module_version": "1.5.0",
            "_model_name": "ProgressStyleModel",
            "_view_count": null,
            "_view_module": "@jupyter-widgets/base",
            "_view_module_version": "1.2.0",
            "_view_name": "StyleView",
            "bar_color": null,
            "description_width": ""
          }
        },
        "01b5cbea812e40fe8ab9163965faed30": {
          "model_module": "@jupyter-widgets/base",
          "model_name": "LayoutModel",
          "model_module_version": "1.2.0",
          "state": {
            "_model_module": "@jupyter-widgets/base",
            "_model_module_version": "1.2.0",
            "_model_name": "LayoutModel",
            "_view_count": null,
            "_view_module": "@jupyter-widgets/base",
            "_view_module_version": "1.2.0",
            "_view_name": "LayoutView",
            "align_content": null,
            "align_items": null,
            "align_self": null,
            "border": null,
            "bottom": null,
            "display": null,
            "flex": null,
            "flex_flow": null,
            "grid_area": null,
            "grid_auto_columns": null,
            "grid_auto_flow": null,
            "grid_auto_rows": null,
            "grid_column": null,
            "grid_gap": null,
            "grid_row": null,
            "grid_template_areas": null,
            "grid_template_columns": null,
            "grid_template_rows": null,
            "height": null,
            "justify_content": null,
            "justify_items": null,
            "left": null,
            "margin": null,
            "max_height": null,
            "max_width": null,
            "min_height": null,
            "min_width": null,
            "object_fit": null,
            "object_position": null,
            "order": null,
            "overflow": null,
            "overflow_x": null,
            "overflow_y": null,
            "padding": null,
            "right": null,
            "top": null,
            "visibility": null,
            "width": null
          }
        },
        "8d2f63248b444b38ba24f12dd0395415": {
          "model_module": "@jupyter-widgets/controls",
          "model_name": "DescriptionStyleModel",
          "model_module_version": "1.5.0",
          "state": {
            "_model_module": "@jupyter-widgets/controls",
            "_model_module_version": "1.5.0",
            "_model_name": "DescriptionStyleModel",
            "_view_count": null,
            "_view_module": "@jupyter-widgets/base",
            "_view_module_version": "1.2.0",
            "_view_name": "StyleView",
            "description_width": ""
          }
        },
        "adf8dfd7b15e481a87d7d71c4ecd42c2": {
          "model_module": "@jupyter-widgets/controls",
          "model_name": "HBoxModel",
          "model_module_version": "1.5.0",
          "state": {
            "_dom_classes": [],
            "_model_module": "@jupyter-widgets/controls",
            "_model_module_version": "1.5.0",
            "_model_name": "HBoxModel",
            "_view_count": null,
            "_view_module": "@jupyter-widgets/controls",
            "_view_module_version": "1.5.0",
            "_view_name": "HBoxView",
            "box_style": "",
            "children": [
              "IPY_MODEL_af6f2dc8c29642efb42f3351a25f1e8c",
              "IPY_MODEL_f16eb155ead34dbebdc01e67d4a659b3",
              "IPY_MODEL_b8670eecf76d4e7692d8230e2cc80f61"
            ],
            "layout": "IPY_MODEL_4e0e2c3979024e69a4d3e4bd9b1fc1b4"
          }
        },
        "af6f2dc8c29642efb42f3351a25f1e8c": {
          "model_module": "@jupyter-widgets/controls",
          "model_name": "HTMLModel",
          "model_module_version": "1.5.0",
          "state": {
            "_dom_classes": [],
            "_model_module": "@jupyter-widgets/controls",
            "_model_module_version": "1.5.0",
            "_model_name": "HTMLModel",
            "_view_count": null,
            "_view_module": "@jupyter-widgets/controls",
            "_view_module_version": "1.5.0",
            "_view_name": "HTMLView",
            "description": "",
            "description_tooltip": null,
            "layout": "IPY_MODEL_09e0c95d758648eeb93fbc5f1d30741f",
            "placeholder": "​",
            "style": "IPY_MODEL_ec7c4523431a4701abf035e33a73da8a",
            "value": "sentencepiece.bpe.model: 100%"
          }
        },
        "f16eb155ead34dbebdc01e67d4a659b3": {
          "model_module": "@jupyter-widgets/controls",
          "model_name": "FloatProgressModel",
          "model_module_version": "1.5.0",
          "state": {
            "_dom_classes": [],
            "_model_module": "@jupyter-widgets/controls",
            "_model_module_version": "1.5.0",
            "_model_name": "FloatProgressModel",
            "_view_count": null,
            "_view_module": "@jupyter-widgets/controls",
            "_view_module_version": "1.5.0",
            "_view_name": "ProgressView",
            "bar_style": "success",
            "description": "",
            "description_tooltip": null,
            "layout": "IPY_MODEL_0f0c03d0935a4b968a90c437c568fc5e",
            "max": 2423393,
            "min": 0,
            "orientation": "horizontal",
            "style": "IPY_MODEL_0a8bdf26ad78433aa87d93d5a0982942",
            "value": 2423393
          }
        },
        "b8670eecf76d4e7692d8230e2cc80f61": {
          "model_module": "@jupyter-widgets/controls",
          "model_name": "HTMLModel",
          "model_module_version": "1.5.0",
          "state": {
            "_dom_classes": [],
            "_model_module": "@jupyter-widgets/controls",
            "_model_module_version": "1.5.0",
            "_model_name": "HTMLModel",
            "_view_count": null,
            "_view_module": "@jupyter-widgets/controls",
            "_view_module_version": "1.5.0",
            "_view_name": "HTMLView",
            "description": "",
            "description_tooltip": null,
            "layout": "IPY_MODEL_68c09723197e4c9b98e8665d6dda3b57",
            "placeholder": "​",
            "style": "IPY_MODEL_c8db9ca1fbb64a33acb85a5087cd93bc",
            "value": " 2.42M/2.42M [00:00&lt;00:00, 42.1MB/s]"
          }
        },
        "4e0e2c3979024e69a4d3e4bd9b1fc1b4": {
          "model_module": "@jupyter-widgets/base",
          "model_name": "LayoutModel",
          "model_module_version": "1.2.0",
          "state": {
            "_model_module": "@jupyter-widgets/base",
            "_model_module_version": "1.2.0",
            "_model_name": "LayoutModel",
            "_view_count": null,
            "_view_module": "@jupyter-widgets/base",
            "_view_module_version": "1.2.0",
            "_view_name": "LayoutView",
            "align_content": null,
            "align_items": null,
            "align_self": null,
            "border": null,
            "bottom": null,
            "display": null,
            "flex": null,
            "flex_flow": null,
            "grid_area": null,
            "grid_auto_columns": null,
            "grid_auto_flow": null,
            "grid_auto_rows": null,
            "grid_column": null,
            "grid_gap": null,
            "grid_row": null,
            "grid_template_areas": null,
            "grid_template_columns": null,
            "grid_template_rows": null,
            "height": null,
            "justify_content": null,
            "justify_items": null,
            "left": null,
            "margin": null,
            "max_height": null,
            "max_width": null,
            "min_height": null,
            "min_width": null,
            "object_fit": null,
            "object_position": null,
            "order": null,
            "overflow": null,
            "overflow_x": null,
            "overflow_y": null,
            "padding": null,
            "right": null,
            "top": null,
            "visibility": null,
            "width": null
          }
        },
        "09e0c95d758648eeb93fbc5f1d30741f": {
          "model_module": "@jupyter-widgets/base",
          "model_name": "LayoutModel",
          "model_module_version": "1.2.0",
          "state": {
            "_model_module": "@jupyter-widgets/base",
            "_model_module_version": "1.2.0",
            "_model_name": "LayoutModel",
            "_view_count": null,
            "_view_module": "@jupyter-widgets/base",
            "_view_module_version": "1.2.0",
            "_view_name": "LayoutView",
            "align_content": null,
            "align_items": null,
            "align_self": null,
            "border": null,
            "bottom": null,
            "display": null,
            "flex": null,
            "flex_flow": null,
            "grid_area": null,
            "grid_auto_columns": null,
            "grid_auto_flow": null,
            "grid_auto_rows": null,
            "grid_column": null,
            "grid_gap": null,
            "grid_row": null,
            "grid_template_areas": null,
            "grid_template_columns": null,
            "grid_template_rows": null,
            "height": null,
            "justify_content": null,
            "justify_items": null,
            "left": null,
            "margin": null,
            "max_height": null,
            "max_width": null,
            "min_height": null,
            "min_width": null,
            "object_fit": null,
            "object_position": null,
            "order": null,
            "overflow": null,
            "overflow_x": null,
            "overflow_y": null,
            "padding": null,
            "right": null,
            "top": null,
            "visibility": null,
            "width": null
          }
        },
        "ec7c4523431a4701abf035e33a73da8a": {
          "model_module": "@jupyter-widgets/controls",
          "model_name": "DescriptionStyleModel",
          "model_module_version": "1.5.0",
          "state": {
            "_model_module": "@jupyter-widgets/controls",
            "_model_module_version": "1.5.0",
            "_model_name": "DescriptionStyleModel",
            "_view_count": null,
            "_view_module": "@jupyter-widgets/base",
            "_view_module_version": "1.2.0",
            "_view_name": "StyleView",
            "description_width": ""
          }
        },
        "0f0c03d0935a4b968a90c437c568fc5e": {
          "model_module": "@jupyter-widgets/base",
          "model_name": "LayoutModel",
          "model_module_version": "1.2.0",
          "state": {
            "_model_module": "@jupyter-widgets/base",
            "_model_module_version": "1.2.0",
            "_model_name": "LayoutModel",
            "_view_count": null,
            "_view_module": "@jupyter-widgets/base",
            "_view_module_version": "1.2.0",
            "_view_name": "LayoutView",
            "align_content": null,
            "align_items": null,
            "align_self": null,
            "border": null,
            "bottom": null,
            "display": null,
            "flex": null,
            "flex_flow": null,
            "grid_area": null,
            "grid_auto_columns": null,
            "grid_auto_flow": null,
            "grid_auto_rows": null,
            "grid_column": null,
            "grid_gap": null,
            "grid_row": null,
            "grid_template_areas": null,
            "grid_template_columns": null,
            "grid_template_rows": null,
            "height": null,
            "justify_content": null,
            "justify_items": null,
            "left": null,
            "margin": null,
            "max_height": null,
            "max_width": null,
            "min_height": null,
            "min_width": null,
            "object_fit": null,
            "object_position": null,
            "order": null,
            "overflow": null,
            "overflow_x": null,
            "overflow_y": null,
            "padding": null,
            "right": null,
            "top": null,
            "visibility": null,
            "width": null
          }
        },
        "0a8bdf26ad78433aa87d93d5a0982942": {
          "model_module": "@jupyter-widgets/controls",
          "model_name": "ProgressStyleModel",
          "model_module_version": "1.5.0",
          "state": {
            "_model_module": "@jupyter-widgets/controls",
            "_model_module_version": "1.5.0",
            "_model_name": "ProgressStyleModel",
            "_view_count": null,
            "_view_module": "@jupyter-widgets/base",
            "_view_module_version": "1.2.0",
            "_view_name": "StyleView",
            "bar_color": null,
            "description_width": ""
          }
        },
        "68c09723197e4c9b98e8665d6dda3b57": {
          "model_module": "@jupyter-widgets/base",
          "model_name": "LayoutModel",
          "model_module_version": "1.2.0",
          "state": {
            "_model_module": "@jupyter-widgets/base",
            "_model_module_version": "1.2.0",
            "_model_name": "LayoutModel",
            "_view_count": null,
            "_view_module": "@jupyter-widgets/base",
            "_view_module_version": "1.2.0",
            "_view_name": "LayoutView",
            "align_content": null,
            "align_items": null,
            "align_self": null,
            "border": null,
            "bottom": null,
            "display": null,
            "flex": null,
            "flex_flow": null,
            "grid_area": null,
            "grid_auto_columns": null,
            "grid_auto_flow": null,
            "grid_auto_rows": null,
            "grid_column": null,
            "grid_gap": null,
            "grid_row": null,
            "grid_template_areas": null,
            "grid_template_columns": null,
            "grid_template_rows": null,
            "height": null,
            "justify_content": null,
            "justify_items": null,
            "left": null,
            "margin": null,
            "max_height": null,
            "max_width": null,
            "min_height": null,
            "min_width": null,
            "object_fit": null,
            "object_position": null,
            "order": null,
            "overflow": null,
            "overflow_x": null,
            "overflow_y": null,
            "padding": null,
            "right": null,
            "top": null,
            "visibility": null,
            "width": null
          }
        },
        "c8db9ca1fbb64a33acb85a5087cd93bc": {
          "model_module": "@jupyter-widgets/controls",
          "model_name": "DescriptionStyleModel",
          "model_module_version": "1.5.0",
          "state": {
            "_model_module": "@jupyter-widgets/controls",
            "_model_module_version": "1.5.0",
            "_model_name": "DescriptionStyleModel",
            "_view_count": null,
            "_view_module": "@jupyter-widgets/base",
            "_view_module_version": "1.2.0",
            "_view_name": "StyleView",
            "description_width": ""
          }
        },
        "66cdb07c591a4a07987116676d238ff8": {
          "model_module": "@jupyter-widgets/controls",
          "model_name": "HBoxModel",
          "model_module_version": "1.5.0",
          "state": {
            "_dom_classes": [],
            "_model_module": "@jupyter-widgets/controls",
            "_model_module_version": "1.5.0",
            "_model_name": "HBoxModel",
            "_view_count": null,
            "_view_module": "@jupyter-widgets/controls",
            "_view_module_version": "1.5.0",
            "_view_name": "HBoxView",
            "box_style": "",
            "children": [
              "IPY_MODEL_037608fc7c694bdfbe64de4680acd3f0",
              "IPY_MODEL_f12637da8c614f2fafb90fb349d7ad2c",
              "IPY_MODEL_76ea188eb6674dd7b740a539dfc6a258"
            ],
            "layout": "IPY_MODEL_df02833f4d93401690fda6249fbe86d3"
          }
        },
        "037608fc7c694bdfbe64de4680acd3f0": {
          "model_module": "@jupyter-widgets/controls",
          "model_name": "HTMLModel",
          "model_module_version": "1.5.0",
          "state": {
            "_dom_classes": [],
            "_model_module": "@jupyter-widgets/controls",
            "_model_module_version": "1.5.0",
            "_model_name": "HTMLModel",
            "_view_count": null,
            "_view_module": "@jupyter-widgets/controls",
            "_view_module_version": "1.5.0",
            "_view_name": "HTMLView",
            "description": "",
            "description_tooltip": null,
            "layout": "IPY_MODEL_ff652c0f2636448598f29a1798c8921e",
            "placeholder": "​",
            "style": "IPY_MODEL_5907ee52da4e4b138d2ba9f89c908743",
            "value": "special_tokens_map.json: 100%"
          }
        },
        "f12637da8c614f2fafb90fb349d7ad2c": {
          "model_module": "@jupyter-widgets/controls",
          "model_name": "FloatProgressModel",
          "model_module_version": "1.5.0",
          "state": {
            "_dom_classes": [],
            "_model_module": "@jupyter-widgets/controls",
            "_model_module_version": "1.5.0",
            "_model_name": "FloatProgressModel",
            "_view_count": null,
            "_view_module": "@jupyter-widgets/controls",
            "_view_module_version": "1.5.0",
            "_view_name": "ProgressView",
            "bar_style": "success",
            "description": "",
            "description_tooltip": null,
            "layout": "IPY_MODEL_f4973136a3764383ab5118bde270a10d",
            "max": 1140,
            "min": 0,
            "orientation": "horizontal",
            "style": "IPY_MODEL_bc1bfd264b0f49ecb4f496010afa2b48",
            "value": 1140
          }
        },
        "76ea188eb6674dd7b740a539dfc6a258": {
          "model_module": "@jupyter-widgets/controls",
          "model_name": "HTMLModel",
          "model_module_version": "1.5.0",
          "state": {
            "_dom_classes": [],
            "_model_module": "@jupyter-widgets/controls",
            "_model_module_version": "1.5.0",
            "_model_name": "HTMLModel",
            "_view_count": null,
            "_view_module": "@jupyter-widgets/controls",
            "_view_module_version": "1.5.0",
            "_view_name": "HTMLView",
            "description": "",
            "description_tooltip": null,
            "layout": "IPY_MODEL_27e150d81ceb44eabba1f26a6daaadfa",
            "placeholder": "​",
            "style": "IPY_MODEL_6a5898c4e45a482b9d5df81a848e3824",
            "value": " 1.14k/1.14k [00:00&lt;00:00, 92.9kB/s]"
          }
        },
        "df02833f4d93401690fda6249fbe86d3": {
          "model_module": "@jupyter-widgets/base",
          "model_name": "LayoutModel",
          "model_module_version": "1.2.0",
          "state": {
            "_model_module": "@jupyter-widgets/base",
            "_model_module_version": "1.2.0",
            "_model_name": "LayoutModel",
            "_view_count": null,
            "_view_module": "@jupyter-widgets/base",
            "_view_module_version": "1.2.0",
            "_view_name": "LayoutView",
            "align_content": null,
            "align_items": null,
            "align_self": null,
            "border": null,
            "bottom": null,
            "display": null,
            "flex": null,
            "flex_flow": null,
            "grid_area": null,
            "grid_auto_columns": null,
            "grid_auto_flow": null,
            "grid_auto_rows": null,
            "grid_column": null,
            "grid_gap": null,
            "grid_row": null,
            "grid_template_areas": null,
            "grid_template_columns": null,
            "grid_template_rows": null,
            "height": null,
            "justify_content": null,
            "justify_items": null,
            "left": null,
            "margin": null,
            "max_height": null,
            "max_width": null,
            "min_height": null,
            "min_width": null,
            "object_fit": null,
            "object_position": null,
            "order": null,
            "overflow": null,
            "overflow_x": null,
            "overflow_y": null,
            "padding": null,
            "right": null,
            "top": null,
            "visibility": null,
            "width": null
          }
        },
        "ff652c0f2636448598f29a1798c8921e": {
          "model_module": "@jupyter-widgets/base",
          "model_name": "LayoutModel",
          "model_module_version": "1.2.0",
          "state": {
            "_model_module": "@jupyter-widgets/base",
            "_model_module_version": "1.2.0",
            "_model_name": "LayoutModel",
            "_view_count": null,
            "_view_module": "@jupyter-widgets/base",
            "_view_module_version": "1.2.0",
            "_view_name": "LayoutView",
            "align_content": null,
            "align_items": null,
            "align_self": null,
            "border": null,
            "bottom": null,
            "display": null,
            "flex": null,
            "flex_flow": null,
            "grid_area": null,
            "grid_auto_columns": null,
            "grid_auto_flow": null,
            "grid_auto_rows": null,
            "grid_column": null,
            "grid_gap": null,
            "grid_row": null,
            "grid_template_areas": null,
            "grid_template_columns": null,
            "grid_template_rows": null,
            "height": null,
            "justify_content": null,
            "justify_items": null,
            "left": null,
            "margin": null,
            "max_height": null,
            "max_width": null,
            "min_height": null,
            "min_width": null,
            "object_fit": null,
            "object_position": null,
            "order": null,
            "overflow": null,
            "overflow_x": null,
            "overflow_y": null,
            "padding": null,
            "right": null,
            "top": null,
            "visibility": null,
            "width": null
          }
        },
        "5907ee52da4e4b138d2ba9f89c908743": {
          "model_module": "@jupyter-widgets/controls",
          "model_name": "DescriptionStyleModel",
          "model_module_version": "1.5.0",
          "state": {
            "_model_module": "@jupyter-widgets/controls",
            "_model_module_version": "1.5.0",
            "_model_name": "DescriptionStyleModel",
            "_view_count": null,
            "_view_module": "@jupyter-widgets/base",
            "_view_module_version": "1.2.0",
            "_view_name": "StyleView",
            "description_width": ""
          }
        },
        "f4973136a3764383ab5118bde270a10d": {
          "model_module": "@jupyter-widgets/base",
          "model_name": "LayoutModel",
          "model_module_version": "1.2.0",
          "state": {
            "_model_module": "@jupyter-widgets/base",
            "_model_module_version": "1.2.0",
            "_model_name": "LayoutModel",
            "_view_count": null,
            "_view_module": "@jupyter-widgets/base",
            "_view_module_version": "1.2.0",
            "_view_name": "LayoutView",
            "align_content": null,
            "align_items": null,
            "align_self": null,
            "border": null,
            "bottom": null,
            "display": null,
            "flex": null,
            "flex_flow": null,
            "grid_area": null,
            "grid_auto_columns": null,
            "grid_auto_flow": null,
            "grid_auto_rows": null,
            "grid_column": null,
            "grid_gap": null,
            "grid_row": null,
            "grid_template_areas": null,
            "grid_template_columns": null,
            "grid_template_rows": null,
            "height": null,
            "justify_content": null,
            "justify_items": null,
            "left": null,
            "margin": null,
            "max_height": null,
            "max_width": null,
            "min_height": null,
            "min_width": null,
            "object_fit": null,
            "object_position": null,
            "order": null,
            "overflow": null,
            "overflow_x": null,
            "overflow_y": null,
            "padding": null,
            "right": null,
            "top": null,
            "visibility": null,
            "width": null
          }
        },
        "bc1bfd264b0f49ecb4f496010afa2b48": {
          "model_module": "@jupyter-widgets/controls",
          "model_name": "ProgressStyleModel",
          "model_module_version": "1.5.0",
          "state": {
            "_model_module": "@jupyter-widgets/controls",
            "_model_module_version": "1.5.0",
            "_model_name": "ProgressStyleModel",
            "_view_count": null,
            "_view_module": "@jupyter-widgets/base",
            "_view_module_version": "1.2.0",
            "_view_name": "StyleView",
            "bar_color": null,
            "description_width": ""
          }
        },
        "27e150d81ceb44eabba1f26a6daaadfa": {
          "model_module": "@jupyter-widgets/base",
          "model_name": "LayoutModel",
          "model_module_version": "1.2.0",
          "state": {
            "_model_module": "@jupyter-widgets/base",
            "_model_module_version": "1.2.0",
            "_model_name": "LayoutModel",
            "_view_count": null,
            "_view_module": "@jupyter-widgets/base",
            "_view_module_version": "1.2.0",
            "_view_name": "LayoutView",
            "align_content": null,
            "align_items": null,
            "align_self": null,
            "border": null,
            "bottom": null,
            "display": null,
            "flex": null,
            "flex_flow": null,
            "grid_area": null,
            "grid_auto_columns": null,
            "grid_auto_flow": null,
            "grid_auto_rows": null,
            "grid_column": null,
            "grid_gap": null,
            "grid_row": null,
            "grid_template_areas": null,
            "grid_template_columns": null,
            "grid_template_rows": null,
            "height": null,
            "justify_content": null,
            "justify_items": null,
            "left": null,
            "margin": null,
            "max_height": null,
            "max_width": null,
            "min_height": null,
            "min_width": null,
            "object_fit": null,
            "object_position": null,
            "order": null,
            "overflow": null,
            "overflow_x": null,
            "overflow_y": null,
            "padding": null,
            "right": null,
            "top": null,
            "visibility": null,
            "width": null
          }
        },
        "6a5898c4e45a482b9d5df81a848e3824": {
          "model_module": "@jupyter-widgets/controls",
          "model_name": "DescriptionStyleModel",
          "model_module_version": "1.5.0",
          "state": {
            "_model_module": "@jupyter-widgets/controls",
            "_model_module_version": "1.5.0",
            "_model_name": "DescriptionStyleModel",
            "_view_count": null,
            "_view_module": "@jupyter-widgets/base",
            "_view_module_version": "1.2.0",
            "_view_name": "StyleView",
            "description_width": ""
          }
        },
        "60ec5cfd0c7d4ef9aad297e411812596": {
          "model_module": "@jupyter-widgets/controls",
          "model_name": "HBoxModel",
          "model_module_version": "1.5.0",
          "state": {
            "_dom_classes": [],
            "_model_module": "@jupyter-widgets/controls",
            "_model_module_version": "1.5.0",
            "_model_name": "HBoxModel",
            "_view_count": null,
            "_view_module": "@jupyter-widgets/controls",
            "_view_module_version": "1.5.0",
            "_view_name": "HBoxView",
            "box_style": "",
            "children": [
              "IPY_MODEL_859b505c7d8040159f1c3b2b00d5dc8f",
              "IPY_MODEL_f3bb0090cacd415f82245a0d394c01a8",
              "IPY_MODEL_33422637364141ba8bdb24cc94c7104f"
            ],
            "layout": "IPY_MODEL_650c31e44c7e4cceb5d6cc306bd61bc8"
          }
        },
        "859b505c7d8040159f1c3b2b00d5dc8f": {
          "model_module": "@jupyter-widgets/controls",
          "model_name": "HTMLModel",
          "model_module_version": "1.5.0",
          "state": {
            "_dom_classes": [],
            "_model_module": "@jupyter-widgets/controls",
            "_model_module_version": "1.5.0",
            "_model_name": "HTMLModel",
            "_view_count": null,
            "_view_module": "@jupyter-widgets/controls",
            "_view_module_version": "1.5.0",
            "_view_name": "HTMLView",
            "description": "",
            "description_tooltip": null,
            "layout": "IPY_MODEL_b46494024ac44692a073c96c96075223",
            "placeholder": "​",
            "style": "IPY_MODEL_63944195c0d74afea4c545f43d032242",
            "value": "config.json: 100%"
          }
        },
        "f3bb0090cacd415f82245a0d394c01a8": {
          "model_module": "@jupyter-widgets/controls",
          "model_name": "FloatProgressModel",
          "model_module_version": "1.5.0",
          "state": {
            "_dom_classes": [],
            "_model_module": "@jupyter-widgets/controls",
            "_model_module_version": "1.5.0",
            "_model_name": "FloatProgressModel",
            "_view_count": null,
            "_view_module": "@jupyter-widgets/controls",
            "_view_module_version": "1.5.0",
            "_view_name": "ProgressView",
            "bar_style": "success",
            "description": "",
            "description_tooltip": null,
            "layout": "IPY_MODEL_6cc9bfc0c3fe4dac94c37e88f9198154",
            "max": 908,
            "min": 0,
            "orientation": "horizontal",
            "style": "IPY_MODEL_b767de062e234fab8fe860ad566d9ee4",
            "value": 908
          }
        },
        "33422637364141ba8bdb24cc94c7104f": {
          "model_module": "@jupyter-widgets/controls",
          "model_name": "HTMLModel",
          "model_module_version": "1.5.0",
          "state": {
            "_dom_classes": [],
            "_model_module": "@jupyter-widgets/controls",
            "_model_module_version": "1.5.0",
            "_model_name": "HTMLModel",
            "_view_count": null,
            "_view_module": "@jupyter-widgets/controls",
            "_view_module_version": "1.5.0",
            "_view_name": "HTMLView",
            "description": "",
            "description_tooltip": null,
            "layout": "IPY_MODEL_ec77ed98134c47b896b57af2eeab5f86",
            "placeholder": "​",
            "style": "IPY_MODEL_92e3bab35ada4dd4a7819ffaa211a720",
            "value": " 908/908 [00:00&lt;00:00, 77.0kB/s]"
          }
        },
        "650c31e44c7e4cceb5d6cc306bd61bc8": {
          "model_module": "@jupyter-widgets/base",
          "model_name": "LayoutModel",
          "model_module_version": "1.2.0",
          "state": {
            "_model_module": "@jupyter-widgets/base",
            "_model_module_version": "1.2.0",
            "_model_name": "LayoutModel",
            "_view_count": null,
            "_view_module": "@jupyter-widgets/base",
            "_view_module_version": "1.2.0",
            "_view_name": "LayoutView",
            "align_content": null,
            "align_items": null,
            "align_self": null,
            "border": null,
            "bottom": null,
            "display": null,
            "flex": null,
            "flex_flow": null,
            "grid_area": null,
            "grid_auto_columns": null,
            "grid_auto_flow": null,
            "grid_auto_rows": null,
            "grid_column": null,
            "grid_gap": null,
            "grid_row": null,
            "grid_template_areas": null,
            "grid_template_columns": null,
            "grid_template_rows": null,
            "height": null,
            "justify_content": null,
            "justify_items": null,
            "left": null,
            "margin": null,
            "max_height": null,
            "max_width": null,
            "min_height": null,
            "min_width": null,
            "object_fit": null,
            "object_position": null,
            "order": null,
            "overflow": null,
            "overflow_x": null,
            "overflow_y": null,
            "padding": null,
            "right": null,
            "top": null,
            "visibility": null,
            "width": null
          }
        },
        "b46494024ac44692a073c96c96075223": {
          "model_module": "@jupyter-widgets/base",
          "model_name": "LayoutModel",
          "model_module_version": "1.2.0",
          "state": {
            "_model_module": "@jupyter-widgets/base",
            "_model_module_version": "1.2.0",
            "_model_name": "LayoutModel",
            "_view_count": null,
            "_view_module": "@jupyter-widgets/base",
            "_view_module_version": "1.2.0",
            "_view_name": "LayoutView",
            "align_content": null,
            "align_items": null,
            "align_self": null,
            "border": null,
            "bottom": null,
            "display": null,
            "flex": null,
            "flex_flow": null,
            "grid_area": null,
            "grid_auto_columns": null,
            "grid_auto_flow": null,
            "grid_auto_rows": null,
            "grid_column": null,
            "grid_gap": null,
            "grid_row": null,
            "grid_template_areas": null,
            "grid_template_columns": null,
            "grid_template_rows": null,
            "height": null,
            "justify_content": null,
            "justify_items": null,
            "left": null,
            "margin": null,
            "max_height": null,
            "max_width": null,
            "min_height": null,
            "min_width": null,
            "object_fit": null,
            "object_position": null,
            "order": null,
            "overflow": null,
            "overflow_x": null,
            "overflow_y": null,
            "padding": null,
            "right": null,
            "top": null,
            "visibility": null,
            "width": null
          }
        },
        "63944195c0d74afea4c545f43d032242": {
          "model_module": "@jupyter-widgets/controls",
          "model_name": "DescriptionStyleModel",
          "model_module_version": "1.5.0",
          "state": {
            "_model_module": "@jupyter-widgets/controls",
            "_model_module_version": "1.5.0",
            "_model_name": "DescriptionStyleModel",
            "_view_count": null,
            "_view_module": "@jupyter-widgets/base",
            "_view_module_version": "1.2.0",
            "_view_name": "StyleView",
            "description_width": ""
          }
        },
        "6cc9bfc0c3fe4dac94c37e88f9198154": {
          "model_module": "@jupyter-widgets/base",
          "model_name": "LayoutModel",
          "model_module_version": "1.2.0",
          "state": {
            "_model_module": "@jupyter-widgets/base",
            "_model_module_version": "1.2.0",
            "_model_name": "LayoutModel",
            "_view_count": null,
            "_view_module": "@jupyter-widgets/base",
            "_view_module_version": "1.2.0",
            "_view_name": "LayoutView",
            "align_content": null,
            "align_items": null,
            "align_self": null,
            "border": null,
            "bottom": null,
            "display": null,
            "flex": null,
            "flex_flow": null,
            "grid_area": null,
            "grid_auto_columns": null,
            "grid_auto_flow": null,
            "grid_auto_rows": null,
            "grid_column": null,
            "grid_gap": null,
            "grid_row": null,
            "grid_template_areas": null,
            "grid_template_columns": null,
            "grid_template_rows": null,
            "height": null,
            "justify_content": null,
            "justify_items": null,
            "left": null,
            "margin": null,
            "max_height": null,
            "max_width": null,
            "min_height": null,
            "min_width": null,
            "object_fit": null,
            "object_position": null,
            "order": null,
            "overflow": null,
            "overflow_x": null,
            "overflow_y": null,
            "padding": null,
            "right": null,
            "top": null,
            "visibility": null,
            "width": null
          }
        },
        "b767de062e234fab8fe860ad566d9ee4": {
          "model_module": "@jupyter-widgets/controls",
          "model_name": "ProgressStyleModel",
          "model_module_version": "1.5.0",
          "state": {
            "_model_module": "@jupyter-widgets/controls",
            "_model_module_version": "1.5.0",
            "_model_name": "ProgressStyleModel",
            "_view_count": null,
            "_view_module": "@jupyter-widgets/base",
            "_view_module_version": "1.2.0",
            "_view_name": "StyleView",
            "bar_color": null,
            "description_width": ""
          }
        },
        "ec77ed98134c47b896b57af2eeab5f86": {
          "model_module": "@jupyter-widgets/base",
          "model_name": "LayoutModel",
          "model_module_version": "1.2.0",
          "state": {
            "_model_module": "@jupyter-widgets/base",
            "_model_module_version": "1.2.0",
            "_model_name": "LayoutModel",
            "_view_count": null,
            "_view_module": "@jupyter-widgets/base",
            "_view_module_version": "1.2.0",
            "_view_name": "LayoutView",
            "align_content": null,
            "align_items": null,
            "align_self": null,
            "border": null,
            "bottom": null,
            "display": null,
            "flex": null,
            "flex_flow": null,
            "grid_area": null,
            "grid_auto_columns": null,
            "grid_auto_flow": null,
            "grid_auto_rows": null,
            "grid_column": null,
            "grid_gap": null,
            "grid_row": null,
            "grid_template_areas": null,
            "grid_template_columns": null,
            "grid_template_rows": null,
            "height": null,
            "justify_content": null,
            "justify_items": null,
            "left": null,
            "margin": null,
            "max_height": null,
            "max_width": null,
            "min_height": null,
            "min_width": null,
            "object_fit": null,
            "object_position": null,
            "order": null,
            "overflow": null,
            "overflow_x": null,
            "overflow_y": null,
            "padding": null,
            "right": null,
            "top": null,
            "visibility": null,
            "width": null
          }
        },
        "92e3bab35ada4dd4a7819ffaa211a720": {
          "model_module": "@jupyter-widgets/controls",
          "model_name": "DescriptionStyleModel",
          "model_module_version": "1.5.0",
          "state": {
            "_model_module": "@jupyter-widgets/controls",
            "_model_module_version": "1.5.0",
            "_model_name": "DescriptionStyleModel",
            "_view_count": null,
            "_view_module": "@jupyter-widgets/base",
            "_view_module_version": "1.2.0",
            "_view_name": "StyleView",
            "description_width": ""
          }
        },
        "3828dfe6b6894a36b55ed572fa216385": {
          "model_module": "@jupyter-widgets/controls",
          "model_name": "HBoxModel",
          "model_module_version": "1.5.0",
          "state": {
            "_dom_classes": [],
            "_model_module": "@jupyter-widgets/controls",
            "_model_module_version": "1.5.0",
            "_model_name": "HBoxModel",
            "_view_count": null,
            "_view_module": "@jupyter-widgets/controls",
            "_view_module_version": "1.5.0",
            "_view_name": "HBoxView",
            "box_style": "",
            "children": [
              "IPY_MODEL_54237be81f964c60af057be8305ab05d",
              "IPY_MODEL_ae71d75889d649219f493692a06be0ee",
              "IPY_MODEL_11a4be5dec0040bfac2198bd49dff850"
            ],
            "layout": "IPY_MODEL_a319f70b63c34ccc84fedaae3345e4a8"
          }
        },
        "54237be81f964c60af057be8305ab05d": {
          "model_module": "@jupyter-widgets/controls",
          "model_name": "HTMLModel",
          "model_module_version": "1.5.0",
          "state": {
            "_dom_classes": [],
            "_model_module": "@jupyter-widgets/controls",
            "_model_module_version": "1.5.0",
            "_model_name": "HTMLModel",
            "_view_count": null,
            "_view_module": "@jupyter-widgets/controls",
            "_view_module_version": "1.5.0",
            "_view_name": "HTMLView",
            "description": "",
            "description_tooltip": null,
            "layout": "IPY_MODEL_e9751e6245254acbbd480f50825e253b",
            "placeholder": "​",
            "style": "IPY_MODEL_eb01decaa144435e86ad499afd86bc2d",
            "value": "pytorch_model.bin: 100%"
          }
        },
        "ae71d75889d649219f493692a06be0ee": {
          "model_module": "@jupyter-widgets/controls",
          "model_name": "FloatProgressModel",
          "model_module_version": "1.5.0",
          "state": {
            "_dom_classes": [],
            "_model_module": "@jupyter-widgets/controls",
            "_model_module_version": "1.5.0",
            "_model_name": "FloatProgressModel",
            "_view_count": null,
            "_view_module": "@jupyter-widgets/controls",
            "_view_module_version": "1.5.0",
            "_view_name": "ProgressView",
            "bar_style": "success",
            "description": "",
            "description_tooltip": null,
            "layout": "IPY_MODEL_1fdc3c7961ef4ad093a7816009a59519",
            "max": 1935796948,
            "min": 0,
            "orientation": "horizontal",
            "style": "IPY_MODEL_b5c7ed44312348ce9a6a20d14ba085c0",
            "value": 1935796948
          }
        },
        "11a4be5dec0040bfac2198bd49dff850": {
          "model_module": "@jupyter-widgets/controls",
          "model_name": "HTMLModel",
          "model_module_version": "1.5.0",
          "state": {
            "_dom_classes": [],
            "_model_module": "@jupyter-widgets/controls",
            "_model_module_version": "1.5.0",
            "_model_name": "HTMLModel",
            "_view_count": null,
            "_view_module": "@jupyter-widgets/controls",
            "_view_module_version": "1.5.0",
            "_view_name": "HTMLView",
            "description": "",
            "description_tooltip": null,
            "layout": "IPY_MODEL_627ba0a187ef4dae8ec571e2258b7d74",
            "placeholder": "​",
            "style": "IPY_MODEL_132222d455af4a43832b71b76cc5e6b0",
            "value": " 1.94G/1.94G [00:04&lt;00:00, 477MB/s]"
          }
        },
        "a319f70b63c34ccc84fedaae3345e4a8": {
          "model_module": "@jupyter-widgets/base",
          "model_name": "LayoutModel",
          "model_module_version": "1.2.0",
          "state": {
            "_model_module": "@jupyter-widgets/base",
            "_model_module_version": "1.2.0",
            "_model_name": "LayoutModel",
            "_view_count": null,
            "_view_module": "@jupyter-widgets/base",
            "_view_module_version": "1.2.0",
            "_view_name": "LayoutView",
            "align_content": null,
            "align_items": null,
            "align_self": null,
            "border": null,
            "bottom": null,
            "display": null,
            "flex": null,
            "flex_flow": null,
            "grid_area": null,
            "grid_auto_columns": null,
            "grid_auto_flow": null,
            "grid_auto_rows": null,
            "grid_column": null,
            "grid_gap": null,
            "grid_row": null,
            "grid_template_areas": null,
            "grid_template_columns": null,
            "grid_template_rows": null,
            "height": null,
            "justify_content": null,
            "justify_items": null,
            "left": null,
            "margin": null,
            "max_height": null,
            "max_width": null,
            "min_height": null,
            "min_width": null,
            "object_fit": null,
            "object_position": null,
            "order": null,
            "overflow": null,
            "overflow_x": null,
            "overflow_y": null,
            "padding": null,
            "right": null,
            "top": null,
            "visibility": null,
            "width": null
          }
        },
        "e9751e6245254acbbd480f50825e253b": {
          "model_module": "@jupyter-widgets/base",
          "model_name": "LayoutModel",
          "model_module_version": "1.2.0",
          "state": {
            "_model_module": "@jupyter-widgets/base",
            "_model_module_version": "1.2.0",
            "_model_name": "LayoutModel",
            "_view_count": null,
            "_view_module": "@jupyter-widgets/base",
            "_view_module_version": "1.2.0",
            "_view_name": "LayoutView",
            "align_content": null,
            "align_items": null,
            "align_self": null,
            "border": null,
            "bottom": null,
            "display": null,
            "flex": null,
            "flex_flow": null,
            "grid_area": null,
            "grid_auto_columns": null,
            "grid_auto_flow": null,
            "grid_auto_rows": null,
            "grid_column": null,
            "grid_gap": null,
            "grid_row": null,
            "grid_template_areas": null,
            "grid_template_columns": null,
            "grid_template_rows": null,
            "height": null,
            "justify_content": null,
            "justify_items": null,
            "left": null,
            "margin": null,
            "max_height": null,
            "max_width": null,
            "min_height": null,
            "min_width": null,
            "object_fit": null,
            "object_position": null,
            "order": null,
            "overflow": null,
            "overflow_x": null,
            "overflow_y": null,
            "padding": null,
            "right": null,
            "top": null,
            "visibility": null,
            "width": null
          }
        },
        "eb01decaa144435e86ad499afd86bc2d": {
          "model_module": "@jupyter-widgets/controls",
          "model_name": "DescriptionStyleModel",
          "model_module_version": "1.5.0",
          "state": {
            "_model_module": "@jupyter-widgets/controls",
            "_model_module_version": "1.5.0",
            "_model_name": "DescriptionStyleModel",
            "_view_count": null,
            "_view_module": "@jupyter-widgets/base",
            "_view_module_version": "1.2.0",
            "_view_name": "StyleView",
            "description_width": ""
          }
        },
        "1fdc3c7961ef4ad093a7816009a59519": {
          "model_module": "@jupyter-widgets/base",
          "model_name": "LayoutModel",
          "model_module_version": "1.2.0",
          "state": {
            "_model_module": "@jupyter-widgets/base",
            "_model_module_version": "1.2.0",
            "_model_name": "LayoutModel",
            "_view_count": null,
            "_view_module": "@jupyter-widgets/base",
            "_view_module_version": "1.2.0",
            "_view_name": "LayoutView",
            "align_content": null,
            "align_items": null,
            "align_self": null,
            "border": null,
            "bottom": null,
            "display": null,
            "flex": null,
            "flex_flow": null,
            "grid_area": null,
            "grid_auto_columns": null,
            "grid_auto_flow": null,
            "grid_auto_rows": null,
            "grid_column": null,
            "grid_gap": null,
            "grid_row": null,
            "grid_template_areas": null,
            "grid_template_columns": null,
            "grid_template_rows": null,
            "height": null,
            "justify_content": null,
            "justify_items": null,
            "left": null,
            "margin": null,
            "max_height": null,
            "max_width": null,
            "min_height": null,
            "min_width": null,
            "object_fit": null,
            "object_position": null,
            "order": null,
            "overflow": null,
            "overflow_x": null,
            "overflow_y": null,
            "padding": null,
            "right": null,
            "top": null,
            "visibility": null,
            "width": null
          }
        },
        "b5c7ed44312348ce9a6a20d14ba085c0": {
          "model_module": "@jupyter-widgets/controls",
          "model_name": "ProgressStyleModel",
          "model_module_version": "1.5.0",
          "state": {
            "_model_module": "@jupyter-widgets/controls",
            "_model_module_version": "1.5.0",
            "_model_name": "ProgressStyleModel",
            "_view_count": null,
            "_view_module": "@jupyter-widgets/base",
            "_view_module_version": "1.2.0",
            "_view_name": "StyleView",
            "bar_color": null,
            "description_width": ""
          }
        },
        "627ba0a187ef4dae8ec571e2258b7d74": {
          "model_module": "@jupyter-widgets/base",
          "model_name": "LayoutModel",
          "model_module_version": "1.2.0",
          "state": {
            "_model_module": "@jupyter-widgets/base",
            "_model_module_version": "1.2.0",
            "_model_name": "LayoutModel",
            "_view_count": null,
            "_view_module": "@jupyter-widgets/base",
            "_view_module_version": "1.2.0",
            "_view_name": "LayoutView",
            "align_content": null,
            "align_items": null,
            "align_self": null,
            "border": null,
            "bottom": null,
            "display": null,
            "flex": null,
            "flex_flow": null,
            "grid_area": null,
            "grid_auto_columns": null,
            "grid_auto_flow": null,
            "grid_auto_rows": null,
            "grid_column": null,
            "grid_gap": null,
            "grid_row": null,
            "grid_template_areas": null,
            "grid_template_columns": null,
            "grid_template_rows": null,
            "height": null,
            "justify_content": null,
            "justify_items": null,
            "left": null,
            "margin": null,
            "max_height": null,
            "max_width": null,
            "min_height": null,
            "min_width": null,
            "object_fit": null,
            "object_position": null,
            "order": null,
            "overflow": null,
            "overflow_x": null,
            "overflow_y": null,
            "padding": null,
            "right": null,
            "top": null,
            "visibility": null,
            "width": null
          }
        },
        "132222d455af4a43832b71b76cc5e6b0": {
          "model_module": "@jupyter-widgets/controls",
          "model_name": "DescriptionStyleModel",
          "model_module_version": "1.5.0",
          "state": {
            "_model_module": "@jupyter-widgets/controls",
            "_model_module_version": "1.5.0",
            "_model_name": "DescriptionStyleModel",
            "_view_count": null,
            "_view_module": "@jupyter-widgets/base",
            "_view_module_version": "1.2.0",
            "_view_name": "StyleView",
            "description_width": ""
          }
        },
        "fe791b36935642d19735b8b2bfb77fe3": {
          "model_module": "@jupyter-widgets/controls",
          "model_name": "HBoxModel",
          "model_module_version": "1.5.0",
          "state": {
            "_dom_classes": [],
            "_model_module": "@jupyter-widgets/controls",
            "_model_module_version": "1.5.0",
            "_model_name": "HBoxModel",
            "_view_count": null,
            "_view_module": "@jupyter-widgets/controls",
            "_view_module_version": "1.5.0",
            "_view_name": "HBoxView",
            "box_style": "",
            "children": [
              "IPY_MODEL_08773e687e8c4e0b85244867fe976216",
              "IPY_MODEL_5fd3433fa2be4ef28a1664973e0dac5e",
              "IPY_MODEL_57f5f56e75394628bee08ebe00d86151"
            ],
            "layout": "IPY_MODEL_2a6bfc96522c4cabb935f2f40fbb23a1"
          }
        },
        "08773e687e8c4e0b85244867fe976216": {
          "model_module": "@jupyter-widgets/controls",
          "model_name": "HTMLModel",
          "model_module_version": "1.5.0",
          "state": {
            "_dom_classes": [],
            "_model_module": "@jupyter-widgets/controls",
            "_model_module_version": "1.5.0",
            "_model_name": "HTMLModel",
            "_view_count": null,
            "_view_module": "@jupyter-widgets/controls",
            "_view_module_version": "1.5.0",
            "_view_name": "HTMLView",
            "description": "",
            "description_tooltip": null,
            "layout": "IPY_MODEL_50619ee4315c465084384b2a7fc9394f",
            "placeholder": "​",
            "style": "IPY_MODEL_39d529ceca2d4348bc4ace27b85d7b3f",
            "value": "generation_config.json: 100%"
          }
        },
        "5fd3433fa2be4ef28a1664973e0dac5e": {
          "model_module": "@jupyter-widgets/controls",
          "model_name": "FloatProgressModel",
          "model_module_version": "1.5.0",
          "state": {
            "_dom_classes": [],
            "_model_module": "@jupyter-widgets/controls",
            "_model_module_version": "1.5.0",
            "_model_name": "FloatProgressModel",
            "_view_count": null,
            "_view_module": "@jupyter-widgets/controls",
            "_view_module_version": "1.5.0",
            "_view_name": "ProgressView",
            "bar_style": "success",
            "description": "",
            "description_tooltip": null,
            "layout": "IPY_MODEL_bc45f23aec88415c97c59e615c90c35a",
            "max": 233,
            "min": 0,
            "orientation": "horizontal",
            "style": "IPY_MODEL_a3f14b1d4c214525a40b24c6fc5c27c9",
            "value": 233
          }
        },
        "57f5f56e75394628bee08ebe00d86151": {
          "model_module": "@jupyter-widgets/controls",
          "model_name": "HTMLModel",
          "model_module_version": "1.5.0",
          "state": {
            "_dom_classes": [],
            "_model_module": "@jupyter-widgets/controls",
            "_model_module_version": "1.5.0",
            "_model_name": "HTMLModel",
            "_view_count": null,
            "_view_module": "@jupyter-widgets/controls",
            "_view_module_version": "1.5.0",
            "_view_name": "HTMLView",
            "description": "",
            "description_tooltip": null,
            "layout": "IPY_MODEL_674da4d1e6e24386aecae9d4af79666a",
            "placeholder": "​",
            "style": "IPY_MODEL_d16269f3a335492c9522265da98ef770",
            "value": " 233/233 [00:00&lt;00:00, 17.5kB/s]"
          }
        },
        "2a6bfc96522c4cabb935f2f40fbb23a1": {
          "model_module": "@jupyter-widgets/base",
          "model_name": "LayoutModel",
          "model_module_version": "1.2.0",
          "state": {
            "_model_module": "@jupyter-widgets/base",
            "_model_module_version": "1.2.0",
            "_model_name": "LayoutModel",
            "_view_count": null,
            "_view_module": "@jupyter-widgets/base",
            "_view_module_version": "1.2.0",
            "_view_name": "LayoutView",
            "align_content": null,
            "align_items": null,
            "align_self": null,
            "border": null,
            "bottom": null,
            "display": null,
            "flex": null,
            "flex_flow": null,
            "grid_area": null,
            "grid_auto_columns": null,
            "grid_auto_flow": null,
            "grid_auto_rows": null,
            "grid_column": null,
            "grid_gap": null,
            "grid_row": null,
            "grid_template_areas": null,
            "grid_template_columns": null,
            "grid_template_rows": null,
            "height": null,
            "justify_content": null,
            "justify_items": null,
            "left": null,
            "margin": null,
            "max_height": null,
            "max_width": null,
            "min_height": null,
            "min_width": null,
            "object_fit": null,
            "object_position": null,
            "order": null,
            "overflow": null,
            "overflow_x": null,
            "overflow_y": null,
            "padding": null,
            "right": null,
            "top": null,
            "visibility": null,
            "width": null
          }
        },
        "50619ee4315c465084384b2a7fc9394f": {
          "model_module": "@jupyter-widgets/base",
          "model_name": "LayoutModel",
          "model_module_version": "1.2.0",
          "state": {
            "_model_module": "@jupyter-widgets/base",
            "_model_module_version": "1.2.0",
            "_model_name": "LayoutModel",
            "_view_count": null,
            "_view_module": "@jupyter-widgets/base",
            "_view_module_version": "1.2.0",
            "_view_name": "LayoutView",
            "align_content": null,
            "align_items": null,
            "align_self": null,
            "border": null,
            "bottom": null,
            "display": null,
            "flex": null,
            "flex_flow": null,
            "grid_area": null,
            "grid_auto_columns": null,
            "grid_auto_flow": null,
            "grid_auto_rows": null,
            "grid_column": null,
            "grid_gap": null,
            "grid_row": null,
            "grid_template_areas": null,
            "grid_template_columns": null,
            "grid_template_rows": null,
            "height": null,
            "justify_content": null,
            "justify_items": null,
            "left": null,
            "margin": null,
            "max_height": null,
            "max_width": null,
            "min_height": null,
            "min_width": null,
            "object_fit": null,
            "object_position": null,
            "order": null,
            "overflow": null,
            "overflow_x": null,
            "overflow_y": null,
            "padding": null,
            "right": null,
            "top": null,
            "visibility": null,
            "width": null
          }
        },
        "39d529ceca2d4348bc4ace27b85d7b3f": {
          "model_module": "@jupyter-widgets/controls",
          "model_name": "DescriptionStyleModel",
          "model_module_version": "1.5.0",
          "state": {
            "_model_module": "@jupyter-widgets/controls",
            "_model_module_version": "1.5.0",
            "_model_name": "DescriptionStyleModel",
            "_view_count": null,
            "_view_module": "@jupyter-widgets/base",
            "_view_module_version": "1.2.0",
            "_view_name": "StyleView",
            "description_width": ""
          }
        },
        "bc45f23aec88415c97c59e615c90c35a": {
          "model_module": "@jupyter-widgets/base",
          "model_name": "LayoutModel",
          "model_module_version": "1.2.0",
          "state": {
            "_model_module": "@jupyter-widgets/base",
            "_model_module_version": "1.2.0",
            "_model_name": "LayoutModel",
            "_view_count": null,
            "_view_module": "@jupyter-widgets/base",
            "_view_module_version": "1.2.0",
            "_view_name": "LayoutView",
            "align_content": null,
            "align_items": null,
            "align_self": null,
            "border": null,
            "bottom": null,
            "display": null,
            "flex": null,
            "flex_flow": null,
            "grid_area": null,
            "grid_auto_columns": null,
            "grid_auto_flow": null,
            "grid_auto_rows": null,
            "grid_column": null,
            "grid_gap": null,
            "grid_row": null,
            "grid_template_areas": null,
            "grid_template_columns": null,
            "grid_template_rows": null,
            "height": null,
            "justify_content": null,
            "justify_items": null,
            "left": null,
            "margin": null,
            "max_height": null,
            "max_width": null,
            "min_height": null,
            "min_width": null,
            "object_fit": null,
            "object_position": null,
            "order": null,
            "overflow": null,
            "overflow_x": null,
            "overflow_y": null,
            "padding": null,
            "right": null,
            "top": null,
            "visibility": null,
            "width": null
          }
        },
        "a3f14b1d4c214525a40b24c6fc5c27c9": {
          "model_module": "@jupyter-widgets/controls",
          "model_name": "ProgressStyleModel",
          "model_module_version": "1.5.0",
          "state": {
            "_model_module": "@jupyter-widgets/controls",
            "_model_module_version": "1.5.0",
            "_model_name": "ProgressStyleModel",
            "_view_count": null,
            "_view_module": "@jupyter-widgets/base",
            "_view_module_version": "1.2.0",
            "_view_name": "StyleView",
            "bar_color": null,
            "description_width": ""
          }
        },
        "674da4d1e6e24386aecae9d4af79666a": {
          "model_module": "@jupyter-widgets/base",
          "model_name": "LayoutModel",
          "model_module_version": "1.2.0",
          "state": {
            "_model_module": "@jupyter-widgets/base",
            "_model_module_version": "1.2.0",
            "_model_name": "LayoutModel",
            "_view_count": null,
            "_view_module": "@jupyter-widgets/base",
            "_view_module_version": "1.2.0",
            "_view_name": "LayoutView",
            "align_content": null,
            "align_items": null,
            "align_self": null,
            "border": null,
            "bottom": null,
            "display": null,
            "flex": null,
            "flex_flow": null,
            "grid_area": null,
            "grid_auto_columns": null,
            "grid_auto_flow": null,
            "grid_auto_rows": null,
            "grid_column": null,
            "grid_gap": null,
            "grid_row": null,
            "grid_template_areas": null,
            "grid_template_columns": null,
            "grid_template_rows": null,
            "height": null,
            "justify_content": null,
            "justify_items": null,
            "left": null,
            "margin": null,
            "max_height": null,
            "max_width": null,
            "min_height": null,
            "min_width": null,
            "object_fit": null,
            "object_position": null,
            "order": null,
            "overflow": null,
            "overflow_x": null,
            "overflow_y": null,
            "padding": null,
            "right": null,
            "top": null,
            "visibility": null,
            "width": null
          }
        },
        "d16269f3a335492c9522265da98ef770": {
          "model_module": "@jupyter-widgets/controls",
          "model_name": "DescriptionStyleModel",
          "model_module_version": "1.5.0",
          "state": {
            "_model_module": "@jupyter-widgets/controls",
            "_model_module_version": "1.5.0",
            "_model_name": "DescriptionStyleModel",
            "_view_count": null,
            "_view_module": "@jupyter-widgets/base",
            "_view_module_version": "1.2.0",
            "_view_name": "StyleView",
            "description_width": ""
          }
        }
      }
    }
  },
  "nbformat": 4,
  "nbformat_minor": 0
}